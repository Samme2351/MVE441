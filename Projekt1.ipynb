{
 "cells": [
  {
   "cell_type": "code",
   "execution_count": 1,
   "metadata": {},
   "outputs": [],
   "source": [
    "import pandas as pd\n",
    "import numpy as np\n",
    "from sklearn.preprocessing import StandardScaler\n",
    "from sklearn.model_selection import train_test_split, cross_val_score\n",
    "from sklearn.metrics import accuracy_score\n",
    "from sklearn.pipeline import make_pipeline\n",
    "from sklearn.decomposition import PCA\n",
    "from sklearn.neighbors import KNeighborsClassifier\n",
    "from sklearn.svm import SVC  \n",
    "from sklearn.linear_model import LogisticRegression\n",
    "from sklearn.feature_selection import SelectKBest, f_classif\n",
    "from tqdm import tqdm\n",
    "\n",
    "#features = [f\"V{x}\" for x in range(1,2000)]\n",
    "df = pd.read_csv('Data/TCGAdata.txt', sep=\" \" ,header=0)\n",
    "labels_df = pd.read_csv('Data/TCGAlabels', sep=\" \" ,header=0)\n",
    "\n",
    "#Set max number of components for PCA\n",
    "max_num_components = 30\n",
    "\n",
    "num_components_range = range(1, max_num_components+1)"
   ]
  },
  {
   "cell_type": "code",
   "execution_count": 2,
   "metadata": {},
   "outputs": [],
   "source": [
    "#Pre-processes the data by splitting and normalizing \n",
    "def pre_process(data, labels, train_size):\n",
    "    #Split data into training and test data\n",
    "    X_train, X_test, y_train, y_test = train_test_split(df, labels_df.values.ravel(), test_size=1-train_size)\n",
    "    \n",
    "    #Standardize the rows (transposing as fit_transform standardizes along columns)\n",
    "    #Scale after split to avoid data leakage\n",
    "    scaler = StandardScaler()\n",
    "    X_train = pd.DataFrame(np.transpose(scaler.fit_transform(X_train.transpose())), columns=X_train.columns)\n",
    "    X_test = pd.DataFrame(np.transpose(scaler.fit_transform(X_test.transpose())), columns=X_test.columns)\n",
    "    \n",
    "    return X_train, X_test, y_train, y_test"
   ]
  },
  {
   "cell_type": "code",
   "execution_count": 3,
   "metadata": {},
   "outputs": [],
   "source": [
    "##KNN PCA\n",
    "\n",
    "def KNN_PCA(X_train, X_test, y_train, y_test):\n",
    "\n",
    "    KNN_mean_scores = np.zeros(max_num_components+1)\n",
    "\n",
    "    # Loop over different numbers of components\n",
    "    for n_components in tqdm(num_components_range):\n",
    "\n",
    "        #PCA\n",
    "\n",
    "        KNN_pipeline = make_pipeline(PCA(n_components=n_components), KNeighborsClassifier(n_neighbors=5))\n",
    "\n",
    "        KNN_scores = cross_val_score(KNN_pipeline, X_train, y_train, cv=5)\n",
    "        KNN_mean_score = KNN_scores.mean()\n",
    "\n",
    "        #KNN_mean_scores.append(KNN_mean_score)\n",
    "        KNN_mean_scores[n_components] = KNN_mean_score\n",
    "\n",
    "    KNN_optimal_n_components = np.where(KNN_mean_scores==KNN_mean_scores.max())[0][0]\n",
    "    cross_val_err = 1 - max(KNN_mean_scores)\n",
    "\n",
    "    print(\"KNN optimal number of PCA components:\", KNN_optimal_n_components)\n",
    "\n",
    "    opt_pipeline = make_pipeline(PCA(n_components=KNN_optimal_n_components), KNeighborsClassifier(n_neighbors=5))\n",
    "\n",
    "    opt_pipeline.fit(X_train, y_train)\n",
    "    train_pred = opt_pipeline.predict(X_train)\n",
    "    train_error = 1 - accuracy_score(y_train, train_pred)\n",
    "\n",
    "    test_pred = opt_pipeline.predict(X_test)\n",
    "    test_error = 1 - accuracy_score(y_test, test_pred)\n",
    "\n",
    "    print(\"Cross val err: \", cross_val_err)\n",
    "    print(\"Train err: \", train_error)\n",
    "    print(\"Test err: \", test_error)\n",
    "    print(\"\\n\")\n",
    "\n",
    "    return [train_error, cross_val_err, test_error, KNN_optimal_n_components]\n"
   ]
  },
  {
   "cell_type": "code",
   "execution_count": 4,
   "metadata": {},
   "outputs": [],
   "source": [
    "##KNN features\n",
    "\n",
    "def KNN_features(X_train, X_test, y_train, y_test):\n",
    "    max_num_features = 100\n",
    "\n",
    "    num_features = range(1, max_num_features+1)\n",
    "    KNN_mean_scores = np.zeros(max_num_features+1)\n",
    "\n",
    "    # Loop over different numbers of features\n",
    "    for k in tqdm(num_features):\n",
    "\n",
    "        feature_selector = SelectKBest(f_classif, k=k)\n",
    "\n",
    "        X_train_selected = feature_selector.fit_transform(X_train, y_train)\n",
    "\n",
    "        model = KNeighborsClassifier(n_neighbors=5)\n",
    "\n",
    "        KNN_scores = cross_val_score(model, X_train_selected, y_train, cv=5)\n",
    "        KNN_mean_score = KNN_scores.mean()\n",
    "\n",
    "        KNN_mean_scores[k] = KNN_mean_score\n",
    "\n",
    "        #KNN_mean_scores.append(KNN_mean_score)\n",
    "\n",
    "    KNN_optimal_k_features = np.where(KNN_mean_scores==KNN_mean_scores.max())[0][0]\n",
    "    cross_val_err = 1 - max(KNN_mean_scores)\n",
    "\n",
    "    print(\"KNN optimal number of features:\", KNN_optimal_k_features)\n",
    "\n",
    "    feature_selector = SelectKBest(f_classif, k=KNN_optimal_k_features)\n",
    "    X_train_selected = feature_selector.fit_transform(X_train, y_train)\n",
    "    model.fit(X_train_selected, y_train)\n",
    "\n",
    "\n",
    "    # Get the indices of the selected features\n",
    "    selected_feature_indices = feature_selector.get_support(indices=True)\n",
    "\n",
    "    # Get the names of the most predictive features\n",
    "    selected_features = X_train.columns[selected_feature_indices]\n",
    "    print(\"Most predictive features:\", selected_features)\n",
    "\n",
    "\n",
    "    train_pred = model.predict(X_train_selected)\n",
    "    train_error = 1 - accuracy_score(y_train, train_pred)\n",
    "\n",
    "    test_pred = model.predict(X_test[X_test.columns[selected_feature_indices]])\n",
    "    test_error = 1 - accuracy_score(y_test, test_pred)\n",
    "    \n",
    "    print(\"Cross val err: \", cross_val_err)\n",
    "    print(\"Train err: \", train_error)\n",
    "    print(\"Test err: \", test_error)\n",
    "\n",
    "    return [train_error, cross_val_err, test_error, KNN_optimal_k_features]\n"
   ]
  },
  {
   "cell_type": "code",
   "execution_count": 5,
   "metadata": {},
   "outputs": [],
   "source": [
    "##SVC PCA\n",
    "def SVC_PCA(X_train, X_test, y_train, y_test):\n",
    "    SVC_mean_scores = np.zeros(max_num_components+1)\n",
    "\n",
    "    #num_components_range = range(1, max_num_components)\n",
    "\n",
    "    # Loop over different numbers of components\n",
    "    for n_components in tqdm(num_components_range):\n",
    "\n",
    "        #PCA\n",
    "\n",
    "        SVC_pipeline = make_pipeline(PCA(n_components=n_components), SVC())\n",
    "\n",
    "        SVC_scores = cross_val_score(SVC_pipeline, X_train, y_train, cv=5)\n",
    "        SVC_mean_score = SVC_scores.mean()\n",
    "\n",
    "        #SVC_mean_scores.append(SVC_mean_score)\n",
    "        SVC_mean_scores[n_components] = SVC_mean_score\n",
    "\n",
    "    SVC_optimal_n_components = np.where(SVC_mean_scores==SVC_mean_scores.max())[0][0]\n",
    "    cross_val_err = 1 - max(SVC_mean_scores)\n",
    "\n",
    "    print(\"SVC optimal number of PCA components:\", SVC_optimal_n_components)\n",
    "\n",
    "    opt_pipeline = make_pipeline(PCA(n_components=SVC_optimal_n_components), SVC())\n",
    "\n",
    "    opt_pipeline.fit(X_train, y_train)\n",
    "    train_pred = opt_pipeline.predict(X_train)\n",
    "    train_error = 1 - accuracy_score(y_train, train_pred)\n",
    "\n",
    "    test_pred = opt_pipeline.predict(X_test)\n",
    "    test_error = 1 - accuracy_score(y_test, test_pred)\n",
    "\n",
    "    print(\"Cross val err: \", cross_val_err)\n",
    "    print(\"Train err: \", train_error)\n",
    "    print(\"Test err: \", test_error)\n",
    "\n",
    "    return [train_error, cross_val_err, test_error, SVC_optimal_n_components]"
   ]
  },
  {
   "cell_type": "code",
   "execution_count": 6,
   "metadata": {},
   "outputs": [],
   "source": [
    "##SVC features\n",
    "\n",
    "def SVC_features(X_train, X_test, y_train, y_test):\n",
    "    max_num_features = 100\n",
    "    num_features = range(1, max_num_features+1)\n",
    "    SVC_mean_scores = np.zeros(max_num_features+1)\n",
    "\n",
    "    # Loop over different numbers of components\n",
    "    for k in tqdm(num_features):\n",
    "\n",
    "        feature_selector = SelectKBest(f_classif, k=k)\n",
    "\n",
    "        X_train_selected = feature_selector.fit_transform(X_train, y_train)\n",
    "\n",
    "        model = SVC()\n",
    "\n",
    "        SVC_scores = cross_val_score(model, X_train_selected, y_train, cv=5)\n",
    "        SVC_mean_score = SVC_scores.mean()\n",
    "\n",
    "        #SVC_mean_scores.append(SVC_mean_score)\n",
    "        SVC_mean_scores[k] = SVC_mean_score\n",
    "\n",
    "\n",
    "    SVC_optimal_k_features = np.where(SVC_mean_scores==SVC_mean_scores.max())[0][0]\n",
    "    cross_val_err = 1 - max(SVC_mean_scores)\n",
    "\n",
    "    print(\"SVC optimal number of features:\", SVC_optimal_k_features)\n",
    "\n",
    "    feature_selector = SelectKBest(f_classif, k=SVC_optimal_k_features)\n",
    "    X_train_selected = feature_selector.fit_transform(X_train, y_train)\n",
    "    model.fit(X_train_selected, y_train)\n",
    "\n",
    "    # Get the indices of the selected features\n",
    "    selected_feature_indices = feature_selector.get_support(indices=True)\n",
    "\n",
    "    # Get the names of the most predictive features\n",
    "    selected_features = X_train.columns[selected_feature_indices]\n",
    "    print(\"Most predictive features:\", selected_features)\n",
    "\n",
    "\n",
    "    train_pred = model.predict(X_train_selected)\n",
    "    train_error = 1 - accuracy_score(y_train, train_pred)\n",
    "\n",
    "    test_pred = model.predict(X_test[X_test.columns[selected_feature_indices]])\n",
    "    test_error = 1 - accuracy_score(y_test, test_pred)\n",
    "\n",
    "    print(\"Cross val err: \", cross_val_err)\n",
    "    print(\"Train err: \", train_error)\n",
    "    print(\"Test err: \", test_error)\n",
    "\n",
    "    return [train_error, cross_val_err, test_error, SVC_optimal_k_features]"
   ]
  },
  {
   "cell_type": "code",
   "execution_count": 7,
   "metadata": {},
   "outputs": [],
   "source": [
    "##Logistic regression PCA\n",
    "\n",
    "def LR_PCA(X_train, X_test, y_train, y_test):\n",
    "    LR_mean_scores = np.zeros(max_num_components+1)\n",
    "\n",
    "    #num_components_range = range(1, 25)\n",
    "\n",
    "    # Loop over different numbers of components\n",
    "    for n_components in tqdm(num_components_range):\n",
    "\n",
    "        #PCA\n",
    "\n",
    "        LR_pipeline = make_pipeline(PCA(n_components=n_components), LogisticRegression(solver='lbfgs', max_iter=10000))\n",
    "\n",
    "        LR_scores = cross_val_score(LR_pipeline, X_train, y_train, cv=5)\n",
    "        LR_mean_score = LR_scores.mean()\n",
    "\n",
    "        #LR_mean_scores.append(LR_mean_score)\n",
    "        LR_mean_scores[n_components] = LR_mean_score\n",
    "\n",
    "    LR_optimal_n_components = np.where(LR_mean_scores==LR_mean_scores.max())[0][0]\n",
    "    cross_val_err = 1 - max(LR_mean_scores)\n",
    "\n",
    "    print(\"KNN optimal number of PCA components:\", LR_optimal_n_components)\n",
    "\n",
    "    opt_pipeline = make_pipeline(PCA(n_components=LR_optimal_n_components), LogisticRegression(solver='lbfgs', max_iter=10000))\n",
    "\n",
    "    opt_pipeline.fit(X_train, y_train)\n",
    "    train_pred = opt_pipeline.predict(X_train)\n",
    "    train_error = 1 - accuracy_score(y_train, train_pred)\n",
    "\n",
    "    test_pred = opt_pipeline.predict(X_test)\n",
    "    test_error = 1 - accuracy_score(y_test, test_pred)\n",
    "\n",
    "    print(\"Cross val err: \", cross_val_err)\n",
    "    print(\"Train err: \", train_error)\n",
    "    print(\"Test err: \", test_error)\n",
    "\n",
    "    return [train_error, cross_val_err, test_error, LR_optimal_n_components]"
   ]
  },
  {
   "cell_type": "code",
   "execution_count": 8,
   "metadata": {},
   "outputs": [],
   "source": [
    "##Logistic Regression features\n",
    "\n",
    "def LR_features(X_train, X_test, y_train, y_test):\n",
    "    max_num_features = 100\n",
    "    num_features = range(1, max_num_features+1)\n",
    "    LR_mean_scores = np.zeros(max_num_features+1)\n",
    "\n",
    "    # Loop over different numbers of components\n",
    "    for k in tqdm(num_features):\n",
    "\n",
    "        feature_selector = SelectKBest(f_classif, k=k)\n",
    "\n",
    "        X_train_selected = feature_selector.fit_transform(X_train, y_train)\n",
    "\n",
    "        model = LogisticRegression(solver='lbfgs', max_iter=10000)\n",
    "\n",
    "        LR_scores = cross_val_score(model, X_train_selected, y_train, cv=5)\n",
    "        LR_mean_score = LR_scores.mean()\n",
    "\n",
    "        #LR_mean_scores.append(LR_mean_score)\n",
    "        LR_mean_scores[k] = LR_mean_score\n",
    "\n",
    "    LR_optimal_k_features = np.where(LR_mean_scores==LR_mean_scores.max())[0][0]\n",
    "    cross_val_err = 1 - max(LR_mean_scores)\n",
    "\n",
    "    print(\"LR optimal number of features:\", LR_optimal_k_features)\n",
    "\n",
    "    feature_selector = SelectKBest(f_classif, k=LR_optimal_k_features)\n",
    "    X_train_selected = feature_selector.fit_transform(X_train, y_train)\n",
    "    model.fit(X_train_selected, y_train)\n",
    "\n",
    "    # Get the indices of the selected features\n",
    "    selected_feature_indices = feature_selector.get_support(indices=True)\n",
    "\n",
    "    # Get the names of the most predictive features\n",
    "    selected_features = X_train.columns[selected_feature_indices]\n",
    "    print(\"Most predictive features:\", selected_features)\n",
    "\n",
    "    train_pred = model.predict(X_train_selected)\n",
    "    train_error = 1 - accuracy_score(y_train, train_pred)\n",
    "\n",
    "    test_pred = model.predict(X_test[X_test.columns[selected_feature_indices]])\n",
    "    test_error = 1 - accuracy_score(y_test, test_pred)\n",
    "\n",
    "    print(\"Cross val err: \", cross_val_err)\n",
    "    print(\"Train err: \", train_error)\n",
    "    print(\"Test err: \", test_error)\n",
    "\n",
    "    return [train_error, cross_val_err, test_error, LR_optimal_k_features]"
   ]
  },
  {
   "cell_type": "code",
   "execution_count": 9,
   "metadata": {},
   "outputs": [],
   "source": [
    "##Creating dictionary to save data of part 1\n",
    "d = dict()\n",
    "#a =0.7\n",
    "#print(f\"KNN_PCA_{(1-a)*100:.0f}_{a*100:.0f}\")"
   ]
  },
  {
   "cell_type": "code",
   "execution_count": 10,
   "metadata": {},
   "outputs": [
    {
     "name": "stderr",
     "output_type": "stream",
     "text": [
      "100%|███████████████████████████████████████████| 30/30 [03:36<00:00,  7.23s/it]\n"
     ]
    },
    {
     "name": "stdout",
     "output_type": "stream",
     "text": [
      "KNN optimal number of PCA components: 22\n",
      "Cross val err:  0.008415841584158423\n",
      "Train err:  0.007920792079207928\n",
      "Test err:  0.009227220299884653\n",
      "\n",
      "\n"
     ]
    },
    {
     "name": "stderr",
     "output_type": "stream",
     "text": [
      "100%|█████████████████████████████████████████| 100/100 [00:09<00:00, 10.81it/s]\n",
      "/home/samme/.local/lib/python3.10/site-packages/sklearn/base.py:458: UserWarning: X has feature names, but KNeighborsClassifier was fitted without feature names\n",
      "  warnings.warn(\n"
     ]
    },
    {
     "name": "stdout",
     "output_type": "stream",
     "text": [
      "KNN optimal number of features: 100\n",
      "Most predictive features: Index(['V3', 'V16', 'V18', 'V29', 'V30', 'V35', 'V63', 'V64', 'V68', 'V72',\n",
      "       'V83', 'V87', 'V178', 'V200', 'V217', 'V227', 'V274', 'V289', 'V307',\n",
      "       'V308', 'V350', 'V394', 'V418', 'V462', 'V464', 'V475', 'V494', 'V507',\n",
      "       'V539', 'V544', 'V568', 'V600', 'V627', 'V657', 'V658', 'V673', 'V687',\n",
      "       'V691', 'V730', 'V803', 'V818', 'V845', 'V850', 'V855', 'V889', 'V922',\n",
      "       'V982', 'V1005', 'V1033', 'V1066', 'V1071', 'V1097', 'V1098', 'V1101',\n",
      "       'V1102', 'V1126', 'V1173', 'V1193', 'V1203', 'V1206', 'V1218', 'V1234',\n",
      "       'V1249', 'V1256', 'V1263', 'V1293', 'V1315', 'V1443', 'V1478', 'V1517',\n",
      "       'V1530', 'V1533', 'V1549', 'V1572', 'V1575', 'V1580', 'V1583', 'V1654',\n",
      "       'V1657', 'V1658', 'V1673', 'V1697', 'V1719', 'V1731', 'V1744', 'V1760',\n",
      "       'V1772', 'V1787', 'V1799', 'V1812', 'V1813', 'V1827', 'V1829', 'V1846',\n",
      "       'V1868', 'V1871', 'V1877', 'V1882', 'V1936', 'V1971'],\n",
      "      dtype='object')\n",
      "Cross val err:  0.008415841584158423\n",
      "Train err:  0.007920792079207928\n",
      "Test err:  0.01038062283737029\n"
     ]
    },
    {
     "name": "stderr",
     "output_type": "stream",
     "text": [
      "100%|███████████████████████████████████████████| 30/30 [03:53<00:00,  7.79s/it]\n"
     ]
    },
    {
     "name": "stdout",
     "output_type": "stream",
     "text": [
      "SVC optimal number of PCA components: 20\n",
      "Cross val err:  0.007920792079207928\n",
      "Train err:  0.0034653465346534684\n",
      "Test err:  0.008073817762399127\n"
     ]
    },
    {
     "name": "stderr",
     "output_type": "stream",
     "text": [
      "100%|█████████████████████████████████████████| 100/100 [00:16<00:00,  5.90it/s]\n",
      "/home/samme/.local/lib/python3.10/site-packages/sklearn/base.py:458: UserWarning: X has feature names, but SVC was fitted without feature names\n",
      "  warnings.warn(\n"
     ]
    },
    {
     "name": "stdout",
     "output_type": "stream",
     "text": [
      "SVC optimal number of features: 100\n",
      "Most predictive features: Index(['V3', 'V16', 'V18', 'V29', 'V30', 'V35', 'V63', 'V64', 'V68', 'V72',\n",
      "       'V83', 'V87', 'V178', 'V200', 'V217', 'V227', 'V274', 'V289', 'V307',\n",
      "       'V308', 'V350', 'V394', 'V418', 'V462', 'V464', 'V475', 'V494', 'V507',\n",
      "       'V539', 'V544', 'V568', 'V600', 'V627', 'V657', 'V658', 'V673', 'V687',\n",
      "       'V691', 'V730', 'V803', 'V818', 'V845', 'V850', 'V855', 'V889', 'V922',\n",
      "       'V982', 'V1005', 'V1033', 'V1066', 'V1071', 'V1097', 'V1098', 'V1101',\n",
      "       'V1102', 'V1126', 'V1173', 'V1193', 'V1203', 'V1206', 'V1218', 'V1234',\n",
      "       'V1249', 'V1256', 'V1263', 'V1293', 'V1315', 'V1443', 'V1478', 'V1517',\n",
      "       'V1530', 'V1533', 'V1549', 'V1572', 'V1575', 'V1580', 'V1583', 'V1654',\n",
      "       'V1657', 'V1658', 'V1673', 'V1697', 'V1719', 'V1731', 'V1744', 'V1760',\n",
      "       'V1772', 'V1787', 'V1799', 'V1812', 'V1813', 'V1827', 'V1829', 'V1846',\n",
      "       'V1868', 'V1871', 'V1877', 'V1882', 'V1936', 'V1971'],\n",
      "      dtype='object')\n",
      "Cross val err:  0.006930693069307048\n",
      "Train err:  0.001980198019801982\n",
      "Test err:  0.005767012687427964\n"
     ]
    },
    {
     "name": "stderr",
     "output_type": "stream",
     "text": [
      "100%|███████████████████████████████████████████| 30/30 [04:31<00:00,  9.05s/it]\n"
     ]
    },
    {
     "name": "stdout",
     "output_type": "stream",
     "text": [
      "KNN optimal number of PCA components: 18\n",
      "Cross val err:  0.008415841584158423\n",
      "Train err:  0.0\n",
      "Test err:  0.01038062283737029\n"
     ]
    },
    {
     "name": "stderr",
     "output_type": "stream",
     "text": [
      "100%|█████████████████████████████████████████| 100/100 [01:25<00:00,  1.17it/s]\n"
     ]
    },
    {
     "name": "stdout",
     "output_type": "stream",
     "text": [
      "LR optimal number of features: 92\n",
      "Most predictive features: Index(['V3', 'V16', 'V18', 'V29', 'V30', 'V35', 'V63', 'V64', 'V68', 'V72',\n",
      "       'V87', 'V200', 'V217', 'V227', 'V274', 'V289', 'V307', 'V308', 'V350',\n",
      "       'V394', 'V418', 'V462', 'V464', 'V475', 'V494', 'V507', 'V539', 'V544',\n",
      "       'V568', 'V600', 'V627', 'V657', 'V658', 'V673', 'V687', 'V691', 'V730',\n",
      "       'V803', 'V818', 'V845', 'V850', 'V855', 'V889', 'V922', 'V982', 'V1005',\n",
      "       'V1033', 'V1066', 'V1071', 'V1097', 'V1098', 'V1101', 'V1102', 'V1126',\n",
      "       'V1173', 'V1193', 'V1203', 'V1206', 'V1218', 'V1234', 'V1249', 'V1256',\n",
      "       'V1263', 'V1293', 'V1315', 'V1443', 'V1478', 'V1517', 'V1533', 'V1549',\n",
      "       'V1580', 'V1654', 'V1657', 'V1673', 'V1697', 'V1719', 'V1731', 'V1744',\n",
      "       'V1760', 'V1772', 'V1787', 'V1799', 'V1812', 'V1813', 'V1827', 'V1829',\n",
      "       'V1846', 'V1871', 'V1877', 'V1882', 'V1936', 'V1971'],\n",
      "      dtype='object')\n",
      "Cross val err:  0.00544554455445545\n",
      "Train err:  0.0\n",
      "Test err:  0.0046136101499423265\n"
     ]
    },
    {
     "name": "stderr",
     "output_type": "stream",
     "text": [
      "/home/samme/.local/lib/python3.10/site-packages/sklearn/base.py:458: UserWarning: X has feature names, but LogisticRegression was fitted without feature names\n",
      "  warnings.warn(\n"
     ]
    }
   ],
   "source": [
    "##Run everything with 70/30 split\n",
    "split = 0.7\n",
    "X_train, X_test, y_train, y_test = pre_process(df, labels_df, split)\n",
    "\n",
    "d[f\"KNN_PCA_{(1-split)*100:.0f}_{split*100:.0f}\"] = KNN_PCA(X_train, X_test, y_train, y_test)\n",
    "d[f\"KNN_Feat_{(1-split)*100:.0f}_{split*100:.0f}\"] = KNN_features(X_train, X_test, y_train, y_test)\n",
    "d[f\"SVC_PCA_{(1-split)*100:.0f}_{split*100:.0f}\"] = SVC_PCA(X_train, X_test, y_train, y_test)\n",
    "d[f\"SVC_Feat_{(1-split)*100:.0f}_{split*100:.0f}\"] = SVC_features(X_train, X_test, y_train, y_test)\n",
    "d[f\"LR_PCA_{(1-split)*100:.0f}_{split*100:.0f}\"] = LR_PCA(X_train, X_test, y_train, y_test)\n",
    "d[f\"LR_Feat_{(1-split)*100:.0f}_{split*100:.0f}\"] = LR_features(X_train, X_test, y_train, y_test)\n"
   ]
  },
  {
   "cell_type": "code",
   "execution_count": 11,
   "metadata": {},
   "outputs": [
    {
     "name": "stderr",
     "output_type": "stream",
     "text": [
      "100%|███████████████████████████████████████████| 30/30 [04:21<00:00,  8.73s/it]\n"
     ]
    },
    {
     "name": "stdout",
     "output_type": "stream",
     "text": [
      "KNN optimal number of PCA components: 30\n",
      "Cross val err:  0.004330882421988647\n",
      "Train err:  0.004330879168471191\n",
      "Test err:  0.01557093425605538\n",
      "\n",
      "\n"
     ]
    },
    {
     "name": "stderr",
     "output_type": "stream",
     "text": [
      "100%|█████████████████████████████████████████| 100/100 [00:09<00:00, 10.53it/s]\n",
      "/home/samme/.local/lib/python3.10/site-packages/sklearn/base.py:458: UserWarning: X has feature names, but KNeighborsClassifier was fitted without feature names\n",
      "  warnings.warn(\n"
     ]
    },
    {
     "name": "stdout",
     "output_type": "stream",
     "text": [
      "KNN optimal number of features: 75\n",
      "Most predictive features: Index(['V3', 'V18', 'V29', 'V35', 'V63', 'V64', 'V68', 'V72', 'V87', 'V227',\n",
      "       'V289', 'V307', 'V308', 'V350', 'V462', 'V464', 'V475', 'V494', 'V507',\n",
      "       'V539', 'V544', 'V568', 'V600', 'V627', 'V657', 'V658', 'V673', 'V687',\n",
      "       'V691', 'V730', 'V803', 'V818', 'V845', 'V850', 'V855', 'V889', 'V982',\n",
      "       'V1005', 'V1033', 'V1066', 'V1071', 'V1097', 'V1098', 'V1101', 'V1173',\n",
      "       'V1193', 'V1203', 'V1206', 'V1218', 'V1234', 'V1256', 'V1263', 'V1443',\n",
      "       'V1478', 'V1517', 'V1530', 'V1533', 'V1549', 'V1654', 'V1657', 'V1673',\n",
      "       'V1697', 'V1719', 'V1744', 'V1787', 'V1799', 'V1812', 'V1827', 'V1829',\n",
      "       'V1846', 'V1871', 'V1877', 'V1882', 'V1936', 'V1971'],\n",
      "      dtype='object')\n",
      "Cross val err:  0.006928285019391245\n",
      "Train err:  0.0047639670853183436\n",
      "Test err:  0.01557093425605538\n"
     ]
    },
    {
     "name": "stderr",
     "output_type": "stream",
     "text": [
      "100%|███████████████████████████████████████████| 30/30 [04:31<00:00,  9.05s/it]\n"
     ]
    },
    {
     "name": "stdout",
     "output_type": "stream",
     "text": [
      "SVC optimal number of PCA components: 12\n",
      "Cross val err:  0.004763782854889209\n",
      "Train err:  0.0038977912516240387\n",
      "Test err:  0.01384083044982698\n"
     ]
    },
    {
     "name": "stderr",
     "output_type": "stream",
     "text": [
      "100%|█████████████████████████████████████████| 100/100 [00:19<00:00,  5.05it/s]\n",
      "/home/samme/.local/lib/python3.10/site-packages/sklearn/base.py:458: UserWarning: X has feature names, but SVC was fitted without feature names\n",
      "  warnings.warn(\n"
     ]
    },
    {
     "name": "stdout",
     "output_type": "stream",
     "text": [
      "SVC optimal number of features: 88\n",
      "Most predictive features: Index(['V3', 'V18', 'V29', 'V30', 'V35', 'V63', 'V64', 'V68', 'V72', 'V87',\n",
      "       'V200', 'V217', 'V227', 'V274', 'V289', 'V307', 'V308', 'V350', 'V394',\n",
      "       'V418', 'V462', 'V464', 'V475', 'V494', 'V507', 'V539', 'V544', 'V568',\n",
      "       'V600', 'V627', 'V657', 'V658', 'V673', 'V687', 'V691', 'V730', 'V803',\n",
      "       'V818', 'V845', 'V850', 'V855', 'V889', 'V922', 'V982', 'V1005',\n",
      "       'V1033', 'V1066', 'V1071', 'V1097', 'V1098', 'V1101', 'V1102', 'V1173',\n",
      "       'V1193', 'V1203', 'V1206', 'V1218', 'V1234', 'V1249', 'V1256', 'V1263',\n",
      "       'V1293', 'V1443', 'V1478', 'V1517', 'V1530', 'V1533', 'V1549', 'V1580',\n",
      "       'V1654', 'V1657', 'V1673', 'V1697', 'V1719', 'V1744', 'V1787', 'V1799',\n",
      "       'V1812', 'V1813', 'V1827', 'V1829', 'V1846', 'V1868', 'V1871', 'V1877',\n",
      "       'V1882', 'V1936', 'V1971'],\n",
      "      dtype='object')\n",
      "Cross val err:  0.003897042942596074\n",
      "Train err:  0.0025985275010826925\n",
      "Test err:  0.01211072664359858\n"
     ]
    },
    {
     "name": "stderr",
     "output_type": "stream",
     "text": [
      "100%|███████████████████████████████████████████| 30/30 [05:36<00:00, 11.23s/it]\n"
     ]
    },
    {
     "name": "stdout",
     "output_type": "stream",
     "text": [
      "KNN optimal number of PCA components: 24\n",
      "Cross val err:  0.007360246405799464\n",
      "Train err:  0.0\n",
      "Test err:  0.0017301038062284002\n"
     ]
    },
    {
     "name": "stderr",
     "output_type": "stream",
     "text": [
      "100%|█████████████████████████████████████████| 100/100 [01:32<00:00,  1.09it/s]\n"
     ]
    },
    {
     "name": "stdout",
     "output_type": "stream",
     "text": [
      "LR optimal number of features: 88\n",
      "Most predictive features: Index(['V3', 'V18', 'V29', 'V30', 'V35', 'V63', 'V64', 'V68', 'V72', 'V87',\n",
      "       'V200', 'V217', 'V227', 'V274', 'V289', 'V307', 'V308', 'V350', 'V394',\n",
      "       'V418', 'V462', 'V464', 'V475', 'V494', 'V507', 'V539', 'V544', 'V568',\n",
      "       'V600', 'V627', 'V657', 'V658', 'V673', 'V687', 'V691', 'V730', 'V803',\n",
      "       'V818', 'V845', 'V850', 'V855', 'V889', 'V922', 'V982', 'V1005',\n",
      "       'V1033', 'V1066', 'V1071', 'V1097', 'V1098', 'V1101', 'V1102', 'V1173',\n",
      "       'V1193', 'V1203', 'V1206', 'V1218', 'V1234', 'V1249', 'V1256', 'V1263',\n",
      "       'V1293', 'V1443', 'V1478', 'V1517', 'V1530', 'V1533', 'V1549', 'V1580',\n",
      "       'V1654', 'V1657', 'V1673', 'V1697', 'V1719', 'V1744', 'V1787', 'V1799',\n",
      "       'V1812', 'V1813', 'V1827', 'V1829', 'V1846', 'V1868', 'V1871', 'V1877',\n",
      "       'V1882', 'V1936', 'V1971'],\n",
      "      dtype='object')\n",
      "Cross val err:  0.003031242076795282\n",
      "Train err:  0.0\n",
      "Test err:  0.00692041522491349\n"
     ]
    },
    {
     "name": "stderr",
     "output_type": "stream",
     "text": [
      "/home/samme/.local/lib/python3.10/site-packages/sklearn/base.py:458: UserWarning: X has feature names, but LogisticRegression was fitted without feature names\n",
      "  warnings.warn(\n"
     ]
    }
   ],
   "source": [
    "##Run everything with 80/20 split\n",
    "split = 0.8\n",
    "X_train, X_test, y_train, y_test = pre_process(df, labels_df, split)\n",
    "\n",
    "d[f\"KNN_PCA_{(1-split)*100:.0f}_{split*100:.0f}\"] = KNN_PCA(X_train, X_test, y_train, y_test)\n",
    "d[f\"KNN_Feat_{(1-split)*100:.0f}_{split*100:.0f}\"] = KNN_features(X_train, X_test, y_train, y_test)\n",
    "d[f\"SVC_PCA_{(1-split)*100:.0f}_{split*100:.0f}\"] = SVC_PCA(X_train, X_test, y_train, y_test)\n",
    "d[f\"SVC_Feat_{(1-split)*100:.0f}_{split*100:.0f}\"] = SVC_features(X_train, X_test, y_train, y_test)\n",
    "d[f\"LR_PCA_{(1-split)*100:.0f}_{split*100:.0f}\"] = LR_PCA(X_train, X_test, y_train, y_test)\n",
    "d[f\"LR_Feat_{(1-split)*100:.0f}_{split*100:.0f}\"] = LR_features(X_train, X_test, y_train, y_test)"
   ]
  },
  {
   "cell_type": "code",
   "execution_count": 12,
   "metadata": {},
   "outputs": [
    {
     "name": "stderr",
     "output_type": "stream",
     "text": [
      "100%|███████████████████████████████████████████| 30/30 [04:44<00:00,  9.47s/it]\n"
     ]
    },
    {
     "name": "stdout",
     "output_type": "stream",
     "text": [
      "KNN optimal number of PCA components: 28\n",
      "Cross val err:  0.006542166888987566\n",
      "Train err:  0.004234026173979943\n",
      "Test err:  0.02076124567474047\n",
      "\n",
      "\n"
     ]
    },
    {
     "name": "stderr",
     "output_type": "stream",
     "text": [
      "100%|█████████████████████████████████████████| 100/100 [00:10<00:00,  9.13it/s]\n",
      "/home/samme/.local/lib/python3.10/site-packages/sklearn/base.py:458: UserWarning: X has feature names, but KNeighborsClassifier was fitted without feature names\n",
      "  warnings.warn(\n"
     ]
    },
    {
     "name": "stdout",
     "output_type": "stream",
     "text": [
      "KNN optimal number of features: 76\n",
      "Most predictive features: Index(['V3', 'V18', 'V29', 'V30', 'V35', 'V63', 'V64', 'V68', 'V72', 'V87',\n",
      "       'V217', 'V227', 'V289', 'V307', 'V308', 'V350', 'V462', 'V464', 'V475',\n",
      "       'V494', 'V507', 'V539', 'V544', 'V568', 'V600', 'V627', 'V657', 'V673',\n",
      "       'V687', 'V691', 'V730', 'V803', 'V818', 'V845', 'V850', 'V855', 'V889',\n",
      "       'V982', 'V1005', 'V1033', 'V1066', 'V1071', 'V1097', 'V1098', 'V1101',\n",
      "       'V1173', 'V1193', 'V1206', 'V1218', 'V1234', 'V1249', 'V1256', 'V1263',\n",
      "       'V1443', 'V1478', 'V1517', 'V1533', 'V1549', 'V1654', 'V1657', 'V1673',\n",
      "       'V1697', 'V1719', 'V1744', 'V1787', 'V1799', 'V1812', 'V1813', 'V1827',\n",
      "       'V1829', 'V1846', 'V1871', 'V1877', 'V1882', 'V1936', 'V1971'],\n",
      "      dtype='object')\n",
      "Cross val err:  0.008079887357343885\n",
      "Train err:  0.007698229407236301\n",
      "Test err:  0.01038062283737029\n"
     ]
    },
    {
     "name": "stderr",
     "output_type": "stream",
     "text": [
      "100%|███████████████████████████████████████████| 30/30 [04:45<00:00,  9.52s/it]\n"
     ]
    },
    {
     "name": "stdout",
     "output_type": "stream",
     "text": [
      "SVC optimal number of PCA components: 22\n",
      "Cross val err:  0.005001482140210456\n",
      "Train err:  0.002694380292532772\n",
      "Test err:  0.01038062283737029\n"
     ]
    },
    {
     "name": "stderr",
     "output_type": "stream",
     "text": [
      "100%|█████████████████████████████████████████| 100/100 [00:23<00:00,  4.22it/s]\n",
      "/home/samme/.local/lib/python3.10/site-packages/sklearn/base.py:458: UserWarning: X has feature names, but SVC was fitted without feature names\n",
      "  warnings.warn(\n"
     ]
    },
    {
     "name": "stdout",
     "output_type": "stream",
     "text": [
      "SVC optimal number of features: 93\n",
      "Most predictive features: Index(['V3', 'V16', 'V18', 'V29', 'V30', 'V35', 'V63', 'V64', 'V68', 'V72',\n",
      "       'V87', 'V200', 'V217', 'V227', 'V274', 'V289', 'V307', 'V308', 'V350',\n",
      "       'V394', 'V418', 'V462', 'V464', 'V475', 'V494', 'V507', 'V539', 'V541',\n",
      "       'V544', 'V568', 'V600', 'V627', 'V657', 'V658', 'V673', 'V687', 'V691',\n",
      "       'V730', 'V803', 'V818', 'V845', 'V850', 'V855', 'V889', 'V922', 'V982',\n",
      "       'V1005', 'V1033', 'V1066', 'V1071', 'V1097', 'V1098', 'V1101', 'V1126',\n",
      "       'V1152', 'V1173', 'V1193', 'V1203', 'V1206', 'V1218', 'V1234', 'V1249',\n",
      "       'V1256', 'V1263', 'V1293', 'V1315', 'V1443', 'V1478', 'V1517', 'V1530',\n",
      "       'V1533', 'V1549', 'V1580', 'V1654', 'V1657', 'V1673', 'V1697', 'V1719',\n",
      "       'V1744', 'V1760', 'V1772', 'V1787', 'V1799', 'V1812', 'V1813', 'V1827',\n",
      "       'V1829', 'V1846', 'V1871', 'V1877', 'V1882', 'V1936', 'V1971'],\n",
      "      dtype='object')\n",
      "Cross val err:  0.005387579665036335\n",
      "Train err:  0.0019245573518090753\n",
      "Test err:  0.01038062283737029\n"
     ]
    },
    {
     "name": "stderr",
     "output_type": "stream",
     "text": [
      "100%|███████████████████████████████████████████| 30/30 [05:33<00:00, 11.11s/it]\n"
     ]
    },
    {
     "name": "stdout",
     "output_type": "stream",
     "text": [
      "KNN optimal number of PCA components: 22\n",
      "Cross val err:  0.004233733511190052\n",
      "Train err:  0.0\n",
      "Test err:  0.01038062283737029\n"
     ]
    },
    {
     "name": "stderr",
     "output_type": "stream",
     "text": [
      "100%|█████████████████████████████████████████| 100/100 [01:43<00:00,  1.03s/it]\n"
     ]
    },
    {
     "name": "stdout",
     "output_type": "stream",
     "text": [
      "LR optimal number of features: 95\n",
      "Most predictive features: Index(['V3', 'V16', 'V18', 'V29', 'V30', 'V35', 'V63', 'V64', 'V68', 'V72',\n",
      "       'V87', 'V200', 'V217', 'V227', 'V274', 'V289', 'V307', 'V308', 'V350',\n",
      "       'V394', 'V418', 'V462', 'V464', 'V475', 'V494', 'V507', 'V539', 'V541',\n",
      "       'V544', 'V568', 'V600', 'V627', 'V657', 'V658', 'V673', 'V687', 'V691',\n",
      "       'V730', 'V803', 'V818', 'V845', 'V850', 'V855', 'V889', 'V922', 'V982',\n",
      "       'V1005', 'V1033', 'V1066', 'V1071', 'V1097', 'V1098', 'V1101', 'V1102',\n",
      "       'V1126', 'V1152', 'V1173', 'V1193', 'V1203', 'V1206', 'V1218', 'V1234',\n",
      "       'V1249', 'V1256', 'V1263', 'V1293', 'V1315', 'V1443', 'V1478', 'V1517',\n",
      "       'V1530', 'V1533', 'V1549', 'V1575', 'V1580', 'V1654', 'V1657', 'V1673',\n",
      "       'V1697', 'V1719', 'V1744', 'V1760', 'V1772', 'V1787', 'V1799', 'V1812',\n",
      "       'V1813', 'V1827', 'V1829', 'V1846', 'V1871', 'V1877', 'V1882', 'V1936',\n",
      "       'V1971'],\n",
      "      dtype='object')\n",
      "Cross val err:  0.004616866755595139\n",
      "Train err:  0.0\n",
      "Test err:  0.00692041522491349\n"
     ]
    },
    {
     "name": "stderr",
     "output_type": "stream",
     "text": [
      "/home/samme/.local/lib/python3.10/site-packages/sklearn/base.py:458: UserWarning: X has feature names, but LogisticRegression was fitted without feature names\n",
      "  warnings.warn(\n"
     ]
    }
   ],
   "source": [
    "##Run everything with 90/10 split\n",
    "split = 0.9\n",
    "X_train, X_test, y_train, y_test = pre_process(df, labels_df, split)\n",
    "\n",
    "d[f\"KNN_PCA_{(1-split)*100:.0f}_{split*100:.0f}\"] = KNN_PCA(X_train, X_test, y_train, y_test)\n",
    "d[f\"KNN_Feat_{(1-split)*100:.0f}_{split*100:.0f}\"] = KNN_features(X_train, X_test, y_train, y_test)\n",
    "d[f\"SVC_PCA_{(1-split)*100:.0f}_{split*100:.0f}\"] = SVC_PCA(X_train, X_test, y_train, y_test)\n",
    "d[f\"SVC_Feat_{(1-split)*100:.0f}_{split*100:.0f}\"] = SVC_features(X_train, X_test, y_train, y_test)\n",
    "d[f\"LR_PCA_{(1-split)*100:.0f}_{split*100:.0f}\"] = LR_PCA(X_train, X_test, y_train, y_test)\n",
    "d[f\"LR_Feat_{(1-split)*100:.0f}_{split*100:.0f}\"] = LR_features(X_train, X_test, y_train, y_test)"
   ]
  },
  {
   "cell_type": "code",
   "execution_count": 13,
   "metadata": {},
   "outputs": [],
   "source": [
    "#Save data of part 1\n",
    "df_1 = pd.DataFrame(data =d, index = ['Train', 'Cross', 'Test', 'Opt_Feat_or_PCA'])\n",
    "df_1.to_csv('./data.csv', sep=\" \")"
   ]
  },
  {
   "cell_type": "code",
   "execution_count": 14,
   "metadata": {},
   "outputs": [],
   "source": [
    "##Part 2 Theme 1 mislabeling\n",
    "\n",
    "def mislabel(mislabel_fraction, y_train):\n",
    "    labels = set(labels_df[\"x\"])\n",
    "\n",
    "    num_samples = len(y_train)\n",
    "    num_mislabels = int(mislabel_fraction * num_samples)\n",
    "    mislabel_indices = np.random.choice(num_samples, num_mislabels, replace=False)\n",
    "\n",
    "    y_train_noise = y_train.copy()\n",
    "\n",
    "    for i in mislabel_indices:\n",
    "        correct = y_train[i]\n",
    "        y_train_noise[i] = np.random.choice(list(labels - set([correct])))\n",
    "    \n",
    "    return y_train_noise"
   ]
  },
  {
   "cell_type": "code",
   "execution_count": 15,
   "metadata": {},
   "outputs": [],
   "source": [
    "##Creating dictionary to save data of part 2\n",
    "d = dict()"
   ]
  },
  {
   "cell_type": "code",
   "execution_count": 16,
   "metadata": {},
   "outputs": [
    {
     "name": "stderr",
     "output_type": "stream",
     "text": [
      "100%|███████████████████████████████████████████| 30/30 [03:46<00:00,  7.53s/it]\n"
     ]
    },
    {
     "name": "stdout",
     "output_type": "stream",
     "text": [
      "KNN optimal number of PCA components: 9\n",
      "Cross val err:  0.2163366336633663\n",
      "Train err:  0.20297029702970293\n",
      "Test err:  0.019607843137254943\n",
      "\n",
      "\n"
     ]
    },
    {
     "name": "stderr",
     "output_type": "stream",
     "text": [
      "100%|█████████████████████████████████████████| 100/100 [00:09<00:00, 10.65it/s]\n",
      "/home/samme/.local/lib/python3.10/site-packages/sklearn/base.py:458: UserWarning: X has feature names, but KNeighborsClassifier was fitted without feature names\n",
      "  warnings.warn(\n"
     ]
    },
    {
     "name": "stdout",
     "output_type": "stream",
     "text": [
      "KNN optimal number of features: 99\n",
      "Most predictive features: Index(['V3', 'V18', 'V29', 'V30', 'V68', 'V72', 'V87', 'V178', 'V193', 'V200',\n",
      "       'V217', 'V227', 'V274', 'V289', 'V307', 'V308', 'V350', 'V394', 'V462',\n",
      "       'V464', 'V475', 'V493', 'V494', 'V504', 'V507', 'V539', 'V541', 'V544',\n",
      "       'V568', 'V578', 'V600', 'V614', 'V627', 'V657', 'V663', 'V667', 'V673',\n",
      "       'V676', 'V687', 'V691', 'V730', 'V845', 'V855', 'V871', 'V914', 'V959',\n",
      "       'V982', 'V1015', 'V1028', 'V1033', 'V1059', 'V1066', 'V1097', 'V1098',\n",
      "       'V1101', 'V1102', 'V1147', 'V1152', 'V1193', 'V1203', 'V1218', 'V1222',\n",
      "       'V1230', 'V1249', 'V1256', 'V1263', 'V1290', 'V1300', 'V1315', 'V1478',\n",
      "       'V1517', 'V1530', 'V1533', 'V1535', 'V1549', 'V1575', 'V1612', 'V1635',\n",
      "       'V1644', 'V1654', 'V1658', 'V1673', 'V1697', 'V1702', 'V1731', 'V1744',\n",
      "       'V1772', 'V1787', 'V1799', 'V1812', 'V1827', 'V1829', 'V1846', 'V1871',\n",
      "       'V1882', 'V1931', 'V1936', 'V1971', 'V1999'],\n",
      "      dtype='object')\n",
      "Cross val err:  0.21980198019801978\n",
      "Train err:  0.20396039603960392\n",
      "Test err:  0.03690888119953861\n"
     ]
    },
    {
     "name": "stderr",
     "output_type": "stream",
     "text": [
      "100%|███████████████████████████████████████████| 30/30 [04:28<00:00,  8.95s/it]\n"
     ]
    },
    {
     "name": "stdout",
     "output_type": "stream",
     "text": [
      "SVC optimal number of PCA components: 9\n",
      "Cross val err:  0.2069306930693069\n",
      "Train err:  0.2054455445544554\n",
      "Test err:  0.0046136101499423265\n"
     ]
    },
    {
     "name": "stderr",
     "output_type": "stream",
     "text": [
      "100%|█████████████████████████████████████████| 100/100 [00:55<00:00,  1.80it/s]\n"
     ]
    },
    {
     "name": "stdout",
     "output_type": "stream",
     "text": [
      "SVC optimal number of features: 95\n",
      "Most predictive features: Index(['V3', 'V18', 'V29', 'V30', 'V68', 'V72', 'V87', 'V178', 'V193', 'V200',\n",
      "       'V217', 'V227', 'V274', 'V289', 'V307', 'V308', 'V350', 'V394', 'V462',\n",
      "       'V464', 'V475', 'V493', 'V494', 'V504', 'V507', 'V539', 'V541', 'V544',\n",
      "       'V568', 'V578', 'V600', 'V614', 'V627', 'V663', 'V667', 'V673', 'V676',\n",
      "       'V687', 'V691', 'V730', 'V845', 'V855', 'V871', 'V914', 'V959', 'V982',\n",
      "       'V1028', 'V1033', 'V1059', 'V1066', 'V1097', 'V1098', 'V1101', 'V1102',\n",
      "       'V1147', 'V1152', 'V1193', 'V1203', 'V1218', 'V1222', 'V1230', 'V1249',\n",
      "       'V1256', 'V1263', 'V1290', 'V1300', 'V1315', 'V1478', 'V1517', 'V1530',\n",
      "       'V1533', 'V1535', 'V1549', 'V1575', 'V1612', 'V1635', 'V1654', 'V1658',\n",
      "       'V1673', 'V1697', 'V1702', 'V1731', 'V1744', 'V1772', 'V1787', 'V1799',\n",
      "       'V1812', 'V1827', 'V1829', 'V1846', 'V1871', 'V1882', 'V1931', 'V1936',\n",
      "       'V1971'],\n",
      "      dtype='object')\n"
     ]
    },
    {
     "name": "stderr",
     "output_type": "stream",
     "text": [
      "/home/samme/.local/lib/python3.10/site-packages/sklearn/base.py:458: UserWarning: X has feature names, but SVC was fitted without feature names\n",
      "  warnings.warn(\n"
     ]
    },
    {
     "name": "stdout",
     "output_type": "stream",
     "text": [
      "Cross val err:  0.21039603960396036\n",
      "Train err:  0.20247524752475243\n",
      "Test err:  0.005767012687427964\n"
     ]
    },
    {
     "name": "stderr",
     "output_type": "stream",
     "text": [
      "100%|███████████████████████████████████████████| 30/30 [04:01<00:00,  8.06s/it]\n"
     ]
    },
    {
     "name": "stdout",
     "output_type": "stream",
     "text": [
      "KNN optimal number of PCA components: 22\n",
      "Cross val err:  0.20841584158415838\n",
      "Train err:  0.2074257425742574\n",
      "Test err:  0.0023068050749711633\n"
     ]
    },
    {
     "name": "stderr",
     "output_type": "stream",
     "text": [
      "100%|█████████████████████████████████████████| 100/100 [01:26<00:00,  1.15it/s]"
     ]
    },
    {
     "name": "stdout",
     "output_type": "stream",
     "text": [
      "LR optimal number of features: 37\n",
      "Most predictive features: Index(['V3', 'V18', 'V68', 'V87', 'V289', 'V307', 'V350', 'V475', 'V507',\n",
      "       'V539', 'V600', 'V627', 'V673', 'V687', 'V845', 'V1066', 'V1097',\n",
      "       'V1098', 'V1101', 'V1193', 'V1218', 'V1256', 'V1263', 'V1478', 'V1517',\n",
      "       'V1533', 'V1549', 'V1654', 'V1673', 'V1697', 'V1744', 'V1787', 'V1799',\n",
      "       'V1812', 'V1846', 'V1882', 'V1936'],\n",
      "      dtype='object')\n",
      "Cross val err:  0.2193069306930694\n",
      "Train err:  0.21089108910891086\n",
      "Test err:  0.029988465974625123\n"
     ]
    },
    {
     "name": "stderr",
     "output_type": "stream",
     "text": [
      "\n",
      "/home/samme/.local/lib/python3.10/site-packages/sklearn/base.py:458: UserWarning: X has feature names, but LogisticRegression was fitted without feature names\n",
      "  warnings.warn(\n"
     ]
    }
   ],
   "source": [
    "##Mislabel fraction 0.2, 70/30 split\n",
    "mislabel_fraction = 0.2\n",
    "split = 0.7\n",
    "X_train, X_test, y_train, y_test = pre_process(df, labels_df, split)\n",
    "y_train_noise = mislabel(mislabel_fraction, y_train)\n",
    "\n",
    "d[f\"KNN_PCA_miss_{mislabel_fraction:.1f}_{(1-split)*100:.0f}_{split*100:.0f}\"] = KNN_PCA(X_train, X_test, y_train_noise, y_test)\n",
    "d[f\"KNN_Feat_miss_{mislabel_fraction:.1f}_{(1-split)*100:.0f}_{split*100:.0f}\"] = KNN_features(X_train, X_test, y_train_noise, y_test)\n",
    "d[f\"SVC_PCA_miss_{mislabel_fraction:.1f}_{(1-split)*100:.0f}_{split*100:.0f}\"] = SVC_PCA(X_train, X_test, y_train_noise, y_test)\n",
    "d[f\"SVC_Feat_miss_{mislabel_fraction:.1f}_{(1-split)*100:.0f}_{split*100:.0f}\"] = SVC_features(X_train, X_test, y_train_noise, y_test)\n",
    "d[f\"LR_PCA_miss_{mislabel_fraction:.1f}_{(1-split)*100:.0f}_{split*100:.0f}\"] = LR_PCA(X_train, X_test, y_train_noise, y_test)\n",
    "d[f\"LR_Feat_miss_{mislabel_fraction:.1f}_{(1-split)*100:.0f}_{split*100:.0f}\"] = LR_features(X_train, X_test, y_train_noise, y_test)\n",
    "\n"
   ]
  },
  {
   "cell_type": "code",
   "execution_count": 17,
   "metadata": {},
   "outputs": [
    {
     "name": "stderr",
     "output_type": "stream",
     "text": [
      "100%|███████████████████████████████████████████| 30/30 [04:34<00:00,  9.14s/it]\n"
     ]
    },
    {
     "name": "stdout",
     "output_type": "stream",
     "text": [
      "KNN optimal number of PCA components: 9\n",
      "Cross val err:  0.21394953564150965\n",
      "Train err:  0.19922044174967524\n",
      "Test err:  0.03287197231833905\n",
      "\n",
      "\n"
     ]
    },
    {
     "name": "stderr",
     "output_type": "stream",
     "text": [
      "100%|█████████████████████████████████████████| 100/100 [00:09<00:00, 10.41it/s]\n",
      "/home/samme/.local/lib/python3.10/site-packages/sklearn/base.py:458: UserWarning: X has feature names, but KNeighborsClassifier was fitted without feature names\n",
      "  warnings.warn(\n"
     ]
    },
    {
     "name": "stdout",
     "output_type": "stream",
     "text": [
      "KNN optimal number of features: 72\n",
      "Most predictive features: Index(['V3', 'V18', 'V29', 'V30', 'V68', 'V87', 'V193', 'V200', 'V217', 'V227',\n",
      "       'V289', 'V307', 'V308', 'V350', 'V394', 'V462', 'V464', 'V475', 'V494',\n",
      "       'V507', 'V539', 'V541', 'V568', 'V578', 'V600', 'V627', 'V657', 'V663',\n",
      "       'V673', 'V687', 'V730', 'V845', 'V982', 'V1033', 'V1066', 'V1097',\n",
      "       'V1098', 'V1101', 'V1102', 'V1152', 'V1193', 'V1218', 'V1256', 'V1263',\n",
      "       'V1290', 'V1300', 'V1478', 'V1517', 'V1530', 'V1533', 'V1535', 'V1549',\n",
      "       'V1575', 'V1635', 'V1644', 'V1654', 'V1673', 'V1697', 'V1702', 'V1731',\n",
      "       'V1744', 'V1772', 'V1787', 'V1799', 'V1812', 'V1827', 'V1829', 'V1846',\n",
      "       'V1871', 'V1882', 'V1936', 'V1971'],\n",
      "      dtype='object')\n",
      "Cross val err:  0.21785127381656666\n",
      "Train err:  0.20398440883499347\n",
      "Test err:  0.01384083044982698\n"
     ]
    },
    {
     "name": "stderr",
     "output_type": "stream",
     "text": [
      "100%|███████████████████████████████████████████| 30/30 [04:50<00:00,  9.69s/it]\n"
     ]
    },
    {
     "name": "stdout",
     "output_type": "stream",
     "text": [
      "SVC optimal number of PCA components: 11\n",
      "Cross val err:  0.2061554497563175\n",
      "Train err:  0.20398440883499347\n",
      "Test err:  0.00865051903114189\n"
     ]
    },
    {
     "name": "stderr",
     "output_type": "stream",
     "text": [
      "100%|█████████████████████████████████████████| 100/100 [01:11<00:00,  1.40it/s]\n"
     ]
    },
    {
     "name": "stdout",
     "output_type": "stream",
     "text": [
      "SVC optimal number of features: 63\n",
      "Most predictive features: Index(['V3', 'V18', 'V29', 'V30', 'V68', 'V87', 'V289', 'V307', 'V308', 'V350',\n",
      "       'V462', 'V464', 'V475', 'V494', 'V507', 'V539', 'V541', 'V568', 'V578',\n",
      "       'V600', 'V627', 'V673', 'V687', 'V845', 'V982', 'V1033', 'V1066',\n",
      "       'V1097', 'V1098', 'V1101', 'V1102', 'V1152', 'V1193', 'V1218', 'V1256',\n",
      "       'V1263', 'V1300', 'V1478', 'V1517', 'V1530', 'V1533', 'V1535', 'V1549',\n",
      "       'V1575', 'V1635', 'V1644', 'V1654', 'V1673', 'V1697', 'V1702', 'V1731',\n",
      "       'V1744', 'V1772', 'V1787', 'V1799', 'V1812', 'V1827', 'V1829', 'V1846',\n",
      "       'V1871', 'V1882', 'V1936', 'V1971'],\n",
      "      dtype='object')\n"
     ]
    },
    {
     "name": "stderr",
     "output_type": "stream",
     "text": [
      "/home/samme/.local/lib/python3.10/site-packages/sklearn/base.py:458: UserWarning: X has feature names, but SVC was fitted without feature names\n",
      "  warnings.warn(\n"
     ]
    },
    {
     "name": "stdout",
     "output_type": "stream",
     "text": [
      "Cross val err:  0.20658741114272572\n",
      "Train err:  0.20138588133391078\n",
      "Test err:  0.0017301038062284002\n"
     ]
    },
    {
     "name": "stderr",
     "output_type": "stream",
     "text": [
      "100%|███████████████████████████████████████████| 30/30 [04:50<00:00,  9.70s/it]\n"
     ]
    },
    {
     "name": "stdout",
     "output_type": "stream",
     "text": [
      "KNN optimal number of PCA components: 23\n",
      "Cross val err:  0.20702218966861052\n",
      "Train err:  0.20355132091814643\n",
      "Test err:  0.00692041522491349\n"
     ]
    },
    {
     "name": "stderr",
     "output_type": "stream",
     "text": [
      "100%|█████████████████████████████████████████| 100/100 [01:36<00:00,  1.04it/s]\n"
     ]
    },
    {
     "name": "stdout",
     "output_type": "stream",
     "text": [
      "LR optimal number of features: 48\n",
      "Most predictive features: Index(['V3', 'V18', 'V29', 'V30', 'V68', 'V87', 'V289', 'V307', 'V350', 'V462',\n",
      "       'V475', 'V494', 'V507', 'V539', 'V578', 'V627', 'V673', 'V687', 'V845',\n",
      "       'V982', 'V1066', 'V1097', 'V1098', 'V1101', 'V1152', 'V1193', 'V1218',\n",
      "       'V1256', 'V1263', 'V1478', 'V1517', 'V1533', 'V1549', 'V1644', 'V1654',\n",
      "       'V1673', 'V1697', 'V1744', 'V1772', 'V1787', 'V1799', 'V1812', 'V1829',\n",
      "       'V1846', 'V1871', 'V1882', 'V1936', 'V1971'],\n",
      "      dtype='object')\n",
      "Cross val err:  0.21179254584894502\n",
      "Train err:  0.2087483759203118\n",
      "Test err:  0.00519031141868509\n"
     ]
    },
    {
     "name": "stderr",
     "output_type": "stream",
     "text": [
      "/home/samme/.local/lib/python3.10/site-packages/sklearn/base.py:458: UserWarning: X has feature names, but LogisticRegression was fitted without feature names\n",
      "  warnings.warn(\n"
     ]
    }
   ],
   "source": [
    "##Mislabel fraction 0.2, 80/20 split\n",
    "mislabel_fraction = 0.2\n",
    "split = 0.8\n",
    "X_train, X_test, y_train, y_test = pre_process(df, labels_df, split)\n",
    "y_train_noise = mislabel(mislabel_fraction, y_train)\n",
    "\n",
    "d[f\"KNN_PCA_miss_{mislabel_fraction:.1f}_{(1-split)*100:.0f}_{split*100:.0f}\"] = KNN_PCA(X_train, X_test, y_train_noise, y_test)\n",
    "d[f\"KNN_Feat_miss_{mislabel_fraction:.1f}_{(1-split)*100:.0f}_{split*100:.0f}\"] = KNN_features(X_train, X_test, y_train_noise, y_test)\n",
    "d[f\"SVC_PCA_miss_{mislabel_fraction:.1f}_{(1-split)*100:.0f}_{split*100:.0f}\"] = SVC_PCA(X_train, X_test, y_train_noise, y_test)\n",
    "d[f\"SVC_Feat_miss_{mislabel_fraction:.1f}_{(1-split)*100:.0f}_{split*100:.0f}\"] = SVC_features(X_train, X_test, y_train_noise, y_test)\n",
    "d[f\"LR_PCA_miss_{mislabel_fraction:.1f}_{(1-split)*100:.0f}_{split*100:.0f}\"] = LR_PCA(X_train, X_test, y_train_noise, y_test)\n",
    "d[f\"LR_Feat_miss_{mislabel_fraction:.1f}_{(1-split)*100:.0f}_{split*100:.0f}\"] = LR_features(X_train, X_test, y_train_noise, y_test)"
   ]
  },
  {
   "cell_type": "code",
   "execution_count": 18,
   "metadata": {},
   "outputs": [
    {
     "name": "stderr",
     "output_type": "stream",
     "text": [
      "100%|███████████████████████████████████████████| 30/30 [04:42<00:00,  9.43s/it]\n"
     ]
    },
    {
     "name": "stdout",
     "output_type": "stream",
     "text": [
      "KNN optimal number of PCA components: 21\n",
      "Cross val err:  0.214782866459167\n",
      "Train err:  0.20438799076212466\n",
      "Test err:  0.02076124567474047\n",
      "\n",
      "\n"
     ]
    },
    {
     "name": "stderr",
     "output_type": "stream",
     "text": [
      "100%|█████████████████████████████████████████| 100/100 [00:11<00:00,  8.35it/s]\n",
      "/home/samme/.local/lib/python3.10/site-packages/sklearn/base.py:458: UserWarning: X has feature names, but KNeighborsClassifier was fitted without feature names\n",
      "  warnings.warn(\n"
     ]
    },
    {
     "name": "stdout",
     "output_type": "stream",
     "text": [
      "KNN optimal number of features: 72\n",
      "Most predictive features: Index(['V3', 'V18', 'V29', 'V30', 'V64', 'V68', 'V87', 'V200', 'V217', 'V289',\n",
      "       'V307', 'V308', 'V350', 'V462', 'V464', 'V475', 'V494', 'V507', 'V539',\n",
      "       'V544', 'V568', 'V578', 'V600', 'V627', 'V657', 'V663', 'V673', 'V687',\n",
      "       'V691', 'V730', 'V803', 'V845', 'V855', 'V982', 'V1005', 'V1033',\n",
      "       'V1066', 'V1071', 'V1097', 'V1098', 'V1101', 'V1152', 'V1193', 'V1218',\n",
      "       'V1249', 'V1256', 'V1263', 'V1293', 'V1300', 'V1478', 'V1517', 'V1530',\n",
      "       'V1533', 'V1549', 'V1572', 'V1635', 'V1654', 'V1673', 'V1697', 'V1719',\n",
      "       'V1744', 'V1772', 'V1787', 'V1799', 'V1812', 'V1827', 'V1829', 'V1846',\n",
      "       'V1871', 'V1882', 'V1936', 'V1971'],\n",
      "      dtype='object')\n",
      "Cross val err:  0.2174803616422113\n",
      "Train err:  0.2005388760585065\n",
      "Test err:  0.02768166089965396\n"
     ]
    },
    {
     "name": "stderr",
     "output_type": "stream",
     "text": [
      "100%|███████████████████████████████████████████| 30/30 [05:32<00:00, 11.07s/it]\n"
     ]
    },
    {
     "name": "stdout",
     "output_type": "stream",
     "text": [
      "SVC optimal number of PCA components: 9\n",
      "Cross val err:  0.20554616866755582\n",
      "Train err:  0.2028483448806775\n",
      "Test err:  0.01384083044982698\n"
     ]
    },
    {
     "name": "stderr",
     "output_type": "stream",
     "text": [
      "100%|█████████████████████████████████████████| 100/100 [01:27<00:00,  1.14it/s]\n"
     ]
    },
    {
     "name": "stdout",
     "output_type": "stream",
     "text": [
      "SVC optimal number of features: 97\n",
      "Most predictive features: Index(['V3', 'V18', 'V29', 'V30', 'V35', 'V63', 'V64', 'V68', 'V72', 'V87',\n",
      "       'V178', 'V193', 'V200', 'V217', 'V227', 'V289', 'V307', 'V308', 'V350',\n",
      "       'V362', 'V392', 'V394', 'V462', 'V464', 'V475', 'V494', 'V507', 'V539',\n",
      "       'V541', 'V544', 'V568', 'V578', 'V600', 'V627', 'V657', 'V663', 'V673',\n",
      "       'V687', 'V691', 'V730', 'V803', 'V845', 'V855', 'V889', 'V959', 'V982',\n",
      "       'V1005', 'V1033', 'V1066', 'V1071', 'V1097', 'V1098', 'V1101', 'V1102',\n",
      "       'V1147', 'V1152', 'V1173', 'V1193', 'V1203', 'V1206', 'V1218', 'V1249',\n",
      "       'V1256', 'V1263', 'V1286', 'V1293', 'V1300', 'V1443', 'V1478', 'V1517',\n",
      "       'V1530', 'V1533', 'V1535', 'V1549', 'V1572', 'V1575', 'V1635', 'V1644',\n",
      "       'V1654', 'V1658', 'V1673', 'V1697', 'V1702', 'V1719', 'V1744', 'V1772',\n",
      "       'V1787', 'V1799', 'V1812', 'V1827', 'V1829', 'V1846', 'V1871', 'V1882',\n",
      "       'V1931', 'V1936', 'V1971'],\n",
      "      dtype='object')\n"
     ]
    },
    {
     "name": "stderr",
     "output_type": "stream",
     "text": [
      "/home/samme/.local/lib/python3.10/site-packages/sklearn/base.py:458: UserWarning: X has feature names, but SVC was fitted without feature names\n",
      "  warnings.warn(\n"
     ]
    },
    {
     "name": "stdout",
     "output_type": "stream",
     "text": [
      "Cross val err:  0.20593374833259226\n",
      "Train err:  0.2013086989992302\n",
      "Test err:  0.01384083044982698\n"
     ]
    },
    {
     "name": "stderr",
     "output_type": "stream",
     "text": [
      "100%|███████████████████████████████████████████| 30/30 [04:56<00:00,  9.89s/it]\n"
     ]
    },
    {
     "name": "stdout",
     "output_type": "stream",
     "text": [
      "KNN optimal number of PCA components: 28\n",
      "Cross val err:  0.20708685341633326\n",
      "Train err:  0.20592763664357194\n",
      "Test err:  0.00692041522491349\n"
     ]
    },
    {
     "name": "stderr",
     "output_type": "stream",
     "text": [
      "100%|█████████████████████████████████████████| 100/100 [01:43<00:00,  1.03s/it]\n"
     ]
    },
    {
     "name": "stdout",
     "output_type": "stream",
     "text": [
      "LR optimal number of features: 71\n",
      "Most predictive features: Index(['V3', 'V18', 'V29', 'V30', 'V64', 'V68', 'V87', 'V200', 'V217', 'V289',\n",
      "       'V307', 'V308', 'V350', 'V462', 'V464', 'V475', 'V494', 'V507', 'V539',\n",
      "       'V544', 'V568', 'V578', 'V600', 'V627', 'V657', 'V663', 'V673', 'V687',\n",
      "       'V730', 'V803', 'V845', 'V855', 'V982', 'V1005', 'V1033', 'V1066',\n",
      "       'V1071', 'V1097', 'V1098', 'V1101', 'V1152', 'V1193', 'V1218', 'V1249',\n",
      "       'V1256', 'V1263', 'V1293', 'V1300', 'V1478', 'V1517', 'V1530', 'V1533',\n",
      "       'V1549', 'V1572', 'V1635', 'V1654', 'V1673', 'V1697', 'V1719', 'V1744',\n",
      "       'V1772', 'V1787', 'V1799', 'V1812', 'V1827', 'V1829', 'V1846', 'V1871',\n",
      "       'V1882', 'V1936', 'V1971'],\n",
      "      dtype='object')\n",
      "Cross val err:  0.2167066844523492\n",
      "Train err:  0.20477290223248656\n",
      "Test err:  0.02768166089965396\n"
     ]
    },
    {
     "name": "stderr",
     "output_type": "stream",
     "text": [
      "/home/samme/.local/lib/python3.10/site-packages/sklearn/base.py:458: UserWarning: X has feature names, but LogisticRegression was fitted without feature names\n",
      "  warnings.warn(\n"
     ]
    }
   ],
   "source": [
    "##Mislabel fraction 0.2, 90/10 split\n",
    "mislabel_fraction = 0.2\n",
    "split = 0.9\n",
    "X_train, X_test, y_train, y_test = pre_process(df, labels_df, split)\n",
    "y_train_noise = mislabel(mislabel_fraction, y_train)\n",
    "\n",
    "d[f\"KNN_PCA_miss_{mislabel_fraction:.1f}_{(1-split)*100:.0f}_{split*100:.0f}\"] = KNN_PCA(X_train, X_test, y_train_noise, y_test)\n",
    "d[f\"KNN_Feat_miss_{mislabel_fraction:.1f}_{(1-split)*100:.0f}_{split*100:.0f}\"] = KNN_features(X_train, X_test, y_train_noise, y_test)\n",
    "d[f\"SVC_PCA_miss_{mislabel_fraction:.1f}_{(1-split)*100:.0f}_{split*100:.0f}\"] = SVC_PCA(X_train, X_test, y_train_noise, y_test)\n",
    "d[f\"SVC_Feat_miss_{mislabel_fraction:.1f}_{(1-split)*100:.0f}_{split*100:.0f}\"] = SVC_features(X_train, X_test, y_train_noise, y_test)\n",
    "d[f\"LR_PCA_miss_{mislabel_fraction:.1f}_{(1-split)*100:.0f}_{split*100:.0f}\"] = LR_PCA(X_train, X_test, y_train_noise, y_test)\n",
    "d[f\"LR_Feat_miss_{mislabel_fraction:.1f}_{(1-split)*100:.0f}_{split*100:.0f}\"] = LR_features(X_train, X_test, y_train_noise, y_test)"
   ]
  },
  {
   "cell_type": "code",
   "execution_count": 19,
   "metadata": {},
   "outputs": [
    {
     "name": "stderr",
     "output_type": "stream",
     "text": [
      "100%|███████████████████████████████████████████| 30/30 [03:45<00:00,  7.52s/it]\n"
     ]
    },
    {
     "name": "stdout",
     "output_type": "stream",
     "text": [
      "KNN optimal number of PCA components: 6\n",
      "Cross val err:  0.5836633663366337\n",
      "Train err:  0.4346534653465347\n",
      "Test err:  0.23068050749711644\n",
      "\n",
      "\n"
     ]
    },
    {
     "name": "stderr",
     "output_type": "stream",
     "text": [
      "100%|█████████████████████████████████████████| 100/100 [00:08<00:00, 11.74it/s]\n",
      "/home/samme/.local/lib/python3.10/site-packages/sklearn/base.py:458: UserWarning: X has feature names, but KNeighborsClassifier was fitted without feature names\n",
      "  warnings.warn(\n"
     ]
    },
    {
     "name": "stdout",
     "output_type": "stream",
     "text": [
      "KNN optimal number of features: 96\n",
      "Most predictive features: Index(['V3', 'V18', 'V30', 'V64', 'V68', 'V77', 'V87', 'V91', 'V96', 'V177',\n",
      "       'V193', 'V200', 'V217', 'V274', 'V289', 'V307', 'V308', 'V350', 'V392',\n",
      "       'V394', 'V462', 'V464', 'V475', 'V493', 'V494', 'V507', 'V539', 'V541',\n",
      "       'V568', 'V578', 'V614', 'V627', 'V687', 'V691', 'V759', 'V845', 'V861',\n",
      "       'V871', 'V914', 'V922', 'V982', 'V1012', 'V1015', 'V1033', 'V1066',\n",
      "       'V1097', 'V1098', 'V1101', 'V1126', 'V1147', 'V1152', 'V1193', 'V1198',\n",
      "       'V1218', 'V1230', 'V1256', 'V1263', 'V1286', 'V1295', 'V1300', 'V1315',\n",
      "       'V1351', 'V1397', 'V1443', 'V1478', 'V1517', 'V1519', 'V1530', 'V1533',\n",
      "       'V1535', 'V1549', 'V1572', 'V1575', 'V1644', 'V1646', 'V1654', 'V1658',\n",
      "       'V1660', 'V1667', 'V1673', 'V1697', 'V1702', 'V1719', 'V1731', 'V1744',\n",
      "       'V1772', 'V1787', 'V1799', 'V1812', 'V1813', 'V1829', 'V1846', 'V1882',\n",
      "       'V1936', 'V1971', 'V1999'],\n",
      "      dtype='object')\n",
      "Cross val err:  0.5801980198019802\n",
      "Train err:  0.45247524752475243\n",
      "Test err:  0.22491349480968859\n"
     ]
    },
    {
     "name": "stderr",
     "output_type": "stream",
     "text": [
      "100%|███████████████████████████████████████████| 30/30 [04:25<00:00,  8.85s/it]\n"
     ]
    },
    {
     "name": "stdout",
     "output_type": "stream",
     "text": [
      "SVC optimal number of PCA components: 7\n",
      "Cross val err:  0.504950495049505\n",
      "Train err:  0.501980198019802\n",
      "Test err:  0.019607843137254943\n"
     ]
    },
    {
     "name": "stderr",
     "output_type": "stream",
     "text": [
      "100%|█████████████████████████████████████████| 100/100 [01:29<00:00,  1.12it/s]\n"
     ]
    },
    {
     "name": "stdout",
     "output_type": "stream",
     "text": [
      "SVC optimal number of features: 17\n",
      "Most predictive features: Index(['V3', 'V18', 'V68', 'V87', 'V308', 'V494', 'V539', 'V627', 'V1101',\n",
      "       'V1193', 'V1256', 'V1654', 'V1744', 'V1787', 'V1846', 'V1936', 'V1971'],\n",
      "      dtype='object')\n"
     ]
    },
    {
     "name": "stderr",
     "output_type": "stream",
     "text": [
      "/home/samme/.local/lib/python3.10/site-packages/sklearn/base.py:458: UserWarning: X has feature names, but SVC was fitted without feature names\n",
      "  warnings.warn(\n"
     ]
    },
    {
     "name": "stdout",
     "output_type": "stream",
     "text": [
      "Cross val err:  0.504950495049505\n",
      "Train err:  0.5014851485148515\n",
      "Test err:  0.035755478662053086\n"
     ]
    },
    {
     "name": "stderr",
     "output_type": "stream",
     "text": [
      "100%|███████████████████████████████████████████| 30/30 [04:00<00:00,  8.00s/it]\n"
     ]
    },
    {
     "name": "stdout",
     "output_type": "stream",
     "text": [
      "KNN optimal number of PCA components: 6\n",
      "Cross val err:  0.504950495049505\n",
      "Train err:  0.5054455445544555\n",
      "Test err:  0.035755478662053086\n"
     ]
    },
    {
     "name": "stderr",
     "output_type": "stream",
     "text": [
      "100%|█████████████████████████████████████████| 100/100 [01:18<00:00,  1.28it/s]"
     ]
    },
    {
     "name": "stdout",
     "output_type": "stream",
     "text": [
      "LR optimal number of features: 16\n",
      "Most predictive features: Index(['V3', 'V18', 'V68', 'V87', 'V308', 'V539', 'V627', 'V1101', 'V1193',\n",
      "       'V1256', 'V1654', 'V1744', 'V1787', 'V1846', 'V1936', 'V1971'],\n",
      "      dtype='object')\n",
      "Cross val err:  0.5113861386138614\n",
      "Train err:  0.5079207920792079\n",
      "Test err:  0.056516724336793556\n"
     ]
    },
    {
     "name": "stderr",
     "output_type": "stream",
     "text": [
      "\n",
      "/home/samme/.local/lib/python3.10/site-packages/sklearn/base.py:458: UserWarning: X has feature names, but LogisticRegression was fitted without feature names\n",
      "  warnings.warn(\n"
     ]
    }
   ],
   "source": [
    "##Mislabel fraction 0.5, 70/30 split\n",
    "mislabel_fraction = 0.5\n",
    "split = 0.7\n",
    "X_train, X_test, y_train, y_test = pre_process(df, labels_df, split)\n",
    "y_train_noise = mislabel(mislabel_fraction, y_train)\n",
    "\n",
    "d[f\"KNN_PCA_miss_{mislabel_fraction:.1f}_{(1-split)*100:.0f}_{split*100:.0f}\"] = KNN_PCA(X_train, X_test, y_train_noise, y_test)\n",
    "d[f\"KNN_Feat_miss_{mislabel_fraction:.1f}_{(1-split)*100:.0f}_{split*100:.0f}\"] = KNN_features(X_train, X_test, y_train_noise, y_test)\n",
    "d[f\"SVC_PCA_miss_{mislabel_fraction:.1f}_{(1-split)*100:.0f}_{split*100:.0f}\"] = SVC_PCA(X_train, X_test, y_train_noise, y_test)\n",
    "d[f\"SVC_Feat_miss_{mislabel_fraction:.1f}_{(1-split)*100:.0f}_{split*100:.0f}\"] = SVC_features(X_train, X_test, y_train_noise, y_test)\n",
    "d[f\"LR_PCA_miss_{mislabel_fraction:.1f}_{(1-split)*100:.0f}_{split*100:.0f}\"] = LR_PCA(X_train, X_test, y_train_noise, y_test)\n",
    "d[f\"LR_Feat_miss_{mislabel_fraction:.1f}_{(1-split)*100:.0f}_{split*100:.0f}\"] = LR_features(X_train, X_test, y_train_noise, y_test)"
   ]
  },
  {
   "cell_type": "code",
   "execution_count": 20,
   "metadata": {},
   "outputs": [
    {
     "name": "stderr",
     "output_type": "stream",
     "text": [
      "100%|███████████████████████████████████████████| 30/30 [32:47<00:00, 65.58s/it]\n"
     ]
    },
    {
     "name": "stdout",
     "output_type": "stream",
     "text": [
      "KNN optimal number of PCA components: 5\n",
      "Cross val err:  0.587707881417209\n",
      "Train err:  0.43958423559982673\n",
      "Test err:  0.25951557093425603\n",
      "\n",
      "\n"
     ]
    },
    {
     "name": "stderr",
     "output_type": "stream",
     "text": [
      "100%|█████████████████████████████████████████| 100/100 [00:10<00:00,  9.49it/s]\n",
      "/home/samme/.local/lib/python3.10/site-packages/sklearn/base.py:458: UserWarning: X has feature names, but KNeighborsClassifier was fitted without feature names\n",
      "  warnings.warn(\n"
     ]
    },
    {
     "name": "stdout",
     "output_type": "stream",
     "text": [
      "KNN optimal number of features: 41\n",
      "Most predictive features: Index(['V3', 'V18', 'V68', 'V87', 'V289', 'V308', 'V350', 'V475', 'V507',\n",
      "       'V539', 'V578', 'V627', 'V673', 'V687', 'V845', 'V1033', 'V1066',\n",
      "       'V1097', 'V1098', 'V1101', 'V1147', 'V1193', 'V1218', 'V1256', 'V1263',\n",
      "       'V1286', 'V1478', 'V1533', 'V1535', 'V1549', 'V1654', 'V1673', 'V1697',\n",
      "       'V1744', 'V1787', 'V1799', 'V1812', 'V1846', 'V1882', 'V1936', 'V1971'],\n",
      "      dtype='object')\n",
      "Cross val err:  0.5894272755444121\n",
      "Train err:  0.4525768731052404\n",
      "Test err:  0.22145328719723179\n"
     ]
    },
    {
     "name": "stderr",
     "output_type": "stream",
     "text": [
      "100%|███████████████████████████████████████████| 30/30 [04:44<00:00,  9.48s/it]\n"
     ]
    },
    {
     "name": "stdout",
     "output_type": "stream",
     "text": [
      "SVC optimal number of PCA components: 8\n",
      "Cross val err:  0.5080222741827948\n",
      "Train err:  0.5023819835426592\n",
      "Test err:  0.01903114186851207\n"
     ]
    },
    {
     "name": "stderr",
     "output_type": "stream",
     "text": [
      "100%|█████████████████████████████████████████| 100/100 [01:59<00:00,  1.20s/it]\n"
     ]
    },
    {
     "name": "stdout",
     "output_type": "stream",
     "text": [
      "SVC optimal number of features: 40\n",
      "Most predictive features: Index(['V3', 'V18', 'V68', 'V87', 'V289', 'V308', 'V350', 'V475', 'V507',\n",
      "       'V539', 'V578', 'V627', 'V673', 'V687', 'V845', 'V1033', 'V1066',\n",
      "       'V1097', 'V1098', 'V1101', 'V1193', 'V1218', 'V1256', 'V1263', 'V1286',\n",
      "       'V1478', 'V1533', 'V1535', 'V1549', 'V1654', 'V1673', 'V1697', 'V1744',\n",
      "       'V1787', 'V1799', 'V1812', 'V1846', 'V1882', 'V1936', 'V1971'],\n",
      "      dtype='object')\n"
     ]
    },
    {
     "name": "stderr",
     "output_type": "stream",
     "text": [
      "/home/samme/.local/lib/python3.10/site-packages/sklearn/base.py:458: UserWarning: X has feature names, but SVC was fitted without feature names\n",
      "  warnings.warn(\n"
     ]
    },
    {
     "name": "stdout",
     "output_type": "stream",
     "text": [
      "Cross val err:  0.5093190973885118\n",
      "Train err:  0.5010827197921178\n",
      "Test err:  0.03114186851211076\n"
     ]
    },
    {
     "name": "stderr",
     "output_type": "stream",
     "text": [
      "100%|███████████████████████████████████████████| 30/30 [04:24<00:00,  8.83s/it]\n"
     ]
    },
    {
     "name": "stdout",
     "output_type": "stream",
     "text": [
      "KNN optimal number of PCA components: 12\n",
      "Cross val err:  0.5093228535744804\n",
      "Train err:  0.5049805110437419\n",
      "Test err:  0.02595155709342556\n"
     ]
    },
    {
     "name": "stderr",
     "output_type": "stream",
     "text": [
      "100%|█████████████████████████████████████████| 100/100 [01:32<00:00,  1.08it/s]"
     ]
    },
    {
     "name": "stdout",
     "output_type": "stream",
     "text": [
      "LR optimal number of features: 14\n",
      "Most predictive features: Index(['V3', 'V18', 'V68', 'V289', 'V539', 'V627', 'V1101', 'V1193', 'V1549',\n",
      "       'V1654', 'V1673', 'V1744', 'V1787', 'V1936'],\n",
      "      dtype='object')\n",
      "Cross val err:  0.5162511385938717\n",
      "Train err:  0.5119099177132957\n",
      "Test err:  0.0709342560553633\n"
     ]
    },
    {
     "name": "stderr",
     "output_type": "stream",
     "text": [
      "\n",
      "/home/samme/.local/lib/python3.10/site-packages/sklearn/base.py:458: UserWarning: X has feature names, but LogisticRegression was fitted without feature names\n",
      "  warnings.warn(\n"
     ]
    }
   ],
   "source": [
    "##Mislabel fraction 0.5, 80/20 split\n",
    "mislabel_fraction = 0.5\n",
    "split = 0.8\n",
    "X_train, X_test, y_train, y_test = pre_process(df, labels_df, split)\n",
    "y_train_noise = mislabel(mislabel_fraction, y_train)\n",
    "\n",
    "d[f\"KNN_PCA_miss_{mislabel_fraction:.1f}_{(1-split)*100:.0f}_{split*100:.0f}\"] = KNN_PCA(X_train, X_test, y_train_noise, y_test)\n",
    "d[f\"KNN_Feat_miss_{mislabel_fraction:.1f}_{(1-split)*100:.0f}_{split*100:.0f}\"] = KNN_features(X_train, X_test, y_train_noise, y_test)\n",
    "d[f\"SVC_PCA_miss_{mislabel_fraction:.1f}_{(1-split)*100:.0f}_{split*100:.0f}\"] = SVC_PCA(X_train, X_test, y_train_noise, y_test)\n",
    "d[f\"SVC_Feat_miss_{mislabel_fraction:.1f}_{(1-split)*100:.0f}_{split*100:.0f}\"] = SVC_features(X_train, X_test, y_train_noise, y_test)\n",
    "d[f\"LR_PCA_miss_{mislabel_fraction:.1f}_{(1-split)*100:.0f}_{split*100:.0f}\"] = LR_PCA(X_train, X_test, y_train_noise, y_test)\n",
    "d[f\"LR_Feat_miss_{mislabel_fraction:.1f}_{(1-split)*100:.0f}_{split*100:.0f}\"] = LR_features(X_train, X_test, y_train_noise, y_test)"
   ]
  },
  {
   "cell_type": "code",
   "execution_count": 21,
   "metadata": {},
   "outputs": [
    {
     "name": "stderr",
     "output_type": "stream",
     "text": [
      "100%|███████████████████████████████████████████| 30/30 [04:44<00:00,  9.48s/it]\n"
     ]
    },
    {
     "name": "stdout",
     "output_type": "stream",
     "text": [
      "KNN optimal number of PCA components: 3\n",
      "Cross val err:  0.5935423151030087\n",
      "Train err:  0.4526558891454965\n",
      "Test err:  0.2802768166089965\n",
      "\n",
      "\n"
     ]
    },
    {
     "name": "stderr",
     "output_type": "stream",
     "text": [
      "100%|█████████████████████████████████████████| 100/100 [00:12<00:00,  7.92it/s]\n",
      "/home/samme/.local/lib/python3.10/site-packages/sklearn/base.py:458: UserWarning: X has feature names, but KNeighborsClassifier was fitted without feature names\n",
      "  warnings.warn(\n"
     ]
    },
    {
     "name": "stdout",
     "output_type": "stream",
     "text": [
      "KNN optimal number of features: 23\n",
      "Most predictive features: Index(['V18', 'V68', 'V350', 'V475', 'V539', 'V627', 'V982', 'V1066', 'V1097',\n",
      "       'V1101', 'V1193', 'V1256', 'V1517', 'V1533', 'V1572', 'V1635', 'V1654',\n",
      "       'V1673', 'V1744', 'V1787', 'V1799', 'V1846', 'V1936'],\n",
      "      dtype='object')\n",
      "Cross val err:  0.5804468652734548\n",
      "Train err:  0.4588144726712856\n",
      "Test err:  0.24913494809688586\n"
     ]
    },
    {
     "name": "stderr",
     "output_type": "stream",
     "text": [
      "100%|███████████████████████████████████████████| 30/30 [05:28<00:00, 10.96s/it]\n"
     ]
    },
    {
     "name": "stdout",
     "output_type": "stream",
     "text": [
      "SVC optimal number of PCA components: 13\n",
      "Cross val err:  0.5042418852823477\n",
      "Train err:  0.5003849114703618\n",
      "Test err:  0.00692041522491349\n"
     ]
    },
    {
     "name": "stderr",
     "output_type": "stream",
     "text": [
      "100%|█████████████████████████████████████████| 100/100 [02:31<00:00,  1.52s/it]\n"
     ]
    },
    {
     "name": "stdout",
     "output_type": "stream",
     "text": [
      "SVC optimal number of features: 66\n",
      "Most predictive features: Index(['V3', 'V18', 'V29', 'V30', 'V68', 'V77', 'V87', 'V178', 'V193', 'V200',\n",
      "       'V278', 'V289', 'V307', 'V350', 'V475', 'V494', 'V539', 'V605', 'V627',\n",
      "       'V663', 'V664', 'V673', 'V845', 'V855', 'V959', 'V982', 'V1024',\n",
      "       'V1028', 'V1033', 'V1066', 'V1078', 'V1097', 'V1101', 'V1126', 'V1193',\n",
      "       'V1218', 'V1249', 'V1256', 'V1263', 'V1286', 'V1290', 'V1300', 'V1399',\n",
      "       'V1478', 'V1517', 'V1533', 'V1535', 'V1549', 'V1572', 'V1635', 'V1644',\n",
      "       'V1654', 'V1673', 'V1697', 'V1744', 'V1767', 'V1772', 'V1787', 'V1799',\n",
      "       'V1827', 'V1846', 'V1871', 'V1882', 'V1931', 'V1936', 'V1971'],\n",
      "      dtype='object')\n"
     ]
    },
    {
     "name": "stderr",
     "output_type": "stream",
     "text": [
      "/home/samme/.local/lib/python3.10/site-packages/sklearn/base.py:458: UserWarning: X has feature names, but SVC was fitted without feature names\n",
      "  warnings.warn(\n"
     ]
    },
    {
     "name": "stdout",
     "output_type": "stream",
     "text": [
      "Cross val err:  0.5046272417370684\n",
      "Train err:  0.4992301770592764\n",
      "Test err:  0.01038062283737029\n"
     ]
    },
    {
     "name": "stderr",
     "output_type": "stream",
     "text": [
      "100%|███████████████████████████████████████████| 30/30 [04:51<00:00,  9.71s/it]\n"
     ]
    },
    {
     "name": "stdout",
     "output_type": "stream",
     "text": [
      "KNN optimal number of PCA components: 24\n",
      "Cross val err:  0.5065518008003557\n",
      "Train err:  0.5057736720554272\n",
      "Test err:  0.02076124567474047\n"
     ]
    },
    {
     "name": "stderr",
     "output_type": "stream",
     "text": [
      "100%|█████████████████████████████████████████| 100/100 [01:45<00:00,  1.05s/it]\n"
     ]
    },
    {
     "name": "stdout",
     "output_type": "stream",
     "text": [
      "LR optimal number of features: 47\n",
      "Most predictive features: Index(['V3', 'V18', 'V29', 'V68', 'V87', 'V178', 'V278', 'V289', 'V350',\n",
      "       'V475', 'V494', 'V539', 'V627', 'V673', 'V845', 'V959', 'V982', 'V1028',\n",
      "       'V1033', 'V1066', 'V1097', 'V1101', 'V1193', 'V1218', 'V1256', 'V1263',\n",
      "       'V1290', 'V1300', 'V1399', 'V1478', 'V1517', 'V1533', 'V1549', 'V1572',\n",
      "       'V1635', 'V1644', 'V1654', 'V1673', 'V1697', 'V1744', 'V1772', 'V1787',\n",
      "       'V1799', 'V1846', 'V1871', 'V1882', 'V1936'],\n",
      "      dtype='object')\n",
      "Cross val err:  0.521562175781829\n",
      "Train err:  0.5084680523479599\n",
      "Test err:  0.04152249134948094\n"
     ]
    },
    {
     "name": "stderr",
     "output_type": "stream",
     "text": [
      "/home/samme/.local/lib/python3.10/site-packages/sklearn/base.py:458: UserWarning: X has feature names, but LogisticRegression was fitted without feature names\n",
      "  warnings.warn(\n"
     ]
    }
   ],
   "source": [
    "##Mislabel fraction 0.5, 90/10 split\n",
    "mislabel_fraction = 0.5\n",
    "split = 0.9\n",
    "X_train, X_test, y_train, y_test = pre_process(df, labels_df, split)\n",
    "y_train_noise = mislabel(mislabel_fraction, y_train)\n",
    "\n",
    "d[f\"KNN_PCA_miss_{mislabel_fraction:.1f}_{(1-split)*100:.0f}_{split*100:.0f}\"] = KNN_PCA(X_train, X_test, y_train_noise, y_test)\n",
    "d[f\"KNN_Feat_miss_{mislabel_fraction:.1f}_{(1-split)*100:.0f}_{split*100:.0f}\"] = KNN_features(X_train, X_test, y_train_noise, y_test)\n",
    "d[f\"SVC_PCA_miss_{mislabel_fraction:.1f}_{(1-split)*100:.0f}_{split*100:.0f}\"] = SVC_PCA(X_train, X_test, y_train_noise, y_test)\n",
    "d[f\"SVC_Feat_miss_{mislabel_fraction:.1f}_{(1-split)*100:.0f}_{split*100:.0f}\"] = SVC_features(X_train, X_test, y_train_noise, y_test)\n",
    "d[f\"LR_PCA_miss_{mislabel_fraction:.1f}_{(1-split)*100:.0f}_{split*100:.0f}\"] = LR_PCA(X_train, X_test, y_train_noise, y_test)\n",
    "d[f\"LR_Feat_miss_{mislabel_fraction:.1f}_{(1-split)*100:.0f}_{split*100:.0f}\"] = LR_features(X_train, X_test, y_train_noise, y_test)"
   ]
  },
  {
   "cell_type": "code",
   "execution_count": 22,
   "metadata": {},
   "outputs": [
    {
     "name": "stderr",
     "output_type": "stream",
     "text": [
      "100%|███████████████████████████████████████████| 30/30 [03:55<00:00,  7.85s/it]\n"
     ]
    },
    {
     "name": "stdout",
     "output_type": "stream",
     "text": [
      "KNN optimal number of PCA components: 1\n",
      "Cross val err:  0.8257425742574257\n",
      "Train err:  0.555940594059406\n",
      "Test err:  0.889273356401384\n",
      "\n",
      "\n"
     ]
    },
    {
     "name": "stderr",
     "output_type": "stream",
     "text": [
      "100%|█████████████████████████████████████████| 100/100 [00:09<00:00, 11.06it/s]\n",
      "/home/samme/.local/lib/python3.10/site-packages/sklearn/base.py:458: UserWarning: X has feature names, but KNeighborsClassifier was fitted without feature names\n",
      "  warnings.warn(\n"
     ]
    },
    {
     "name": "stdout",
     "output_type": "stream",
     "text": [
      "KNN optimal number of features: 40\n",
      "Most predictive features: Index(['V3', 'V68', 'V75', 'V77', 'V111', 'V187', 'V201', 'V289', 'V350',\n",
      "       'V541', 'V745', 'V750', 'V795', 'V1015', 'V1017', 'V1089', 'V1101',\n",
      "       'V1147', 'V1191', 'V1193', 'V1218', 'V1225', 'V1256', 'V1286', 'V1397',\n",
      "       'V1530', 'V1549', 'V1635', 'V1637', 'V1646', 'V1654', 'V1667', 'V1702',\n",
      "       'V1738', 'V1772', 'V1787', 'V1846', 'V1862', 'V1882', 'V1971'],\n",
      "      dtype='object')\n",
      "Cross val err:  0.810891089108911\n",
      "Train err:  0.550990099009901\n",
      "Test err:  0.9123414071510957\n"
     ]
    },
    {
     "name": "stderr",
     "output_type": "stream",
     "text": [
      "100%|███████████████████████████████████████████| 30/30 [04:35<00:00,  9.19s/it]\n"
     ]
    },
    {
     "name": "stdout",
     "output_type": "stream",
     "text": [
      "SVC optimal number of PCA components: 2\n",
      "Cross val err:  0.8004950495049505\n",
      "Train err:  0.7900990099009901\n",
      "Test err:  0.9953863898500577\n"
     ]
    },
    {
     "name": "stderr",
     "output_type": "stream",
     "text": [
      "100%|█████████████████████████████████████████| 100/100 [01:44<00:00,  1.04s/it]\n"
     ]
    },
    {
     "name": "stdout",
     "output_type": "stream",
     "text": [
      "SVC optimal number of features: 2\n",
      "Most predictive features: Index(['V201', 'V1654'], dtype='object')\n"
     ]
    },
    {
     "name": "stderr",
     "output_type": "stream",
     "text": [
      "/home/samme/.local/lib/python3.10/site-packages/sklearn/base.py:458: UserWarning: X has feature names, but SVC was fitted without feature names\n",
      "  warnings.warn(\n"
     ]
    },
    {
     "name": "stdout",
     "output_type": "stream",
     "text": [
      "Cross val err:  0.7876237623762377\n",
      "Train err:  0.7806930693069307\n",
      "Test err:  0.9700115340253749\n"
     ]
    },
    {
     "name": "stderr",
     "output_type": "stream",
     "text": [
      "100%|███████████████████████████████████████████| 30/30 [03:50<00:00,  7.68s/it]\n"
     ]
    },
    {
     "name": "stdout",
     "output_type": "stream",
     "text": [
      "KNN optimal number of PCA components: 3\n",
      "Cross val err:  0.8014851485148515\n",
      "Train err:  0.7930693069306931\n",
      "Test err:  1.0\n"
     ]
    },
    {
     "name": "stderr",
     "output_type": "stream",
     "text": [
      "100%|█████████████████████████████████████████| 100/100 [01:35<00:00,  1.05it/s]"
     ]
    },
    {
     "name": "stdout",
     "output_type": "stream",
     "text": [
      "LR optimal number of features: 3\n",
      "Most predictive features: Index(['V201', 'V795', 'V1654'], dtype='object')\n",
      "Cross val err:  0.7871287128712872\n",
      "Train err:  0.7876237623762377\n",
      "Test err:  0.9746251441753172\n"
     ]
    },
    {
     "name": "stderr",
     "output_type": "stream",
     "text": [
      "\n",
      "/home/samme/.local/lib/python3.10/site-packages/sklearn/base.py:458: UserWarning: X has feature names, but LogisticRegression was fitted without feature names\n",
      "  warnings.warn(\n"
     ]
    }
   ],
   "source": [
    "##Mislabel fraction 0.9, 70/30 split\n",
    "mislabel_fraction = 0.9\n",
    "split = 0.7\n",
    "X_train, X_test, y_train, y_test = pre_process(df, labels_df, split)\n",
    "y_train_noise = mislabel(mislabel_fraction, y_train)\n",
    "\n",
    "d[f\"KNN_PCA_miss_{mislabel_fraction:.1f}_{(1-split)*100:.0f}_{split*100:.0f}\"] = KNN_PCA(X_train, X_test, y_train_noise, y_test)\n",
    "d[f\"KNN_Feat_miss_{mislabel_fraction:.1f}_{(1-split)*100:.0f}_{split*100:.0f}\"] = KNN_features(X_train, X_test, y_train_noise, y_test)\n",
    "d[f\"SVC_PCA_miss_{mislabel_fraction:.1f}_{(1-split)*100:.0f}_{split*100:.0f}\"] = SVC_PCA(X_train, X_test, y_train_noise, y_test)\n",
    "d[f\"SVC_Feat_miss_{mislabel_fraction:.1f}_{(1-split)*100:.0f}_{split*100:.0f}\"] = SVC_features(X_train, X_test, y_train_noise, y_test)\n",
    "d[f\"LR_PCA_miss_{mislabel_fraction:.1f}_{(1-split)*100:.0f}_{split*100:.0f}\"] = LR_PCA(X_train, X_test, y_train_noise, y_test)\n",
    "d[f\"LR_Feat_miss_{mislabel_fraction:.1f}_{(1-split)*100:.0f}_{split*100:.0f}\"] = LR_features(X_train, X_test, y_train_noise, y_test)"
   ]
  },
  {
   "cell_type": "code",
   "execution_count": 23,
   "metadata": {},
   "outputs": [
    {
     "name": "stderr",
     "output_type": "stream",
     "text": [
      "100%|███████████████████████████████████████████| 30/30 [04:24<00:00,  8.83s/it]\n"
     ]
    },
    {
     "name": "stdout",
     "output_type": "stream",
     "text": [
      "KNN optimal number of PCA components: 21\n",
      "Cross val err:  0.799044989717441\n",
      "Train err:  0.5599826764833261\n",
      "Test err:  0.9117647058823529\n",
      "\n",
      "\n"
     ]
    },
    {
     "name": "stderr",
     "output_type": "stream",
     "text": [
      "100%|█████████████████████████████████████████| 100/100 [00:10<00:00,  9.18it/s]\n",
      "/home/samme/.local/lib/python3.10/site-packages/sklearn/base.py:458: UserWarning: X has feature names, but KNeighborsClassifier was fitted without feature names\n",
      "  warnings.warn(\n"
     ]
    },
    {
     "name": "stdout",
     "output_type": "stream",
     "text": [
      "KNN optimal number of features: 1\n",
      "Most predictive features: Index(['V1549'], dtype='object')\n",
      "Cross val err:  0.810304157158821\n",
      "Train err:  0.5612819402338675\n",
      "Test err:  0.8477508650519031\n"
     ]
    },
    {
     "name": "stderr",
     "output_type": "stream",
     "text": [
      "100%|███████████████████████████████████████████| 30/30 [05:27<00:00, 10.93s/it]\n"
     ]
    },
    {
     "name": "stdout",
     "output_type": "stream",
     "text": [
      "SVC optimal number of PCA components: 29\n",
      "Cross val err:  0.8025128884131054\n",
      "Train err:  0.6470333477695973\n",
      "Test err:  1.0\n"
     ]
    },
    {
     "name": "stderr",
     "output_type": "stream",
     "text": [
      "100%|█████████████████████████████████████████| 100/100 [02:16<00:00,  1.36s/it]\n"
     ]
    },
    {
     "name": "stdout",
     "output_type": "stream",
     "text": [
      "SVC optimal number of features: 28\n",
      "Most predictive features: Index(['V3', 'V24', 'V68', 'V87', 'V200', 'V289', 'V392', 'V413', 'V507',\n",
      "       'V627', 'V871', 'V1012', 'V1089', 'V1101', 'V1193', 'V1256', 'V1293',\n",
      "       'V1299', 'V1549', 'V1575', 'V1654', 'V1747', 'V1787', 'V1846', 'V1924',\n",
      "       'V1931', 'V1971', 'V1999'],\n",
      "      dtype='object')\n"
     ]
    },
    {
     "name": "stderr",
     "output_type": "stream",
     "text": [
      "/home/samme/.local/lib/python3.10/site-packages/sklearn/base.py:458: UserWarning: X has feature names, but SVC was fitted without feature names\n",
      "  warnings.warn(\n"
     ]
    },
    {
     "name": "stdout",
     "output_type": "stream",
     "text": [
      "Cross val err:  0.7968673409020481\n",
      "Train err:  0.6652230402771763\n",
      "Test err:  0.9982698961937716\n"
     ]
    },
    {
     "name": "stderr",
     "output_type": "stream",
     "text": [
      "100%|███████████████████████████████████████████| 30/30 [04:28<00:00,  8.95s/it]\n"
     ]
    },
    {
     "name": "stdout",
     "output_type": "stream",
     "text": [
      "KNN optimal number of PCA components: 5\n",
      "Cross val err:  0.8033815064183828\n",
      "Train err:  0.7899523603291468\n",
      "Test err:  1.0\n"
     ]
    },
    {
     "name": "stderr",
     "output_type": "stream",
     "text": [
      "100%|█████████████████████████████████████████| 100/100 [01:42<00:00,  1.02s/it]\n"
     ]
    },
    {
     "name": "stdout",
     "output_type": "stream",
     "text": [
      "LR optimal number of features: 76\n",
      "Most predictive features: Index(['V3', 'V24', 'V68', 'V77', 'V87', 'V91', 'V96', 'V98', 'V178', 'V200',\n",
      "       'V201', 'V217', 'V227', 'V289', 'V314', 'V350', 'V381', 'V392', 'V413',\n",
      "       'V418', 'V464', 'V507', 'V541', 'V555', 'V594', 'V627', 'V704', 'V728',\n",
      "       'V795', 'V819', 'V822', 'V823', 'V832', 'V871', 'V982', 'V992', 'V1012',\n",
      "       'V1028', 'V1040', 'V1050', 'V1089', 'V1095', 'V1101', 'V1149', 'V1152',\n",
      "       'V1193', 'V1208', 'V1256', 'V1273', 'V1286', 'V1290', 'V1293', 'V1299',\n",
      "       'V1443', 'V1497', 'V1530', 'V1533', 'V1536', 'V1549', 'V1575', 'V1615',\n",
      "       'V1635', 'V1654', 'V1658', 'V1747', 'V1770', 'V1772', 'V1787', 'V1812',\n",
      "       'V1846', 'V1882', 'V1884', 'V1924', 'V1931', 'V1971', 'V1999'],\n",
      "      dtype='object')\n",
      "Cross val err:  0.7791249964785757\n",
      "Train err:  0.6829796448679082\n",
      "Test err:  0.9584775086505191\n"
     ]
    },
    {
     "name": "stderr",
     "output_type": "stream",
     "text": [
      "/home/samme/.local/lib/python3.10/site-packages/sklearn/base.py:458: UserWarning: X has feature names, but LogisticRegression was fitted without feature names\n",
      "  warnings.warn(\n"
     ]
    }
   ],
   "source": [
    "##Mislabel fraction 0.9, 80/20 split\n",
    "mislabel_fraction = 0.9\n",
    "split = 0.8\n",
    "X_train, X_test, y_train, y_test = pre_process(df, labels_df, split)\n",
    "y_train_noise = mislabel(mislabel_fraction, y_train)\n",
    "\n",
    "d[f\"KNN_PCA_miss_{mislabel_fraction:.1f}_{(1-split)*100:.0f}_{split*100:.0f}\"] = KNN_PCA(X_train, X_test, y_train_noise, y_test)\n",
    "d[f\"KNN_Feat_miss_{mislabel_fraction:.1f}_{(1-split)*100:.0f}_{split*100:.0f}\"] = KNN_features(X_train, X_test, y_train_noise, y_test)\n",
    "d[f\"SVC_PCA_miss_{mislabel_fraction:.1f}_{(1-split)*100:.0f}_{split*100:.0f}\"] = SVC_PCA(X_train, X_test, y_train_noise, y_test)\n",
    "d[f\"SVC_Feat_miss_{mislabel_fraction:.1f}_{(1-split)*100:.0f}_{split*100:.0f}\"] = SVC_features(X_train, X_test, y_train_noise, y_test)\n",
    "d[f\"LR_PCA_miss_{mislabel_fraction:.1f}_{(1-split)*100:.0f}_{split*100:.0f}\"] = LR_PCA(X_train, X_test, y_train_noise, y_test)\n",
    "d[f\"LR_Feat_miss_{mislabel_fraction:.1f}_{(1-split)*100:.0f}_{split*100:.0f}\"] = LR_features(X_train, X_test, y_train_noise, y_test)"
   ]
  },
  {
   "cell_type": "code",
   "execution_count": 24,
   "metadata": {},
   "outputs": [
    {
     "name": "stderr",
     "output_type": "stream",
     "text": [
      "100%|███████████████████████████████████████████| 30/30 [04:49<00:00,  9.64s/it]\n"
     ]
    },
    {
     "name": "stdout",
     "output_type": "stream",
     "text": [
      "KNN optimal number of PCA components: 28\n",
      "Cross val err:  0.8090810730695124\n",
      "Train err:  0.5746728252501925\n",
      "Test err:  0.8927335640138409\n",
      "\n",
      "\n"
     ]
    },
    {
     "name": "stderr",
     "output_type": "stream",
     "text": [
      "100%|█████████████████████████████████████████| 100/100 [00:13<00:00,  7.63it/s]\n",
      "/home/samme/.local/lib/python3.10/site-packages/sklearn/base.py:458: UserWarning: X has feature names, but KNeighborsClassifier was fitted without feature names\n",
      "  warnings.warn(\n"
     ]
    },
    {
     "name": "stdout",
     "output_type": "stream",
     "text": [
      "KNN optimal number of features: 4\n",
      "Most predictive features: Index(['V68', 'V178', 'V1101', 'V1654'], dtype='object')\n",
      "Cross val err:  0.8148517859789536\n",
      "Train err:  0.5585065434949962\n",
      "Test err:  0.8858131487889274\n"
     ]
    },
    {
     "name": "stderr",
     "output_type": "stream",
     "text": [
      "100%|███████████████████████████████████████████| 30/30 [06:14<00:00, 12.47s/it]\n"
     ]
    },
    {
     "name": "stdout",
     "output_type": "stream",
     "text": [
      "SVC optimal number of PCA components: 1\n",
      "Cross val err:  0.8291003408922484\n",
      "Train err:  0.8033102386451116\n",
      "Test err:  0.9930795847750865\n"
     ]
    },
    {
     "name": "stderr",
     "output_type": "stream",
     "text": [
      "100%|█████████████████████████████████████████| 100/100 [02:51<00:00,  1.71s/it]\n"
     ]
    },
    {
     "name": "stdout",
     "output_type": "stream",
     "text": [
      "SVC optimal number of features: 18\n",
      "Most predictive features: Index(['V68', 'V128', 'V178', 'V282', 'V295', 'V320', 'V394', 'V469', 'V915',\n",
      "       'V1045', 'V1097', 'V1101', 'V1193', 'V1654', 'V1725', 'V1787', 'V1971',\n",
      "       'V1999'],\n",
      "      dtype='object')\n"
     ]
    },
    {
     "name": "stderr",
     "output_type": "stream",
     "text": [
      "/home/samme/.local/lib/python3.10/site-packages/sklearn/base.py:458: UserWarning: X has feature names, but SVC was fitted without feature names\n",
      "  warnings.warn(\n"
     ]
    },
    {
     "name": "stdout",
     "output_type": "stream",
     "text": [
      "Cross val err:  0.8117896843041352\n",
      "Train err:  0.7090069284064665\n",
      "Test err:  0.9930795847750865\n"
     ]
    },
    {
     "name": "stderr",
     "output_type": "stream",
     "text": [
      "100%|███████████████████████████████████████████| 30/30 [04:47<00:00,  9.59s/it]\n"
     ]
    },
    {
     "name": "stdout",
     "output_type": "stream",
     "text": [
      "KNN optimal number of PCA components: 2\n",
      "Cross val err:  0.8152356602934638\n",
      "Train err:  0.8148575827559661\n",
      "Test err:  0.986159169550173\n"
     ]
    },
    {
     "name": "stderr",
     "output_type": "stream",
     "text": [
      "100%|█████████████████████████████████████████| 100/100 [01:44<00:00,  1.05s/it]\n"
     ]
    },
    {
     "name": "stdout",
     "output_type": "stream",
     "text": [
      "LR optimal number of features: 53\n",
      "Most predictive features: Index(['V3', 'V24', 'V68', 'V87', 'V128', 'V147', 'V178', 'V282', 'V295',\n",
      "       'V320', 'V394', 'V424', 'V469', 'V494', 'V627', 'V642', 'V667', 'V795',\n",
      "       'V823', 'V855', 'V915', 'V959', 'V1017', 'V1038', 'V1045', 'V1097',\n",
      "       'V1101', 'V1193', 'V1217', 'V1218', 'V1290', 'V1315', 'V1423', 'V1487',\n",
      "       'V1549', 'V1589', 'V1644', 'V1654', 'V1725', 'V1738', 'V1778', 'V1787',\n",
      "       'V1792', 'V1806', 'V1827', 'V1846', 'V1862', 'V1915', 'V1931', 'V1936',\n",
      "       'V1962', 'V1971', 'V1999'],\n",
      "      dtype='object')\n",
      "Cross val err:  0.8002245442418853\n",
      "Train err:  0.7340261739799846\n",
      "Test err:  0.9896193771626297\n"
     ]
    },
    {
     "name": "stderr",
     "output_type": "stream",
     "text": [
      "/home/samme/.local/lib/python3.10/site-packages/sklearn/base.py:458: UserWarning: X has feature names, but LogisticRegression was fitted without feature names\n",
      "  warnings.warn(\n"
     ]
    }
   ],
   "source": [
    "##Mislabel fraction 0.9, 90/10 split\n",
    "mislabel_fraction = 0.9\n",
    "split = 0.9\n",
    "X_train, X_test, y_train, y_test = pre_process(df, labels_df, split)\n",
    "y_train_noise = mislabel(mislabel_fraction, y_train)\n",
    "\n",
    "d[f\"KNN_PCA_miss_{mislabel_fraction:.1f}_{(1-split)*100:.0f}_{split*100:.0f}\"] = KNN_PCA(X_train, X_test, y_train_noise, y_test)\n",
    "d[f\"KNN_Feat_miss_{mislabel_fraction:.1f}_{(1-split)*100:.0f}_{split*100:.0f}\"] = KNN_features(X_train, X_test, y_train_noise, y_test)\n",
    "d[f\"SVC_PCA_miss_{mislabel_fraction:.1f}_{(1-split)*100:.0f}_{split*100:.0f}\"] = SVC_PCA(X_train, X_test, y_train_noise, y_test)\n",
    "d[f\"SVC_Feat_miss_{mislabel_fraction:.1f}_{(1-split)*100:.0f}_{split*100:.0f}\"] = SVC_features(X_train, X_test, y_train_noise, y_test)\n",
    "d[f\"LR_PCA_miss_{mislabel_fraction:.1f}_{(1-split)*100:.0f}_{split*100:.0f}\"] = LR_PCA(X_train, X_test, y_train_noise, y_test)\n",
    "d[f\"LR_Feat_miss_{mislabel_fraction:.1f}_{(1-split)*100:.0f}_{split*100:.0f}\"] = LR_features(X_train, X_test, y_train_noise, y_test)"
   ]
  },
  {
   "cell_type": "code",
   "execution_count": 25,
   "metadata": {},
   "outputs": [],
   "source": [
    "#Save data of part 2\n",
    "df_miss = pd.DataFrame(data =d, index = ['Train', 'Cross', 'Test', 'Opt_Feat_or_PCA'])\n",
    "df_miss.to_csv('./data_miss.csv', sep=\" \")"
   ]
  },
  {
   "cell_type": "code",
   "execution_count": 26,
   "metadata": {},
   "outputs": [
    {
     "name": "stdout",
     "output_type": "stream",
     "text": [
      "                 KNN_PCA_30_70  KNN_Feat_30_70  SVC_PCA_30_70  SVC_Feat_30_70  \\\n",
      "Train                 0.007921        0.007921       0.003465        0.001980   \n",
      "Cross                 0.008416        0.008416       0.007921        0.006931   \n",
      "Test                  0.009227        0.010381       0.008074        0.005767   \n",
      "Opt_Feat_or_PCA      22.000000      100.000000      20.000000      100.000000   \n",
      "\n",
      "                 LR_PCA_30_70  LR_Feat_30_70  KNN_PCA_20_80  KNN_Feat_20_80  \\\n",
      "Train                0.000000       0.000000       0.004331        0.004764   \n",
      "Cross                0.008416       0.005446       0.004331        0.006928   \n",
      "Test                 0.010381       0.004614       0.015571        0.015571   \n",
      "Opt_Feat_or_PCA     18.000000      92.000000      30.000000       75.000000   \n",
      "\n",
      "                 SVC_PCA_20_80  SVC_Feat_20_80  LR_PCA_20_80  LR_Feat_20_80  \\\n",
      "Train                 0.003898        0.002599       0.00000       0.000000   \n",
      "Cross                 0.004764        0.003897       0.00736       0.003031   \n",
      "Test                  0.013841        0.012111       0.00173       0.006920   \n",
      "Opt_Feat_or_PCA      12.000000       88.000000      24.00000      88.000000   \n",
      "\n",
      "                 KNN_PCA_10_90  KNN_Feat_10_90  SVC_PCA_10_90  SVC_Feat_10_90  \\\n",
      "Train                 0.004234        0.007698       0.002694        0.001925   \n",
      "Cross                 0.006542        0.008080       0.005001        0.005388   \n",
      "Test                  0.020761        0.010381       0.010381        0.010381   \n",
      "Opt_Feat_or_PCA      28.000000       76.000000      22.000000       93.000000   \n",
      "\n",
      "                 LR_PCA_10_90  LR_Feat_10_90  \n",
      "Train                0.000000       0.000000  \n",
      "Cross                0.004234       0.004617  \n",
      "Test                 0.010381       0.006920  \n",
      "Opt_Feat_or_PCA     22.000000      95.000000  \n",
      "                 KNN_PCA_miss_0.2_30_70  KNN_Feat_miss_0.2_30_70  \\\n",
      "Train                          0.202970                 0.203960   \n",
      "Cross                          0.216337                 0.219802   \n",
      "Test                           0.019608                 0.036909   \n",
      "Opt_Feat_or_PCA                9.000000                99.000000   \n",
      "\n",
      "                 SVC_PCA_miss_0.2_30_70  SVC_Feat_miss_0.2_30_70  \\\n",
      "Train                          0.205446                 0.202475   \n",
      "Cross                          0.206931                 0.210396   \n",
      "Test                           0.004614                 0.005767   \n",
      "Opt_Feat_or_PCA                9.000000                95.000000   \n",
      "\n",
      "                 LR_PCA_miss_0.2_30_70  LR_Feat_miss_0.2_30_70  \\\n",
      "Train                         0.207426                0.210891   \n",
      "Cross                         0.208416                0.219307   \n",
      "Test                          0.002307                0.029988   \n",
      "Opt_Feat_or_PCA              22.000000               37.000000   \n",
      "\n",
      "                 KNN_PCA_miss_0.2_20_80  KNN_Feat_miss_0.2_20_80  \\\n",
      "Train                          0.199220                 0.203984   \n",
      "Cross                          0.213950                 0.217851   \n",
      "Test                           0.032872                 0.013841   \n",
      "Opt_Feat_or_PCA                9.000000                72.000000   \n",
      "\n",
      "                 SVC_PCA_miss_0.2_20_80  SVC_Feat_miss_0.2_20_80  ...  \\\n",
      "Train                          0.203984                 0.201386  ...   \n",
      "Cross                          0.206155                 0.206587  ...   \n",
      "Test                           0.008651                 0.001730  ...   \n",
      "Opt_Feat_or_PCA               11.000000                63.000000  ...   \n",
      "\n",
      "                 SVC_PCA_miss_0.9_20_80  SVC_Feat_miss_0.9_20_80  \\\n",
      "Train                          0.647033                 0.665223   \n",
      "Cross                          0.802513                 0.796867   \n",
      "Test                           1.000000                 0.998270   \n",
      "Opt_Feat_or_PCA               29.000000                28.000000   \n",
      "\n",
      "                 LR_PCA_miss_0.9_20_80  LR_Feat_miss_0.9_20_80  \\\n",
      "Train                         0.789952                0.682980   \n",
      "Cross                         0.803382                0.779125   \n",
      "Test                          1.000000                0.958478   \n",
      "Opt_Feat_or_PCA               5.000000               76.000000   \n",
      "\n",
      "                 KNN_PCA_miss_0.9_10_90  KNN_Feat_miss_0.9_10_90  \\\n",
      "Train                          0.574673                 0.558507   \n",
      "Cross                          0.809081                 0.814852   \n",
      "Test                           0.892734                 0.885813   \n",
      "Opt_Feat_or_PCA               28.000000                 4.000000   \n",
      "\n",
      "                 SVC_PCA_miss_0.9_10_90  SVC_Feat_miss_0.9_10_90  \\\n",
      "Train                           0.80331                 0.709007   \n",
      "Cross                           0.82910                 0.811790   \n",
      "Test                            0.99308                 0.993080   \n",
      "Opt_Feat_or_PCA                 1.00000                18.000000   \n",
      "\n",
      "                 LR_PCA_miss_0.9_10_90  LR_Feat_miss_0.9_10_90  \n",
      "Train                         0.814858                0.734026  \n",
      "Cross                         0.815236                0.800225  \n",
      "Test                          0.986159                0.989619  \n",
      "Opt_Feat_or_PCA               2.000000               53.000000  \n",
      "\n",
      "[4 rows x 54 columns]\n"
     ]
    }
   ],
   "source": [
    "##Print data from both parts\n",
    "td = pd.read_csv('./data.csv', sep = \" \", header=0, index_col=0)\n",
    "print(td)\n",
    "td_miss= pd.read_csv('./data_miss.csv', sep = \" \", header=0, index_col=0)\n",
    "print(td_miss)\n",
    "\n"
   ]
  }
 ],
 "metadata": {
  "kernelspec": {
   "display_name": "Python 3 (ipykernel)",
   "language": "python",
   "name": "python3"
  },
  "language_info": {
   "codemirror_mode": {
    "name": "ipython",
    "version": 3
   },
   "file_extension": ".py",
   "mimetype": "text/x-python",
   "name": "python",
   "nbconvert_exporter": "python",
   "pygments_lexer": "ipython3",
   "version": "3.10.12"
  }
 },
 "nbformat": 4,
 "nbformat_minor": 4
}
