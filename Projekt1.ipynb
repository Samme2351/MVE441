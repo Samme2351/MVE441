{
 "cells": [
  {
   "cell_type": "code",
   "execution_count": 1,
   "metadata": {},
   "outputs": [],
   "source": [
    "import pandas as pd\n",
    "import numpy as np\n",
    "from sklearn.preprocessing import StandardScaler\n",
    "from sklearn.model_selection import train_test_split, cross_val_score\n",
    "from sklearn.metrics import accuracy_score\n",
    "from sklearn.pipeline import make_pipeline\n",
    "from sklearn.decomposition import PCA\n",
    "from sklearn.neighbors import KNeighborsClassifier\n",
    "from sklearn.svm import SVC  \n",
    "from sklearn.linear_model import LogisticRegression\n",
    "from sklearn.feature_selection import SelectKBest, f_classif\n",
    "from tqdm import tqdm\n",
    "\n",
    "#features = [f\"V{x}\" for x in range(1,2000)]\n",
    "df = pd.read_csv('Data/TCGAdata.txt', sep=\" \" ,header=0)\n",
    "labels_df = pd.read_csv('Data/TCGAlabels', sep=\" \" ,header=0)\n",
    "\n",
    "#Set max number of components for PCA\n",
    "max_num_components = 30\n",
    "\n",
    "num_components_range = range(1, max_num_components)"
   ]
  },
  {
   "cell_type": "code",
   "execution_count": 2,
   "metadata": {},
   "outputs": [],
   "source": [
    "#Pre-processes the data by splitting and normalizing \n",
    "def pre_process(data, labels, train_size):\n",
    "    #Split data into training and test data\n",
    "    X_train, X_test, y_train, y_test = train_test_split(df, labels_df.values.ravel(), test_size=1-train_size)\n",
    "    \n",
    "    #Standardize the rows (transposing as fit_transform standardizes along columns)\n",
    "    #Scale after split to avoid data leakage\n",
    "    scaler = StandardScaler()\n",
    "    X_train = pd.DataFrame(np.transpose(scaler.fit_transform(X_train.transpose())), columns=X_train.columns)\n",
    "    X_test = pd.DataFrame(np.transpose(scaler.fit_transform(X_test.transpose())), columns=X_test.columns)\n",
    "    \n",
    "    return X_train, X_test, y_train, y_test"
   ]
  },
  {
   "cell_type": "code",
   "execution_count": 3,
   "metadata": {},
   "outputs": [],
   "source": [
    "##KNN PCA\n",
    "\n",
    "def KNN_PCA(X_train, X_test, y_train, y_test):\n",
    "\n",
    "    KNN_mean_scores = np.zeros(max_num_components)\n",
    "\n",
    "    # Loop over different numbers of components\n",
    "    for n_components in tqdm(num_components_range):\n",
    "\n",
    "        #PCA\n",
    "\n",
    "        KNN_pipeline = make_pipeline(PCA(n_components=n_components), KNeighborsClassifier(n_neighbors=5))\n",
    "\n",
    "        KNN_scores = cross_val_score(KNN_pipeline, X_train, y_train, cv=5)\n",
    "        KNN_mean_score = KNN_scores.mean()\n",
    "\n",
    "        #KNN_mean_scores.append(KNN_mean_score)\n",
    "        KNN_mean_scores[n_components] = KNN_mean_score\n",
    "\n",
    "    KNN_optimal_n_components = np.where(KNN_mean_scores==KNN_mean_scores.max())[0][0]+1\n",
    "    cross_val_err = 1 - max(KNN_mean_scores)\n",
    "\n",
    "    print(\"KNN optimal number of PCA components:\", KNN_optimal_n_components)\n",
    "\n",
    "    opt_pipeline = make_pipeline(PCA(n_components=KNN_optimal_n_components), KNeighborsClassifier(n_neighbors=5))\n",
    "\n",
    "    opt_pipeline.fit(X_train, y_train)\n",
    "    train_pred = opt_pipeline.predict(X_train)\n",
    "    train_error = 1 - accuracy_score(y_train, train_pred)\n",
    "\n",
    "    test_pred = opt_pipeline.predict(X_test)\n",
    "    test_error = 1 - accuracy_score(y_test, test_pred)\n",
    "\n",
    "    print(\"Cross val err: \", cross_val_err)\n",
    "    print(\"Train err: \", train_error)\n",
    "    print(\"Test err: \", test_error)\n",
    "    print(\"\\n\")\n",
    "\n",
    "    return [train_error, cross_val_err, test_error, KNN_optimal_n_components]\n"
   ]
  },
  {
   "cell_type": "code",
   "execution_count": 4,
   "metadata": {},
   "outputs": [],
   "source": [
    "##KNN features\n",
    "\n",
    "def KNN_features(X_train, X_test, y_train, y_test):\n",
    "    max_num_features = 100\n",
    "\n",
    "    num_features = range(1, max_num_features)\n",
    "    KNN_mean_scores = np.zeros(max_num_features)\n",
    "\n",
    "    # Loop over different numbers of features\n",
    "    for k in tqdm(num_features):\n",
    "\n",
    "        feature_selector = SelectKBest(f_classif, k=k)\n",
    "\n",
    "        X_train_selected = feature_selector.fit_transform(X_train, y_train)\n",
    "\n",
    "        model = KNeighborsClassifier(n_neighbors=5)\n",
    "\n",
    "        KNN_scores = cross_val_score(model, X_train_selected, y_train, cv=5)\n",
    "        KNN_mean_score = KNN_scores.mean()\n",
    "\n",
    "        KNN_mean_scores[k] = KNN_mean_score\n",
    "\n",
    "        #KNN_mean_scores.append(KNN_mean_score)\n",
    "\n",
    "    KNN_optimal_k_features = np.where(KNN_mean_scores==KNN_mean_scores.max())[0][0]+1\n",
    "    cross_val_err = 1 - max(KNN_mean_scores)\n",
    "\n",
    "    print(\"KNN optimal number of features:\", KNN_optimal_k_features)\n",
    "\n",
    "    feature_selector = SelectKBest(f_classif, k=KNN_optimal_k_features)\n",
    "    X_train_selected = feature_selector.fit_transform(X_train, y_train)\n",
    "    model.fit(X_train_selected, y_train)\n",
    "\n",
    "\n",
    "    # Get the indices of the selected features\n",
    "    selected_feature_indices = feature_selector.get_support(indices=True)\n",
    "\n",
    "    # Get the names of the most predictive features\n",
    "    selected_features = X_train.columns[selected_feature_indices]\n",
    "    print(\"Most predictive features:\", selected_features)\n",
    "\n",
    "\n",
    "    train_pred = model.predict(X_train_selected)\n",
    "    train_error = 1 - accuracy_score(y_train, train_pred)\n",
    "\n",
    "    test_pred = model.predict(X_test[X_test.columns[selected_feature_indices]])\n",
    "    test_error = 1 - accuracy_score(y_test, test_pred)\n",
    "    \n",
    "    print(\"Cross val err: \", cross_val_err)\n",
    "    print(\"Train err: \", train_error)\n",
    "    print(\"Test err: \", test_error)\n",
    "\n",
    "    return [train_error, cross_val_err, test_error, KNN_optimal_k_features]\n"
   ]
  },
  {
   "cell_type": "code",
   "execution_count": 5,
   "metadata": {},
   "outputs": [],
   "source": [
    "##SVC PCA\n",
    "def SVC_PCA(X_train, X_test, y_train, y_test):\n",
    "    SVC_mean_scores = np.zeros(max_num_components)\n",
    "\n",
    "    #num_components_range = range(1, max_num_components)\n",
    "\n",
    "    # Loop over different numbers of components\n",
    "    for n_components in tqdm(num_components_range):\n",
    "\n",
    "        #PCA\n",
    "\n",
    "        SVC_pipeline = make_pipeline(PCA(n_components=n_components), SVC())\n",
    "\n",
    "        SVC_scores = cross_val_score(SVC_pipeline, X_train, y_train, cv=5)\n",
    "        SVC_mean_score = SVC_scores.mean()\n",
    "\n",
    "        #SVC_mean_scores.append(SVC_mean_score)\n",
    "        SVC_mean_scores[n_components] = SVC_mean_score\n",
    "\n",
    "    SVC_optimal_n_components = np.where(SVC_mean_scores==SVC_mean_scores.max())[0][0]+1\n",
    "    cross_val_err = 1 - max(SVC_mean_scores)\n",
    "\n",
    "    print(\"SVC optimal number of PCA components:\", SVC_optimal_n_components)\n",
    "\n",
    "    opt_pipeline = make_pipeline(PCA(n_components=SVC_optimal_n_components), SVC())\n",
    "\n",
    "    opt_pipeline.fit(X_train, y_train)\n",
    "    train_pred = opt_pipeline.predict(X_train)\n",
    "    train_error = 1 - accuracy_score(y_train, train_pred)\n",
    "\n",
    "    test_pred = opt_pipeline.predict(X_test)\n",
    "    test_error = 1 - accuracy_score(y_test, test_pred)\n",
    "\n",
    "    print(\"Cross val err: \", cross_val_err)\n",
    "    print(\"Train err: \", train_error)\n",
    "    print(\"Test err: \", test_error)\n",
    "\n",
    "    return [train_error, cross_val_err, test_error, SVC_optimal_n_components]"
   ]
  },
  {
   "cell_type": "code",
   "execution_count": 6,
   "metadata": {},
   "outputs": [],
   "source": [
    "##SVC features\n",
    "\n",
    "def SVC_features(X_train, X_test, y_train, y_test):\n",
    "    max_num_features = 100\n",
    "    num_features = range(1, max_num_features)\n",
    "    SVC_mean_scores = np.zeros(max_num_features)\n",
    "\n",
    "    # Loop over different numbers of components\n",
    "    for k in tqdm(num_features):\n",
    "\n",
    "        feature_selector = SelectKBest(f_classif, k=k)\n",
    "\n",
    "        X_train_selected = feature_selector.fit_transform(X_train, y_train)\n",
    "\n",
    "        model = SVC()\n",
    "\n",
    "        SVC_scores = cross_val_score(model, X_train_selected, y_train, cv=5)\n",
    "        SVC_mean_score = SVC_scores.mean()\n",
    "\n",
    "        #SVC_mean_scores.append(SVC_mean_score)\n",
    "        SVC_mean_scores[k] = SVC_mean_score\n",
    "\n",
    "\n",
    "    SVC_optimal_k_features = np.where(SVC_mean_scores==SVC_mean_scores.max())[0][0]+1\n",
    "    cross_val_err = 1 - max(SVC_mean_scores)\n",
    "\n",
    "    print(\"SVC optimal number of features:\", SVC_optimal_k_features)\n",
    "\n",
    "    feature_selector = SelectKBest(f_classif, k=SVC_optimal_k_features)\n",
    "    X_train_selected = feature_selector.fit_transform(X_train, y_train)\n",
    "    model.fit(X_train_selected, y_train)\n",
    "\n",
    "    # Get the indices of the selected features\n",
    "    selected_feature_indices = feature_selector.get_support(indices=True)\n",
    "\n",
    "    # Get the names of the most predictive features\n",
    "    selected_features = X_train.columns[selected_feature_indices]\n",
    "    print(\"Most predictive features:\", selected_features)\n",
    "\n",
    "\n",
    "    train_pred = model.predict(X_train_selected)\n",
    "    train_error = 1 - accuracy_score(y_train, train_pred)\n",
    "\n",
    "    test_pred = model.predict(X_test[X_test.columns[selected_feature_indices]])\n",
    "    test_error = 1 - accuracy_score(y_test, test_pred)\n",
    "\n",
    "    print(\"Cross val err: \", cross_val_err)\n",
    "    print(\"Train err: \", train_error)\n",
    "    print(\"Test err: \", test_error)\n",
    "\n",
    "    return [train_error, cross_val_err, test_error, SVC_optimal_k_features]"
   ]
  },
  {
   "cell_type": "code",
   "execution_count": 7,
   "metadata": {},
   "outputs": [],
   "source": [
    "##Logistic regression PCA\n",
    "\n",
    "def LR_PCA(X_train, X_test, y_train, y_test):\n",
    "    LR_mean_scores = np.zeros(max_num_components)\n",
    "\n",
    "\n",
    "    # Loop over different numbers of components\n",
    "    for n_components in tqdm(num_components_range):\n",
    "\n",
    "        #PCA\n",
    "\n",
    "        LR_pipeline = make_pipeline(PCA(n_components=n_components), LogisticRegression(solver='lbfgs', max_iter=10000))\n",
    "\n",
    "        LR_scores = cross_val_score(LR_pipeline, X_train, y_train, cv=5)\n",
    "        LR_mean_score = LR_scores.mean()\n",
    "\n",
    "        #LR_mean_scores.append(LR_mean_score)\n",
    "        LR_mean_scores[n_components] = LR_mean_score\n",
    "\n",
    "    LR_optimal_n_components = np.where(LR_mean_scores==LR_mean_scores.max())[0][0]+1\n",
    "    cross_val_err = 1 - max(LR_mean_scores)\n",
    "\n",
    "    print(\"KNN optimal number of PCA components:\", LR_optimal_n_components)\n",
    "\n",
    "    opt_pipeline = make_pipeline(PCA(n_components=LR_optimal_n_components), LogisticRegression(solver='lbfgs', max_iter=10000))\n",
    "\n",
    "    opt_pipeline.fit(X_train, y_train)\n",
    "    train_pred = opt_pipeline.predict(X_train)\n",
    "    train_error = 1 - accuracy_score(y_train, train_pred)\n",
    "\n",
    "    test_pred = opt_pipeline.predict(X_test)\n",
    "    test_error = 1 - accuracy_score(y_test, test_pred)\n",
    "\n",
    "    print(\"Cross val err: \", cross_val_err)\n",
    "    print(\"Train err: \", train_error)\n",
    "    print(\"Test err: \", test_error)\n",
    "\n",
    "    return [train_error, cross_val_err, test_error, LR_optimal_n_components]"
   ]
  },
  {
   "cell_type": "code",
   "execution_count": 8,
   "metadata": {},
   "outputs": [],
   "source": [
    "##Logistic Regression features\n",
    "\n",
    "def LR_features(X_train, X_test, y_train, y_test):\n",
    "    max_num_features = 100\n",
    "    num_features = range(1, max_num_features)\n",
    "    LR_mean_scores = np.zeros(max_num_features)\n",
    "\n",
    "    # Loop over different numbers of components\n",
    "    for k in tqdm(num_features):\n",
    "\n",
    "        feature_selector = SelectKBest(f_classif, k=k)\n",
    "\n",
    "        X_train_selected = feature_selector.fit_transform(X_train, y_train)\n",
    "\n",
    "        model = LogisticRegression(solver='lbfgs', max_iter=10000)\n",
    "\n",
    "        LR_scores = cross_val_score(model, X_train_selected, y_train, cv=5)\n",
    "        LR_mean_score = LR_scores.mean()\n",
    "\n",
    "        #LR_mean_scores.append(LR_mean_score)\n",
    "        LR_mean_scores[k] = LR_mean_score\n",
    "\n",
    "    LR_optimal_k_features = np.where(LR_mean_scores==LR_mean_scores.max())[0][0]+1\n",
    "    cross_val_err = 1 - max(LR_mean_scores)\n",
    "\n",
    "    print(\"LR optimal number of features:\", LR_optimal_k_features)\n",
    "\n",
    "    feature_selector = SelectKBest(f_classif, k=LR_optimal_k_features)\n",
    "    X_train_selected = feature_selector.fit_transform(X_train, y_train)\n",
    "    model.fit(X_train_selected, y_train)\n",
    "\n",
    "    # Get the indices of the selected features\n",
    "    selected_feature_indices = feature_selector.get_support(indices=True)\n",
    "\n",
    "    # Get the names of the most predictive features\n",
    "    selected_features = X_train.columns[selected_feature_indices]\n",
    "    print(\"Most predictive features:\", selected_features)\n",
    "\n",
    "    train_pred = model.predict(X_train_selected)\n",
    "    train_error = 1 - accuracy_score(y_train, train_pred)\n",
    "\n",
    "    test_pred = model.predict(X_test[X_test.columns[selected_feature_indices]])\n",
    "    test_error = 1 - accuracy_score(y_test, test_pred)\n",
    "\n",
    "    print(\"Cross val err: \", cross_val_err)\n",
    "    print(\"Train err: \", train_error)\n",
    "    print(\"Test err: \", test_error)\n",
    "\n",
    "    return [train_error, cross_val_err, test_error, LR_optimal_k_features]"
   ]
  },
  {
   "cell_type": "code",
   "execution_count": 9,
   "metadata": {},
   "outputs": [],
   "source": [
    "##Creating dictionary to save data of part 1\n",
    "d = dict()\n",
    "#a =0.7\n",
    "#print(f\"KNN_PCA_{(1-a)*100:.0f}_{a*100:.0f}\")"
   ]
  },
  {
   "cell_type": "code",
   "execution_count": 10,
   "metadata": {},
   "outputs": [
    {
     "name": "stderr",
     "output_type": "stream",
     "text": [
      "100%|██████████| 29/29 [01:41<00:00,  3.49s/it]\n"
     ]
    },
    {
     "name": "stdout",
     "output_type": "stream",
     "text": [
      "KNN optimal number of PCA components: 22\n",
      "Cross val err:  0.007920792079207928\n",
      "Train err:  0.005940594059405946\n",
      "Test err:  0.00692041522491349\n",
      "\n",
      "\n"
     ]
    },
    {
     "name": "stderr",
     "output_type": "stream",
     "text": [
      "100%|██████████| 99/99 [00:12<00:00,  8.01it/s]\n"
     ]
    },
    {
     "name": "stdout",
     "output_type": "stream",
     "text": [
      "KNN optimal number of features: 90\n",
      "Most predictive features: Index(['V3', 'V16', 'V18', 'V29', 'V30', 'V63', 'V64', 'V68', 'V72', 'V87',\n",
      "       'V200', 'V217', 'V227', 'V274', 'V289', 'V307', 'V308', 'V350', 'V394',\n",
      "       'V462', 'V464', 'V475', 'V494', 'V507', 'V539', 'V544', 'V568', 'V600',\n",
      "       'V627', 'V657', 'V658', 'V673', 'V687', 'V691', 'V730', 'V803', 'V818',\n",
      "       'V845', 'V850', 'V855', 'V889', 'V922', 'V982', 'V1005', 'V1033',\n",
      "       'V1066', 'V1071', 'V1097', 'V1098', 'V1101', 'V1102', 'V1152', 'V1173',\n",
      "       'V1193', 'V1203', 'V1206', 'V1218', 'V1234', 'V1249', 'V1256', 'V1263',\n",
      "       'V1443', 'V1478', 'V1517', 'V1530', 'V1533', 'V1549', 'V1575', 'V1580',\n",
      "       'V1635', 'V1654', 'V1657', 'V1673', 'V1697', 'V1719', 'V1744', 'V1760',\n",
      "       'V1772', 'V1787', 'V1799', 'V1812', 'V1813', 'V1827', 'V1829', 'V1846',\n",
      "       'V1871', 'V1877', 'V1882', 'V1936', 'V1971'],\n",
      "      dtype='object')\n"
     ]
    },
    {
     "name": "stderr",
     "output_type": "stream",
     "text": [
      "/home/johan/.local/lib/python3.10/site-packages/sklearn/base.py:458: UserWarning: X has feature names, but KNeighborsClassifier was fitted without feature names\n",
      "  warnings.warn(\n"
     ]
    },
    {
     "name": "stdout",
     "output_type": "stream",
     "text": [
      "Cross val err:  0.007425742574257321\n",
      "Train err:  0.005940594059405946\n",
      "Test err:  0.01038062283737029\n"
     ]
    },
    {
     "name": "stderr",
     "output_type": "stream",
     "text": [
      "100%|██████████| 29/29 [01:41<00:00,  3.50s/it]\n"
     ]
    },
    {
     "name": "stdout",
     "output_type": "stream",
     "text": [
      "SVC optimal number of PCA components: 10\n",
      "Cross val err:  0.005940594059406168\n",
      "Train err:  0.004950495049504955\n",
      "Test err:  0.008073817762399127\n"
     ]
    },
    {
     "name": "stderr",
     "output_type": "stream",
     "text": [
      "100%|██████████| 99/99 [00:23<00:00,  4.21it/s]\n",
      "/home/johan/.local/lib/python3.10/site-packages/sklearn/base.py:458: UserWarning: X has feature names, but SVC was fitted without feature names\n",
      "  warnings.warn(\n"
     ]
    },
    {
     "name": "stdout",
     "output_type": "stream",
     "text": [
      "SVC optimal number of features: 87\n",
      "Most predictive features: Index(['V3', 'V18', 'V29', 'V30', 'V63', 'V64', 'V68', 'V72', 'V87', 'V200',\n",
      "       'V217', 'V227', 'V274', 'V289', 'V307', 'V308', 'V350', 'V394', 'V462',\n",
      "       'V464', 'V475', 'V494', 'V507', 'V539', 'V544', 'V568', 'V600', 'V627',\n",
      "       'V657', 'V658', 'V673', 'V687', 'V691', 'V730', 'V803', 'V818', 'V845',\n",
      "       'V850', 'V855', 'V889', 'V922', 'V982', 'V1005', 'V1033', 'V1066',\n",
      "       'V1071', 'V1097', 'V1098', 'V1101', 'V1102', 'V1152', 'V1173', 'V1193',\n",
      "       'V1203', 'V1206', 'V1218', 'V1234', 'V1249', 'V1256', 'V1263', 'V1443',\n",
      "       'V1478', 'V1517', 'V1530', 'V1533', 'V1549', 'V1575', 'V1654', 'V1657',\n",
      "       'V1673', 'V1697', 'V1719', 'V1744', 'V1760', 'V1772', 'V1787', 'V1799',\n",
      "       'V1812', 'V1813', 'V1827', 'V1829', 'V1846', 'V1871', 'V1877', 'V1882',\n",
      "       'V1936', 'V1971'],\n",
      "      dtype='object')\n",
      "Cross val err:  0.003960396039603964\n",
      "Train err:  0.0014851485148514865\n",
      "Test err:  0.008073817762399127\n"
     ]
    },
    {
     "name": "stderr",
     "output_type": "stream",
     "text": [
      "100%|██████████| 29/29 [02:24<00:00,  5.00s/it]\n"
     ]
    },
    {
     "name": "stdout",
     "output_type": "stream",
     "text": [
      "KNN optimal number of PCA components: 30\n",
      "Cross val err:  0.00544554455445545\n",
      "Train err:  0.0\n",
      "Test err:  0.0034602076124568004\n"
     ]
    },
    {
     "name": "stderr",
     "output_type": "stream",
     "text": [
      "100%|██████████| 99/99 [02:32<00:00,  1.54s/it]\n"
     ]
    },
    {
     "name": "stdout",
     "output_type": "stream",
     "text": [
      "LR optimal number of features: 87\n",
      "Most predictive features: Index(['V3', 'V18', 'V29', 'V30', 'V63', 'V64', 'V68', 'V72', 'V87', 'V200',\n",
      "       'V217', 'V227', 'V274', 'V289', 'V307', 'V308', 'V350', 'V394', 'V462',\n",
      "       'V464', 'V475', 'V494', 'V507', 'V539', 'V544', 'V568', 'V600', 'V627',\n",
      "       'V657', 'V658', 'V673', 'V687', 'V691', 'V730', 'V803', 'V818', 'V845',\n",
      "       'V850', 'V855', 'V889', 'V922', 'V982', 'V1005', 'V1033', 'V1066',\n",
      "       'V1071', 'V1097', 'V1098', 'V1101', 'V1102', 'V1152', 'V1173', 'V1193',\n",
      "       'V1203', 'V1206', 'V1218', 'V1234', 'V1249', 'V1256', 'V1263', 'V1443',\n",
      "       'V1478', 'V1517', 'V1530', 'V1533', 'V1549', 'V1575', 'V1654', 'V1657',\n",
      "       'V1673', 'V1697', 'V1719', 'V1744', 'V1760', 'V1772', 'V1787', 'V1799',\n",
      "       'V1812', 'V1813', 'V1827', 'V1829', 'V1846', 'V1871', 'V1877', 'V1882',\n",
      "       'V1936', 'V1971'],\n",
      "      dtype='object')\n",
      "Cross val err:  0.002970297029702862\n",
      "Train err:  0.0\n",
      "Test err:  0.00692041522491349\n"
     ]
    },
    {
     "name": "stderr",
     "output_type": "stream",
     "text": [
      "/home/johan/.local/lib/python3.10/site-packages/sklearn/base.py:458: UserWarning: X has feature names, but LogisticRegression was fitted without feature names\n",
      "  warnings.warn(\n"
     ]
    }
   ],
   "source": [
    "##Run everything with 70/30 split\n",
    "split = 0.7\n",
    "X_train, X_test, y_train, y_test = pre_process(df, labels_df, split)\n",
    "\n",
    "\n",
    "d[f\"KNN_PCA_{(1-split)*100:.0f}_{split*100:.0f}\"] = KNN_PCA(X_train, X_test, y_train, y_test)\n",
    "d[f\"KNN_Feat_{(1-split)*100:.0f}_{split*100:.0f}\"] = KNN_features(X_train, X_test, y_train, y_test)\n",
    "d[f\"SVC_PCA_{(1-split)*100:.0f}_{split*100:.0f}\"] = SVC_PCA(X_train, X_test, y_train, y_test)\n",
    "d[f\"SVC_Feat_{(1-split)*100:.0f}_{split*100:.0f}\"] = SVC_features(X_train, X_test, y_train, y_test)\n",
    "d[f\"LR_PCA_{(1-split)*100:.0f}_{split*100:.0f}\"] = LR_PCA(X_train, X_test, y_train, y_test)\n",
    "d[f\"LR_Feat_{(1-split)*100:.0f}_{split*100:.0f}\"] = LR_features(X_train, X_test, y_train, y_test)\n"
   ]
  },
  {
   "cell_type": "code",
   "execution_count": 11,
   "metadata": {},
   "outputs": [
    {
     "name": "stderr",
     "output_type": "stream",
     "text": [
      "100%|██████████| 29/29 [02:18<00:00,  4.78s/it]\n"
     ]
    },
    {
     "name": "stdout",
     "output_type": "stream",
     "text": [
      "KNN optimal number of PCA components: 11\n",
      "Cross val err:  0.007361185452291585\n",
      "Train err:  0.0047639670853183436\n",
      "Test err:  0.01384083044982698\n",
      "\n",
      "\n"
     ]
    },
    {
     "name": "stderr",
     "output_type": "stream",
     "text": [
      "100%|██████████| 99/99 [00:13<00:00,  7.59it/s]\n",
      "/home/johan/.local/lib/python3.10/site-packages/sklearn/base.py:458: UserWarning: X has feature names, but KNeighborsClassifier was fitted without feature names\n",
      "  warnings.warn(\n"
     ]
    },
    {
     "name": "stdout",
     "output_type": "stream",
     "text": [
      "KNN optimal number of features: 81\n",
      "Most predictive features: Index(['V3', 'V18', 'V29', 'V35', 'V63', 'V64', 'V68', 'V72', 'V87', 'V227',\n",
      "       'V274', 'V289', 'V307', 'V308', 'V350', 'V418', 'V462', 'V464', 'V475',\n",
      "       'V494', 'V507', 'V539', 'V544', 'V568', 'V600', 'V627', 'V657', 'V658',\n",
      "       'V673', 'V687', 'V691', 'V730', 'V803', 'V818', 'V845', 'V850', 'V855',\n",
      "       'V889', 'V922', 'V982', 'V1005', 'V1033', 'V1066', 'V1071', 'V1097',\n",
      "       'V1098', 'V1101', 'V1173', 'V1193', 'V1203', 'V1206', 'V1218', 'V1234',\n",
      "       'V1249', 'V1256', 'V1263', 'V1293', 'V1443', 'V1478', 'V1517', 'V1533',\n",
      "       'V1549', 'V1654', 'V1657', 'V1673', 'V1697', 'V1719', 'V1744', 'V1760',\n",
      "       'V1787', 'V1799', 'V1812', 'V1813', 'V1827', 'V1829', 'V1846', 'V1871',\n",
      "       'V1877', 'V1882', 'V1936', 'V1971'],\n",
      "      dtype='object')\n",
      "Cross val err:  0.007795024931684269\n",
      "Train err:  0.005197055002165385\n",
      "Test err:  0.01211072664359858\n"
     ]
    },
    {
     "name": "stderr",
     "output_type": "stream",
     "text": [
      "100%|██████████| 29/29 [02:38<00:00,  5.47s/it]\n"
     ]
    },
    {
     "name": "stdout",
     "output_type": "stream",
     "text": [
      "SVC optimal number of PCA components: 25\n",
      "Cross val err:  0.005630522767182122\n",
      "Train err:  0.003031615417929845\n",
      "Test err:  0.01038062283737029\n"
     ]
    },
    {
     "name": "stderr",
     "output_type": "stream",
     "text": [
      "100%|██████████| 99/99 [00:25<00:00,  3.82it/s]\n",
      "/home/johan/.local/lib/python3.10/site-packages/sklearn/base.py:458: UserWarning: X has feature names, but SVC was fitted without feature names\n",
      "  warnings.warn(\n"
     ]
    },
    {
     "name": "stdout",
     "output_type": "stream",
     "text": [
      "SVC optimal number of features: 83\n",
      "Most predictive features: Index(['V3', 'V18', 'V29', 'V35', 'V63', 'V64', 'V68', 'V72', 'V87', 'V217',\n",
      "       'V227', 'V274', 'V289', 'V307', 'V308', 'V350', 'V418', 'V462', 'V464',\n",
      "       'V475', 'V494', 'V507', 'V539', 'V544', 'V568', 'V600', 'V627', 'V657',\n",
      "       'V658', 'V673', 'V687', 'V691', 'V730', 'V803', 'V818', 'V845', 'V850',\n",
      "       'V855', 'V889', 'V922', 'V982', 'V1005', 'V1033', 'V1066', 'V1071',\n",
      "       'V1097', 'V1098', 'V1101', 'V1102', 'V1173', 'V1193', 'V1203', 'V1206',\n",
      "       'V1218', 'V1234', 'V1249', 'V1256', 'V1263', 'V1293', 'V1443', 'V1478',\n",
      "       'V1517', 'V1533', 'V1549', 'V1654', 'V1657', 'V1673', 'V1697', 'V1719',\n",
      "       'V1744', 'V1760', 'V1787', 'V1799', 'V1812', 'V1813', 'V1827', 'V1829',\n",
      "       'V1846', 'V1871', 'V1877', 'V1882', 'V1936', 'V1971'],\n",
      "      dtype='object')\n",
      "Cross val err:  0.005630522767182122\n",
      "Train err:  0.0012992637505413462\n",
      "Test err:  0.01384083044982698\n"
     ]
    },
    {
     "name": "stderr",
     "output_type": "stream",
     "text": [
      "100%|██████████| 29/29 [02:57<00:00,  6.12s/it]\n"
     ]
    },
    {
     "name": "stdout",
     "output_type": "stream",
     "text": [
      "KNN optimal number of PCA components: 27\n",
      "Cross val err:  0.005630522767182122\n",
      "Train err:  0.0\n",
      "Test err:  0.01038062283737029\n"
     ]
    },
    {
     "name": "stderr",
     "output_type": "stream",
     "text": [
      "100%|██████████| 99/99 [02:25<00:00,  1.47s/it]\n"
     ]
    },
    {
     "name": "stdout",
     "output_type": "stream",
     "text": [
      "LR optimal number of features: 98\n",
      "Most predictive features: Index(['V3', 'V16', 'V18', 'V29', 'V30', 'V35', 'V63', 'V64', 'V68', 'V72',\n",
      "       'V87', 'V200', 'V217', 'V227', 'V274', 'V289', 'V307', 'V308', 'V350',\n",
      "       'V394', 'V418', 'V462', 'V464', 'V475', 'V494', 'V507', 'V539', 'V541',\n",
      "       'V544', 'V568', 'V600', 'V627', 'V657', 'V658', 'V673', 'V687', 'V691',\n",
      "       'V730', 'V803', 'V818', 'V845', 'V850', 'V855', 'V889', 'V914', 'V922',\n",
      "       'V982', 'V1005', 'V1033', 'V1066', 'V1071', 'V1097', 'V1098', 'V1101',\n",
      "       'V1102', 'V1152', 'V1173', 'V1193', 'V1203', 'V1206', 'V1218', 'V1234',\n",
      "       'V1249', 'V1256', 'V1263', 'V1293', 'V1315', 'V1443', 'V1478', 'V1517',\n",
      "       'V1530', 'V1533', 'V1549', 'V1575', 'V1580', 'V1583', 'V1654', 'V1657',\n",
      "       'V1673', 'V1697', 'V1719', 'V1731', 'V1744', 'V1760', 'V1772', 'V1787',\n",
      "       'V1799', 'V1812', 'V1813', 'V1827', 'V1829', 'V1846', 'V1868', 'V1871',\n",
      "       'V1877', 'V1882', 'V1936', 'V1971'],\n",
      "      dtype='object')\n",
      "Cross val err:  0.003897981989088195\n",
      "Train err:  0.0\n",
      "Test err:  0.01038062283737029\n"
     ]
    },
    {
     "name": "stderr",
     "output_type": "stream",
     "text": [
      "/home/johan/.local/lib/python3.10/site-packages/sklearn/base.py:458: UserWarning: X has feature names, but LogisticRegression was fitted without feature names\n",
      "  warnings.warn(\n"
     ]
    }
   ],
   "source": [
    "##Run everything with 80/20 split\n",
    "split = 0.8\n",
    "X_train, X_test, y_train, y_test = pre_process(df, labels_df, split)\n",
    "\n",
    "d[f\"KNN_PCA_{(1-split)*100:.0f}_{split*100:.0f}\"] = KNN_PCA(X_train, X_test, y_train, y_test)\n",
    "d[f\"KNN_Feat_{(1-split)*100:.0f}_{split*100:.0f}\"] = KNN_features(X_train, X_test, y_train, y_test)\n",
    "d[f\"SVC_PCA_{(1-split)*100:.0f}_{split*100:.0f}\"] = SVC_PCA(X_train, X_test, y_train, y_test)\n",
    "d[f\"SVC_Feat_{(1-split)*100:.0f}_{split*100:.0f}\"] = SVC_features(X_train, X_test, y_train, y_test)\n",
    "d[f\"LR_PCA_{(1-split)*100:.0f}_{split*100:.0f}\"] = LR_PCA(X_train, X_test, y_train, y_test)\n",
    "d[f\"LR_Feat_{(1-split)*100:.0f}_{split*100:.0f}\"] = LR_features(X_train, X_test, y_train, y_test)"
   ]
  },
  {
   "cell_type": "code",
   "execution_count": 12,
   "metadata": {},
   "outputs": [
    {
     "name": "stderr",
     "output_type": "stream",
     "text": [
      "100%|██████████| 29/29 [02:14<00:00,  4.65s/it]\n"
     ]
    },
    {
     "name": "stdout",
     "output_type": "stream",
     "text": [
      "KNN optimal number of PCA components: 23\n",
      "Cross val err:  0.0069290054839188375\n",
      "Train err:  0.00500384911470364\n",
      "Test err:  0.00692041522491349\n",
      "\n",
      "\n"
     ]
    },
    {
     "name": "stderr",
     "output_type": "stream",
     "text": [
      "100%|██████████| 99/99 [00:15<00:00,  6.45it/s]\n",
      "/home/johan/.local/lib/python3.10/site-packages/sklearn/base.py:458: UserWarning: X has feature names, but KNeighborsClassifier was fitted without feature names\n",
      "  warnings.warn(\n"
     ]
    },
    {
     "name": "stdout",
     "output_type": "stream",
     "text": [
      "KNN optimal number of features: 97\n",
      "Most predictive features: Index(['V3', 'V16', 'V18', 'V29', 'V30', 'V35', 'V63', 'V64', 'V68', 'V72',\n",
      "       'V83', 'V87', 'V200', 'V217', 'V227', 'V274', 'V289', 'V307', 'V308',\n",
      "       'V350', 'V394', 'V418', 'V462', 'V464', 'V475', 'V494', 'V507', 'V539',\n",
      "       'V541', 'V544', 'V568', 'V600', 'V627', 'V657', 'V658', 'V673', 'V687',\n",
      "       'V691', 'V730', 'V803', 'V818', 'V845', 'V850', 'V855', 'V889', 'V914',\n",
      "       'V922', 'V982', 'V1005', 'V1033', 'V1066', 'V1071', 'V1097', 'V1098',\n",
      "       'V1101', 'V1126', 'V1152', 'V1173', 'V1193', 'V1203', 'V1206', 'V1218',\n",
      "       'V1234', 'V1249', 'V1256', 'V1263', 'V1293', 'V1443', 'V1478', 'V1517',\n",
      "       'V1530', 'V1533', 'V1549', 'V1580', 'V1583', 'V1654', 'V1657', 'V1673',\n",
      "       'V1697', 'V1719', 'V1731', 'V1744', 'V1760', 'V1772', 'V1787', 'V1799',\n",
      "       'V1812', 'V1813', 'V1827', 'V1829', 'V1846', 'V1868', 'V1871', 'V1877',\n",
      "       'V1882', 'V1936', 'V1971'],\n",
      "      dtype='object')\n",
      "Cross val err:  0.006927523343708275\n",
      "Train err:  0.006158583525789019\n",
      "Test err:  0.01038062283737029\n"
     ]
    },
    {
     "name": "stderr",
     "output_type": "stream",
     "text": [
      "100%|██████████| 29/29 [02:04<00:00,  4.30s/it]\n"
     ]
    },
    {
     "name": "stdout",
     "output_type": "stream",
     "text": [
      "SVC optimal number of PCA components: 23\n",
      "Cross val err:  0.006543649029198129\n",
      "Train err:  0.002694380292532772\n",
      "Test err:  0.01384083044982698\n"
     ]
    },
    {
     "name": "stderr",
     "output_type": "stream",
     "text": [
      "100%|██████████| 99/99 [00:31<00:00,  3.18it/s]\n"
     ]
    },
    {
     "name": "stdout",
     "output_type": "stream",
     "text": [
      "SVC optimal number of features: 96\n",
      "Most predictive features: Index(['V3', 'V16', 'V18', 'V29', 'V30', 'V35', 'V63', 'V64', 'V68', 'V72',\n",
      "       'V83', 'V87', 'V200', 'V217', 'V227', 'V274', 'V289', 'V307', 'V308',\n",
      "       'V350', 'V394', 'V418', 'V462', 'V464', 'V475', 'V494', 'V507', 'V539',\n",
      "       'V541', 'V544', 'V568', 'V600', 'V627', 'V657', 'V658', 'V673', 'V687',\n",
      "       'V691', 'V730', 'V803', 'V818', 'V845', 'V850', 'V855', 'V889', 'V922',\n",
      "       'V982', 'V1005', 'V1033', 'V1066', 'V1071', 'V1097', 'V1098', 'V1101',\n",
      "       'V1126', 'V1152', 'V1173', 'V1193', 'V1203', 'V1206', 'V1218', 'V1234',\n",
      "       'V1249', 'V1256', 'V1263', 'V1293', 'V1443', 'V1478', 'V1517', 'V1530',\n",
      "       'V1533', 'V1549', 'V1580', 'V1583', 'V1654', 'V1657', 'V1673', 'V1697',\n",
      "       'V1719', 'V1731', 'V1744', 'V1760', 'V1772', 'V1787', 'V1799', 'V1812',\n",
      "       'V1813', 'V1827', 'V1829', 'V1846', 'V1868', 'V1871', 'V1877', 'V1882',\n",
      "       'V1936', 'V1971'],\n",
      "      dtype='object')\n"
     ]
    },
    {
     "name": "stderr",
     "output_type": "stream",
     "text": [
      "/home/johan/.local/lib/python3.10/site-packages/sklearn/base.py:458: UserWarning: X has feature names, but SVC was fitted without feature names\n",
      "  warnings.warn(\n"
     ]
    },
    {
     "name": "stdout",
     "output_type": "stream",
     "text": [
      "Cross val err:  0.006159033644582812\n",
      "Train err:  0.0015396458814472824\n",
      "Test err:  0.00692041522491349\n"
     ]
    },
    {
     "name": "stderr",
     "output_type": "stream",
     "text": [
      "100%|██████████| 29/29 [03:18<00:00,  6.86s/it]\n"
     ]
    },
    {
     "name": "stdout",
     "output_type": "stream",
     "text": [
      "KNN optimal number of PCA components: 30\n",
      "Cross val err:  0.005389802875352068\n",
      "Train err:  0.0\n",
      "Test err:  0.01038062283737029\n"
     ]
    },
    {
     "name": "stderr",
     "output_type": "stream",
     "text": [
      "100%|██████████| 99/99 [02:35<00:00,  1.57s/it]\n"
     ]
    },
    {
     "name": "stdout",
     "output_type": "stream",
     "text": [
      "LR optimal number of features: 92\n",
      "Most predictive features: Index(['V3', 'V16', 'V18', 'V29', 'V30', 'V35', 'V63', 'V64', 'V68', 'V72',\n",
      "       'V87', 'V200', 'V217', 'V227', 'V274', 'V289', 'V307', 'V308', 'V350',\n",
      "       'V394', 'V418', 'V462', 'V464', 'V475', 'V494', 'V507', 'V539', 'V544',\n",
      "       'V568', 'V600', 'V627', 'V657', 'V658', 'V673', 'V687', 'V691', 'V730',\n",
      "       'V803', 'V818', 'V845', 'V850', 'V855', 'V889', 'V922', 'V982', 'V1005',\n",
      "       'V1033', 'V1066', 'V1071', 'V1097', 'V1098', 'V1101', 'V1152', 'V1173',\n",
      "       'V1193', 'V1203', 'V1206', 'V1218', 'V1234', 'V1249', 'V1256', 'V1263',\n",
      "       'V1293', 'V1443', 'V1478', 'V1517', 'V1530', 'V1533', 'V1549', 'V1580',\n",
      "       'V1583', 'V1654', 'V1657', 'V1673', 'V1697', 'V1719', 'V1744', 'V1760',\n",
      "       'V1772', 'V1787', 'V1799', 'V1812', 'V1813', 'V1827', 'V1829', 'V1846',\n",
      "       'V1868', 'V1871', 'V1877', 'V1882', 'V1936', 'V1971'],\n",
      "      dtype='object')\n",
      "Cross val err:  0.004232992441084882\n",
      "Train err:  0.0\n",
      "Test err:  0.01038062283737029\n"
     ]
    },
    {
     "name": "stderr",
     "output_type": "stream",
     "text": [
      "/home/johan/.local/lib/python3.10/site-packages/sklearn/base.py:458: UserWarning: X has feature names, but LogisticRegression was fitted without feature names\n",
      "  warnings.warn(\n"
     ]
    }
   ],
   "source": [
    "##Run everything with 90/10 split\n",
    "split = 0.9\n",
    "X_train, X_test, y_train, y_test = pre_process(df, labels_df, split)\n",
    "\n",
    "d[f\"KNN_PCA_{(1-split)*100:.0f}_{split*100:.0f}\"] = KNN_PCA(X_train, X_test, y_train, y_test)\n",
    "d[f\"KNN_Feat_{(1-split)*100:.0f}_{split*100:.0f}\"] = KNN_features(X_train, X_test, y_train, y_test)\n",
    "d[f\"SVC_PCA_{(1-split)*100:.0f}_{split*100:.0f}\"] = SVC_PCA(X_train, X_test, y_train, y_test)\n",
    "d[f\"SVC_Feat_{(1-split)*100:.0f}_{split*100:.0f}\"] = SVC_features(X_train, X_test, y_train, y_test)\n",
    "d[f\"LR_PCA_{(1-split)*100:.0f}_{split*100:.0f}\"] = LR_PCA(X_train, X_test, y_train, y_test)\n",
    "d[f\"LR_Feat_{(1-split)*100:.0f}_{split*100:.0f}\"] = LR_features(X_train, X_test, y_train, y_test)"
   ]
  },
  {
   "cell_type": "code",
   "execution_count": 13,
   "metadata": {},
   "outputs": [],
   "source": [
    "#Save data of part 1\n",
    "df_1 = pd.DataFrame(data =d, index = ['Train', 'Cross', 'Test', 'Opt_Feat_or_PCA'])\n",
    "df_1.to_csv('./data.csv', sep=\" \")"
   ]
  },
  {
   "cell_type": "code",
   "execution_count": 14,
   "metadata": {},
   "outputs": [],
   "source": [
    "##Part 2 Theme 1 mislabeling\n",
    "\n",
    "def mislabel(mislabel_fraction, y_train):\n",
    "    labels = set(labels_df[\"x\"])\n",
    "\n",
    "    num_samples = len(y_train)\n",
    "    num_mislabels = int(mislabel_fraction * num_samples)\n",
    "    mislabel_indices = np.random.choice(num_samples, num_mislabels, replace=False)\n",
    "\n",
    "    y_train_noise = y_train.copy()\n",
    "\n",
    "    for i in mislabel_indices:\n",
    "        correct = y_train[i]\n",
    "        y_train_noise[i] = np.random.choice(list(labels - set([correct])))\n",
    "    \n",
    "    return y_train_noise"
   ]
  },
  {
   "cell_type": "code",
   "execution_count": 15,
   "metadata": {},
   "outputs": [],
   "source": [
    "##Creating dictionary to save data of part 2\n",
    "d = dict()"
   ]
  },
  {
   "cell_type": "code",
   "execution_count": 16,
   "metadata": {},
   "outputs": [
    {
     "name": "stderr",
     "output_type": "stream",
     "text": [
      "100%|██████████| 29/29 [01:46<00:00,  3.67s/it]\n"
     ]
    },
    {
     "name": "stdout",
     "output_type": "stream",
     "text": [
      "KNN optimal number of PCA components: 11\n",
      "Cross val err:  0.21237623762376223\n",
      "Train err:  0.20198019801980194\n",
      "Test err:  0.02076124567474047\n",
      "\n",
      "\n"
     ]
    },
    {
     "name": "stderr",
     "output_type": "stream",
     "text": [
      "100%|██████████| 99/99 [00:11<00:00,  8.33it/s]\n",
      "/home/johan/.local/lib/python3.10/site-packages/sklearn/base.py:458: UserWarning: X has feature names, but KNeighborsClassifier was fitted without feature names\n",
      "  warnings.warn(\n"
     ]
    },
    {
     "name": "stdout",
     "output_type": "stream",
     "text": [
      "KNN optimal number of features: 81\n",
      "Most predictive features: Index(['V3', 'V18', 'V30', 'V68', 'V87', 'V200', 'V217', 'V227', 'V289',\n",
      "       'V307', 'V308', 'V350', 'V392', 'V394', 'V462', 'V464', 'V475', 'V494',\n",
      "       'V507', 'V539', 'V544', 'V568', 'V578', 'V600', 'V627', 'V663', 'V664',\n",
      "       'V667', 'V673', 'V687', 'V691', 'V845', 'V855', 'V982', 'V1033',\n",
      "       'V1066', 'V1097', 'V1098', 'V1101', 'V1102', 'V1126', 'V1147', 'V1152',\n",
      "       'V1193', 'V1218', 'V1249', 'V1256', 'V1263', 'V1290', 'V1293', 'V1300',\n",
      "       'V1478', 'V1517', 'V1530', 'V1533', 'V1535', 'V1549', 'V1572', 'V1575',\n",
      "       'V1635', 'V1644', 'V1654', 'V1658', 'V1667', 'V1673', 'V1697', 'V1702',\n",
      "       'V1719', 'V1744', 'V1772', 'V1787', 'V1799', 'V1812', 'V1827', 'V1829',\n",
      "       'V1846', 'V1871', 'V1882', 'V1896', 'V1936', 'V1971'],\n",
      "      dtype='object')\n",
      "Cross val err:  0.2168316831683168\n",
      "Train err:  0.2069306930693069\n",
      "Test err:  0.03114186851211076\n"
     ]
    },
    {
     "name": "stderr",
     "output_type": "stream",
     "text": [
      "100%|██████████| 29/29 [02:01<00:00,  4.18s/it]\n"
     ]
    },
    {
     "name": "stdout",
     "output_type": "stream",
     "text": [
      "SVC optimal number of PCA components: 26\n",
      "Cross val err:  0.2049504950495049\n",
      "Train err:  0.20247524752475243\n",
      "Test err:  0.00692041522491349\n"
     ]
    },
    {
     "name": "stderr",
     "output_type": "stream",
     "text": [
      "100%|██████████| 99/99 [01:07<00:00,  1.46it/s]\n"
     ]
    },
    {
     "name": "stdout",
     "output_type": "stream",
     "text": [
      "SVC optimal number of features: 52\n",
      "Most predictive features: Index(['V3', 'V18', 'V68', 'V87', 'V200', 'V217', 'V289', 'V307', 'V350',\n",
      "       'V462', 'V464', 'V475', 'V494', 'V507', 'V539', 'V568', 'V600', 'V627',\n",
      "       'V663', 'V673', 'V687', 'V845', 'V855', 'V982', 'V1033', 'V1066',\n",
      "       'V1097', 'V1098', 'V1101', 'V1193', 'V1218', 'V1256', 'V1263', 'V1478',\n",
      "       'V1517', 'V1530', 'V1533', 'V1549', 'V1575', 'V1654', 'V1673', 'V1697',\n",
      "       'V1744', 'V1787', 'V1799', 'V1812', 'V1827', 'V1829', 'V1846', 'V1882',\n",
      "       'V1936', 'V1971'],\n",
      "      dtype='object')\n"
     ]
    },
    {
     "name": "stderr",
     "output_type": "stream",
     "text": [
      "/home/johan/.local/lib/python3.10/site-packages/sklearn/base.py:458: UserWarning: X has feature names, but SVC was fitted without feature names\n",
      "  warnings.warn(\n"
     ]
    },
    {
     "name": "stdout",
     "output_type": "stream",
     "text": [
      "Cross val err:  0.2074257425742574\n",
      "Train err:  0.20346534653465342\n",
      "Test err:  0.018454440599769306\n"
     ]
    },
    {
     "name": "stderr",
     "output_type": "stream",
     "text": [
      "100%|██████████| 29/29 [01:57<00:00,  4.06s/it]\n"
     ]
    },
    {
     "name": "stdout",
     "output_type": "stream",
     "text": [
      "KNN optimal number of PCA components: 22\n",
      "Cross val err:  0.20792079207920788\n",
      "Train err:  0.2054455445544554\n",
      "Test err:  0.011534025374855816\n"
     ]
    },
    {
     "name": "stderr",
     "output_type": "stream",
     "text": [
      "100%|██████████| 99/99 [02:08<00:00,  1.30s/it]\n"
     ]
    },
    {
     "name": "stdout",
     "output_type": "stream",
     "text": [
      "LR optimal number of features: 33\n",
      "Most predictive features: Index(['V3', 'V18', 'V68', 'V87', 'V217', 'V307', 'V350', 'V475', 'V494',\n",
      "       'V539', 'V627', 'V687', 'V845', 'V1066', 'V1097', 'V1101', 'V1193',\n",
      "       'V1218', 'V1256', 'V1263', 'V1478', 'V1517', 'V1533', 'V1549', 'V1654',\n",
      "       'V1673', 'V1697', 'V1744', 'V1787', 'V1799', 'V1882', 'V1936', 'V1971'],\n",
      "      dtype='object')\n",
      "Cross val err:  0.22326732673267313\n",
      "Train err:  0.21386138613861383\n",
      "Test err:  0.025374855824682796\n"
     ]
    },
    {
     "name": "stderr",
     "output_type": "stream",
     "text": [
      "/home/johan/.local/lib/python3.10/site-packages/sklearn/base.py:458: UserWarning: X has feature names, but LogisticRegression was fitted without feature names\n",
      "  warnings.warn(\n"
     ]
    }
   ],
   "source": [
    "##Mislabel fraction 0.2, 70/30 split\n",
    "mislabel_fraction = 0.2\n",
    "split = 0.7\n",
    "X_train, X_test, y_train, y_test = pre_process(df, labels_df, split)\n",
    "y_train_noise = mislabel(mislabel_fraction, y_train)\n",
    "\n",
    "d[f\"KNN_PCA_miss_{mislabel_fraction:.1f}_{(1-split)*100:.0f}_{split*100:.0f}\"] = KNN_PCA(X_train, X_test, y_train_noise, y_test)\n",
    "d[f\"KNN_Feat_miss_{mislabel_fraction:.1f}_{(1-split)*100:.0f}_{split*100:.0f}\"] = KNN_features(X_train, X_test, y_train_noise, y_test)\n",
    "d[f\"SVC_PCA_miss_{mislabel_fraction:.1f}_{(1-split)*100:.0f}_{split*100:.0f}\"] = SVC_PCA(X_train, X_test, y_train_noise, y_test)\n",
    "d[f\"SVC_Feat_miss_{mislabel_fraction:.1f}_{(1-split)*100:.0f}_{split*100:.0f}\"] = SVC_features(X_train, X_test, y_train_noise, y_test)\n",
    "d[f\"LR_PCA_miss_{mislabel_fraction:.1f}_{(1-split)*100:.0f}_{split*100:.0f}\"] = LR_PCA(X_train, X_test, y_train_noise, y_test)\n",
    "d[f\"LR_Feat_miss_{mislabel_fraction:.1f}_{(1-split)*100:.0f}_{split*100:.0f}\"] = LR_features(X_train, X_test, y_train_noise, y_test)\n",
    "\n"
   ]
  },
  {
   "cell_type": "code",
   "execution_count": 17,
   "metadata": {},
   "outputs": [
    {
     "name": "stderr",
     "output_type": "stream",
     "text": [
      "100%|██████████| 29/29 [02:00<00:00,  4.16s/it]\n"
     ]
    },
    {
     "name": "stdout",
     "output_type": "stream",
     "text": [
      "KNN optimal number of PCA components: 17\n",
      "Cross val err:  0.216976082485844\n",
      "Train err:  0.20311823300129928\n",
      "Test err:  0.01730103806228378\n",
      "\n",
      "\n"
     ]
    },
    {
     "name": "stderr",
     "output_type": "stream",
     "text": [
      "100%|██████████| 99/99 [00:13<00:00,  7.29it/s]\n",
      "/home/johan/.local/lib/python3.10/site-packages/sklearn/base.py:458: UserWarning: X has feature names, but KNeighborsClassifier was fitted without feature names\n",
      "  warnings.warn(\n"
     ]
    },
    {
     "name": "stdout",
     "output_type": "stream",
     "text": [
      "KNN optimal number of features: 44\n",
      "Most predictive features: Index(['V3', 'V18', 'V30', 'V68', 'V87', 'V289', 'V307', 'V308', 'V350',\n",
      "       'V475', 'V494', 'V507', 'V539', 'V568', 'V627', 'V673', 'V687', 'V845',\n",
      "       'V855', 'V982', 'V1066', 'V1097', 'V1098', 'V1101', 'V1193', 'V1218',\n",
      "       'V1256', 'V1263', 'V1478', 'V1517', 'V1533', 'V1549', 'V1654', 'V1673',\n",
      "       'V1697', 'V1744', 'V1787', 'V1799', 'V1812', 'V1829', 'V1846', 'V1882',\n",
      "       'V1936', 'V1971'],\n",
      "      dtype='object')\n",
      "Cross val err:  0.221308843000817\n",
      "Train err:  0.20441749675184062\n",
      "Test err:  0.02422145328719727\n"
     ]
    },
    {
     "name": "stderr",
     "output_type": "stream",
     "text": [
      "100%|██████████| 29/29 [02:23<00:00,  4.96s/it]\n"
     ]
    },
    {
     "name": "stdout",
     "output_type": "stream",
     "text": [
      "SVC optimal number of PCA components: 20\n",
      "Cross val err:  0.20615075452385645\n",
      "Train err:  0.20268514508445212\n",
      "Test err:  0.00692041522491349\n"
     ]
    },
    {
     "name": "stderr",
     "output_type": "stream",
     "text": [
      "100%|██████████| 99/99 [01:32<00:00,  1.07it/s]\n"
     ]
    },
    {
     "name": "stdout",
     "output_type": "stream",
     "text": [
      "SVC optimal number of features: 97\n",
      "Most predictive features: Index(['V3', 'V18', 'V29', 'V30', 'V68', 'V72', 'V87', 'V178', 'V200', 'V217',\n",
      "       'V274', 'V289', 'V307', 'V308', 'V350', 'V392', 'V394', 'V462', 'V464',\n",
      "       'V475', 'V494', 'V507', 'V539', 'V541', 'V544', 'V568', 'V578', 'V600',\n",
      "       'V614', 'V627', 'V657', 'V663', 'V667', 'V673', 'V687', 'V691', 'V730',\n",
      "       'V795', 'V803', 'V845', 'V855', 'V915', 'V959', 'V982', 'V1033',\n",
      "       'V1066', 'V1097', 'V1098', 'V1101', 'V1102', 'V1126', 'V1147', 'V1152',\n",
      "       'V1193', 'V1203', 'V1218', 'V1249', 'V1256', 'V1263', 'V1290', 'V1293',\n",
      "       'V1300', 'V1443', 'V1478', 'V1517', 'V1530', 'V1533', 'V1535', 'V1549',\n",
      "       'V1572', 'V1575', 'V1580', 'V1635', 'V1644', 'V1646', 'V1654', 'V1658',\n",
      "       'V1667', 'V1673', 'V1697', 'V1702', 'V1719', 'V1731', 'V1744', 'V1772',\n",
      "       'V1787', 'V1799', 'V1812', 'V1827', 'V1829', 'V1846', 'V1871', 'V1882',\n",
      "       'V1896', 'V1931', 'V1936', 'V1971'],\n",
      "      dtype='object')\n"
     ]
    },
    {
     "name": "stderr",
     "output_type": "stream",
     "text": [
      "/home/johan/.local/lib/python3.10/site-packages/sklearn/base.py:458: UserWarning: X has feature names, but SVC was fitted without feature names\n",
      "  warnings.warn(\n"
     ]
    },
    {
     "name": "stdout",
     "output_type": "stream",
     "text": [
      "Cross val err:  0.20918293564714374\n",
      "Train err:  0.20138588133391078\n",
      "Test err:  0.00692041522491349\n"
     ]
    },
    {
     "name": "stderr",
     "output_type": "stream",
     "text": [
      "100%|██████████| 29/29 [02:08<00:00,  4.42s/it]\n"
     ]
    },
    {
     "name": "stdout",
     "output_type": "stream",
     "text": [
      "KNN optimal number of PCA components: 28\n",
      "Cross val err:  0.2061526326168408\n",
      "Train err:  0.20485058466868777\n",
      "Test err:  0.0034602076124568004\n"
     ]
    },
    {
     "name": "stderr",
     "output_type": "stream",
     "text": [
      "100%|██████████| 99/99 [02:31<00:00,  1.53s/it]\n"
     ]
    },
    {
     "name": "stdout",
     "output_type": "stream",
     "text": [
      "LR optimal number of features: 56\n",
      "Most predictive features: Index(['V3', 'V18', 'V30', 'V68', 'V87', 'V217', 'V289', 'V307', 'V308',\n",
      "       'V350', 'V462', 'V475', 'V494', 'V507', 'V539', 'V568', 'V578', 'V627',\n",
      "       'V673', 'V687', 'V845', 'V855', 'V982', 'V1033', 'V1066', 'V1097',\n",
      "       'V1098', 'V1101', 'V1102', 'V1152', 'V1193', 'V1218', 'V1256', 'V1263',\n",
      "       'V1290', 'V1300', 'V1478', 'V1517', 'V1530', 'V1533', 'V1535', 'V1549',\n",
      "       'V1654', 'V1673', 'V1697', 'V1744', 'V1772', 'V1787', 'V1799', 'V1812',\n",
      "       'V1827', 'V1829', 'V1846', 'V1882', 'V1936', 'V1971'],\n",
      "      dtype='object')\n",
      "Cross val err:  0.21784282239813701\n",
      "Train err:  0.2087483759203118\n",
      "Test err:  0.02422145328719727\n"
     ]
    },
    {
     "name": "stderr",
     "output_type": "stream",
     "text": [
      "/home/johan/.local/lib/python3.10/site-packages/sklearn/base.py:458: UserWarning: X has feature names, but LogisticRegression was fitted without feature names\n",
      "  warnings.warn(\n"
     ]
    }
   ],
   "source": [
    "##Mislabel fraction 0.2, 80/20 split\n",
    "mislabel_fraction = 0.2\n",
    "split = 0.8\n",
    "X_train, X_test, y_train, y_test = pre_process(df, labels_df, split)\n",
    "y_train_noise = mislabel(mislabel_fraction, y_train)\n",
    "\n",
    "d[f\"KNN_PCA_miss_{mislabel_fraction:.1f}_{(1-split)*100:.0f}_{split*100:.0f}\"] = KNN_PCA(X_train, X_test, y_train_noise, y_test)\n",
    "d[f\"KNN_Feat_miss_{mislabel_fraction:.1f}_{(1-split)*100:.0f}_{split*100:.0f}\"] = KNN_features(X_train, X_test, y_train_noise, y_test)\n",
    "d[f\"SVC_PCA_miss_{mislabel_fraction:.1f}_{(1-split)*100:.0f}_{split*100:.0f}\"] = SVC_PCA(X_train, X_test, y_train_noise, y_test)\n",
    "d[f\"SVC_Feat_miss_{mislabel_fraction:.1f}_{(1-split)*100:.0f}_{split*100:.0f}\"] = SVC_features(X_train, X_test, y_train_noise, y_test)\n",
    "d[f\"LR_PCA_miss_{mislabel_fraction:.1f}_{(1-split)*100:.0f}_{split*100:.0f}\"] = LR_PCA(X_train, X_test, y_train_noise, y_test)\n",
    "d[f\"LR_Feat_miss_{mislabel_fraction:.1f}_{(1-split)*100:.0f}_{split*100:.0f}\"] = LR_features(X_train, X_test, y_train_noise, y_test)"
   ]
  },
  {
   "cell_type": "code",
   "execution_count": 18,
   "metadata": {},
   "outputs": [
    {
     "name": "stderr",
     "output_type": "stream",
     "text": [
      "100%|██████████| 29/29 [02:14<00:00,  4.62s/it]\n"
     ]
    },
    {
     "name": "stdout",
     "output_type": "stream",
     "text": [
      "KNN optimal number of PCA components: 11\n",
      "Cross val err:  0.21592559656143473\n",
      "Train err:  0.2009237875288684\n",
      "Test err:  0.01730103806228378\n",
      "\n",
      "\n"
     ]
    },
    {
     "name": "stderr",
     "output_type": "stream",
     "text": [
      "100%|██████████| 99/99 [00:15<00:00,  6.25it/s]\n",
      "/home/johan/.local/lib/python3.10/site-packages/sklearn/base.py:458: UserWarning: X has feature names, but KNeighborsClassifier was fitted without feature names\n",
      "  warnings.warn(\n"
     ]
    },
    {
     "name": "stdout",
     "output_type": "stream",
     "text": [
      "KNN optimal number of features: 48\n",
      "Most predictive features: Index(['V3', 'V18', 'V29', 'V68', 'V87', 'V217', 'V289', 'V307', 'V350',\n",
      "       'V462', 'V475', 'V494', 'V507', 'V539', 'V568', 'V627', 'V673', 'V687',\n",
      "       'V845', 'V855', 'V982', 'V1033', 'V1066', 'V1097', 'V1098', 'V1101',\n",
      "       'V1152', 'V1193', 'V1218', 'V1256', 'V1263', 'V1478', 'V1517', 'V1533',\n",
      "       'V1549', 'V1575', 'V1654', 'V1673', 'V1697', 'V1744', 'V1787', 'V1799',\n",
      "       'V1812', 'V1829', 'V1846', 'V1882', 'V1936', 'V1971'],\n",
      "      dtype='object')\n",
      "Cross val err:  0.2174714688009487\n",
      "Train err:  0.20631254811393385\n",
      "Test err:  0.02422145328719727\n"
     ]
    },
    {
     "name": "stderr",
     "output_type": "stream",
     "text": [
      "100%|██████████| 29/29 [02:28<00:00,  5.12s/it]\n"
     ]
    },
    {
     "name": "stdout",
     "output_type": "stream",
     "text": [
      "SVC optimal number of PCA components: 22\n",
      "Cross val err:  0.20476508077664146\n",
      "Train err:  0.201693610469592\n",
      "Test err:  0.0\n"
     ]
    },
    {
     "name": "stderr",
     "output_type": "stream",
     "text": [
      "100%|██████████| 99/99 [01:57<00:00,  1.19s/it]\n"
     ]
    },
    {
     "name": "stdout",
     "output_type": "stream",
     "text": [
      "SVC optimal number of features: 97\n",
      "Most predictive features: Index(['V3', 'V18', 'V29', 'V30', 'V68', 'V87', 'V178', 'V193', 'V200', 'V217',\n",
      "       'V227', 'V274', 'V289', 'V307', 'V308', 'V350', 'V392', 'V394', 'V462',\n",
      "       'V464', 'V475', 'V493', 'V494', 'V507', 'V539', 'V541', 'V544', 'V568',\n",
      "       'V578', 'V600', 'V627', 'V657', 'V663', 'V667', 'V673', 'V687', 'V691',\n",
      "       'V730', 'V759', 'V795', 'V803', 'V845', 'V850', 'V855', 'V914', 'V959',\n",
      "       'V982', 'V1033', 'V1066', 'V1071', 'V1097', 'V1098', 'V1101', 'V1102',\n",
      "       'V1126', 'V1147', 'V1152', 'V1193', 'V1203', 'V1218', 'V1249', 'V1256',\n",
      "       'V1263', 'V1290', 'V1293', 'V1300', 'V1315', 'V1478', 'V1517', 'V1530',\n",
      "       'V1533', 'V1549', 'V1572', 'V1575', 'V1635', 'V1644', 'V1654', 'V1658',\n",
      "       'V1667', 'V1673', 'V1697', 'V1702', 'V1719', 'V1744', 'V1772', 'V1787',\n",
      "       'V1799', 'V1812', 'V1813', 'V1827', 'V1829', 'V1846', 'V1871', 'V1882',\n",
      "       'V1931', 'V1936', 'V1971'],\n",
      "      dtype='object')\n"
     ]
    },
    {
     "name": "stderr",
     "output_type": "stream",
     "text": [
      "/home/johan/.local/lib/python3.10/site-packages/sklearn/base.py:458: UserWarning: X has feature names, but SVC was fitted without feature names\n",
      "  warnings.warn(\n"
     ]
    },
    {
     "name": "stdout",
     "output_type": "stream",
     "text": [
      "Cross val err:  0.20438120646213132\n",
      "Train err:  0.19938414164742113\n",
      "Test err:  0.0\n"
     ]
    },
    {
     "name": "stderr",
     "output_type": "stream",
     "text": [
      "100%|██████████| 29/29 [02:05<00:00,  4.33s/it]\n"
     ]
    },
    {
     "name": "stdout",
     "output_type": "stream",
     "text": [
      "KNN optimal number of PCA components: 20\n",
      "Cross val err:  0.20630576552541868\n",
      "Train err:  0.20438799076212466\n",
      "Test err:  0.01038062283737029\n"
     ]
    },
    {
     "name": "stderr",
     "output_type": "stream",
     "text": [
      "100%|██████████| 99/99 [02:43<00:00,  1.65s/it]\n"
     ]
    },
    {
     "name": "stdout",
     "output_type": "stream",
     "text": [
      "LR optimal number of features: 55\n",
      "Most predictive features: Index(['V3', 'V18', 'V29', 'V68', 'V87', 'V217', 'V289', 'V307', 'V308',\n",
      "       'V350', 'V394', 'V462', 'V464', 'V475', 'V494', 'V507', 'V539', 'V568',\n",
      "       'V600', 'V627', 'V673', 'V687', 'V845', 'V855', 'V982', 'V1033',\n",
      "       'V1066', 'V1097', 'V1098', 'V1101', 'V1147', 'V1152', 'V1193', 'V1218',\n",
      "       'V1256', 'V1263', 'V1478', 'V1517', 'V1533', 'V1549', 'V1575', 'V1654',\n",
      "       'V1673', 'V1697', 'V1744', 'V1787', 'V1799', 'V1812', 'V1827', 'V1829',\n",
      "       'V1846', 'V1871', 'V1882', 'V1936', 'V1971'],\n",
      "      dtype='object')\n",
      "Cross val err:  0.2136208685341634\n",
      "Train err:  0.20592763664357194\n",
      "Test err:  0.02076124567474047\n"
     ]
    },
    {
     "name": "stderr",
     "output_type": "stream",
     "text": [
      "/home/johan/.local/lib/python3.10/site-packages/sklearn/base.py:458: UserWarning: X has feature names, but LogisticRegression was fitted without feature names\n",
      "  warnings.warn(\n"
     ]
    }
   ],
   "source": [
    "##Mislabel fraction 0.2, 90/10 split\n",
    "mislabel_fraction = 0.2\n",
    "split = 0.9\n",
    "X_train, X_test, y_train, y_test = pre_process(df, labels_df, split)\n",
    "y_train_noise = mislabel(mislabel_fraction, y_train)\n",
    "\n",
    "d[f\"KNN_PCA_miss_{mislabel_fraction:.1f}_{(1-split)*100:.0f}_{split*100:.0f}\"] = KNN_PCA(X_train, X_test, y_train_noise, y_test)\n",
    "d[f\"KNN_Feat_miss_{mislabel_fraction:.1f}_{(1-split)*100:.0f}_{split*100:.0f}\"] = KNN_features(X_train, X_test, y_train_noise, y_test)\n",
    "d[f\"SVC_PCA_miss_{mislabel_fraction:.1f}_{(1-split)*100:.0f}_{split*100:.0f}\"] = SVC_PCA(X_train, X_test, y_train_noise, y_test)\n",
    "d[f\"SVC_Feat_miss_{mislabel_fraction:.1f}_{(1-split)*100:.0f}_{split*100:.0f}\"] = SVC_features(X_train, X_test, y_train_noise, y_test)\n",
    "d[f\"LR_PCA_miss_{mislabel_fraction:.1f}_{(1-split)*100:.0f}_{split*100:.0f}\"] = LR_PCA(X_train, X_test, y_train_noise, y_test)\n",
    "d[f\"LR_Feat_miss_{mislabel_fraction:.1f}_{(1-split)*100:.0f}_{split*100:.0f}\"] = LR_features(X_train, X_test, y_train_noise, y_test)"
   ]
  },
  {
   "cell_type": "code",
   "execution_count": 19,
   "metadata": {},
   "outputs": [
    {
     "name": "stderr",
     "output_type": "stream",
     "text": [
      "100%|██████████| 29/29 [01:46<00:00,  3.68s/it]\n"
     ]
    },
    {
     "name": "stdout",
     "output_type": "stream",
     "text": [
      "KNN optimal number of PCA components: 27\n",
      "Cross val err:  0.598019801980198\n",
      "Train err:  0.46336633663366333\n",
      "Test err:  0.2364475201845444\n",
      "\n",
      "\n"
     ]
    },
    {
     "name": "stderr",
     "output_type": "stream",
     "text": [
      "100%|██████████| 99/99 [00:12<00:00,  7.83it/s]\n",
      "/home/johan/.local/lib/python3.10/site-packages/sklearn/base.py:458: UserWarning: X has feature names, but KNeighborsClassifier was fitted without feature names\n",
      "  warnings.warn(\n"
     ]
    },
    {
     "name": "stdout",
     "output_type": "stream",
     "text": [
      "KNN optimal number of features: 73\n",
      "Most predictive features: Index(['V3', 'V18', 'V68', 'V77', 'V87', 'V200', 'V217', 'V289', 'V307',\n",
      "       'V350', 'V362', 'V375', 'V392', 'V394', 'V475', 'V494', 'V539', 'V541',\n",
      "       'V568', 'V578', 'V600', 'V627', 'V663', 'V667', 'V673', 'V676', 'V687',\n",
      "       'V759', 'V795', 'V845', 'V855', 'V982', 'V1028', 'V1033', 'V1066',\n",
      "       'V1097', 'V1101', 'V1147', 'V1193', 'V1218', 'V1256', 'V1263', 'V1286',\n",
      "       'V1293', 'V1295', 'V1300', 'V1399', 'V1478', 'V1517', 'V1533', 'V1535',\n",
      "       'V1549', 'V1575', 'V1635', 'V1644', 'V1654', 'V1658', 'V1667', 'V1673',\n",
      "       'V1697', 'V1702', 'V1744', 'V1772', 'V1787', 'V1799', 'V1827', 'V1846',\n",
      "       'V1882', 'V1896', 'V1931', 'V1936', 'V1971', 'V1999'],\n",
      "      dtype='object')\n",
      "Cross val err:  0.5925742574257427\n",
      "Train err:  0.4579207920792079\n",
      "Test err:  0.273356401384083\n"
     ]
    },
    {
     "name": "stderr",
     "output_type": "stream",
     "text": [
      "100%|██████████| 29/29 [02:28<00:00,  5.10s/it]\n"
     ]
    },
    {
     "name": "stdout",
     "output_type": "stream",
     "text": [
      "SVC optimal number of PCA components: 20\n",
      "Cross val err:  0.504950495049505\n",
      "Train err:  0.5004950495049505\n",
      "Test err:  0.014994232987312617\n"
     ]
    },
    {
     "name": "stderr",
     "output_type": "stream",
     "text": [
      "100%|██████████| 99/99 [02:02<00:00,  1.23s/it]\n"
     ]
    },
    {
     "name": "stdout",
     "output_type": "stream",
     "text": [
      "SVC optimal number of features: 96\n",
      "Most predictive features: Index(['V3', 'V18', 'V30', 'V68', 'V77', 'V87', 'V177', 'V178', 'V193', 'V200',\n",
      "       'V217', 'V227', 'V278', 'V289', 'V307', 'V350', 'V362', 'V372', 'V375',\n",
      "       'V392', 'V394', 'V464', 'V475', 'V493', 'V494', 'V507', 'V539', 'V541',\n",
      "       'V568', 'V578', 'V600', 'V627', 'V663', 'V664', 'V667', 'V673', 'V676',\n",
      "       'V687', 'V728', 'V759', 'V795', 'V845', 'V855', 'V871', 'V982', 'V1015',\n",
      "       'V1028', 'V1033', 'V1045', 'V1066', 'V1097', 'V1101', 'V1102', 'V1147',\n",
      "       'V1152', 'V1193', 'V1218', 'V1222', 'V1256', 'V1263', 'V1286', 'V1290',\n",
      "       'V1293', 'V1295', 'V1300', 'V1397', 'V1399', 'V1478', 'V1517', 'V1530',\n",
      "       'V1533', 'V1535', 'V1549', 'V1575', 'V1604', 'V1635', 'V1644', 'V1646',\n",
      "       'V1654', 'V1658', 'V1667', 'V1673', 'V1697', 'V1702', 'V1744', 'V1772',\n",
      "       'V1787', 'V1799', 'V1827', 'V1846', 'V1882', 'V1896', 'V1931', 'V1936',\n",
      "       'V1971', 'V1999'],\n",
      "      dtype='object')\n"
     ]
    },
    {
     "name": "stderr",
     "output_type": "stream",
     "text": [
      "/home/johan/.local/lib/python3.10/site-packages/sklearn/base.py:458: UserWarning: X has feature names, but SVC was fitted without feature names\n",
      "  warnings.warn(\n"
     ]
    },
    {
     "name": "stdout",
     "output_type": "stream",
     "text": [
      "Cross val err:  0.5089108910891089\n",
      "Train err:  0.49653465346534653\n",
      "Test err:  0.028835063437139596\n"
     ]
    },
    {
     "name": "stderr",
     "output_type": "stream",
     "text": [
      "100%|██████████| 29/29 [02:03<00:00,  4.25s/it]\n"
     ]
    },
    {
     "name": "stdout",
     "output_type": "stream",
     "text": [
      "KNN optimal number of PCA components: 11\n",
      "Cross val err:  0.5084158415841584\n",
      "Train err:  0.5099009900990099\n",
      "Test err:  0.028835063437139596\n"
     ]
    },
    {
     "name": "stderr",
     "output_type": "stream",
     "text": [
      "100%|██████████| 99/99 [02:09<00:00,  1.30s/it]\n",
      "/home/johan/.local/lib/python3.10/site-packages/sklearn/base.py:458: UserWarning: X has feature names, but LogisticRegression was fitted without feature names\n",
      "  warnings.warn(\n"
     ]
    },
    {
     "name": "stdout",
     "output_type": "stream",
     "text": [
      "LR optimal number of features: 15\n",
      "Most predictive features: Index(['V3', 'V18', 'V68', 'V87', 'V217', 'V539', 'V627', 'V1101', 'V1256',\n",
      "       'V1533', 'V1654', 'V1673', 'V1744', 'V1787', 'V1936'],\n",
      "      dtype='object')\n",
      "Cross val err:  0.5193069306930693\n",
      "Train err:  0.5143564356435644\n",
      "Test err:  0.05536332179930792\n"
     ]
    }
   ],
   "source": [
    "##Mislabel fraction 0.5, 70/30 split\n",
    "mislabel_fraction = 0.5 \n",
    "split = 0.7\n",
    "X_train, X_test, y_train, y_test = pre_process(df, labels_df, split)\n",
    "y_train_noise = mislabel(mislabel_fraction, y_train)\n",
    "\n",
    "d[f\"KNN_PCA_miss_{mislabel_fraction:.1f}_{(1-split)*100:.0f}_{split*100:.0f}\"] = KNN_PCA(X_train, X_test, y_train_noise, y_test)\n",
    "d[f\"KNN_Feat_miss_{mislabel_fraction:.1f}_{(1-split)*100:.0f}_{split*100:.0f}\"] = KNN_features(X_train, X_test, y_train_noise, y_test)\n",
    "d[f\"SVC_PCA_miss_{mislabel_fraction:.1f}_{(1-split)*100:.0f}_{split*100:.0f}\"] = SVC_PCA(X_train, X_test, y_train_noise, y_test)\n",
    "d[f\"SVC_Feat_miss_{mislabel_fraction:.1f}_{(1-split)*100:.0f}_{split*100:.0f}\"] = SVC_features(X_train, X_test, y_train_noise, y_test)\n",
    "d[f\"LR_PCA_miss_{mislabel_fraction:.1f}_{(1-split)*100:.0f}_{split*100:.0f}\"] = LR_PCA(X_train, X_test, y_train_noise, y_test)\n",
    "d[f\"LR_Feat_miss_{mislabel_fraction:.1f}_{(1-split)*100:.0f}_{split*100:.0f}\"] = LR_features(X_train, X_test, y_train_noise, y_test)"
   ]
  },
  {
   "cell_type": "code",
   "execution_count": 20,
   "metadata": {},
   "outputs": [
    {
     "name": "stderr",
     "output_type": "stream",
     "text": [
      "100%|██████████| 29/29 [02:07<00:00,  4.39s/it]\n"
     ]
    },
    {
     "name": "stdout",
     "output_type": "stream",
     "text": [
      "KNN optimal number of PCA components: 6\n",
      "Cross val err:  0.5855292935553239\n",
      "Train err:  0.45127760935469896\n",
      "Test err:  0.24221453287197237\n",
      "\n",
      "\n"
     ]
    },
    {
     "name": "stderr",
     "output_type": "stream",
     "text": [
      "100%|██████████| 99/99 [00:14<00:00,  7.05it/s]\n",
      "/home/johan/.local/lib/python3.10/site-packages/sklearn/base.py:458: UserWarning: X has feature names, but KNeighborsClassifier was fitted without feature names\n",
      "  warnings.warn(\n"
     ]
    },
    {
     "name": "stdout",
     "output_type": "stream",
     "text": [
      "KNN optimal number of features: 40\n",
      "Most predictive features: Index(['V3', 'V18', 'V68', 'V87', 'V193', 'V289', 'V307', 'V350', 'V475',\n",
      "       'V494', 'V507', 'V539', 'V627', 'V667', 'V845', 'V1066', 'V1097',\n",
      "       'V1101', 'V1126', 'V1152', 'V1193', 'V1218', 'V1256', 'V1263', 'V1290',\n",
      "       'V1478', 'V1533', 'V1549', 'V1635', 'V1654', 'V1673', 'V1697', 'V1702',\n",
      "       'V1744', 'V1772', 'V1787', 'V1799', 'V1846', 'V1882', 'V1936'],\n",
      "      dtype='object')\n",
      "Cross val err:  0.5842268360706538\n",
      "Train err:  0.4482459939367691\n",
      "Test err:  0.22491349480968859\n"
     ]
    },
    {
     "name": "stderr",
     "output_type": "stream",
     "text": [
      "100%|██████████| 29/29 [02:42<00:00,  5.59s/it]\n"
     ]
    },
    {
     "name": "stdout",
     "output_type": "stream",
     "text": [
      "SVC optimal number of PCA components: 11\n",
      "Cross val err:  0.5032378323050775\n",
      "Train err:  0.5002165439584236\n",
      "Test err:  0.00865051903114189\n"
     ]
    },
    {
     "name": "stderr",
     "output_type": "stream",
     "text": [
      "100%|██████████| 99/99 [02:27<00:00,  1.49s/it]\n"
     ]
    },
    {
     "name": "stdout",
     "output_type": "stream",
     "text": [
      "SVC optimal number of features: 81\n",
      "Most predictive features: Index(['V3', 'V18', 'V30', 'V68', 'V77', 'V87', 'V178', 'V193', 'V217', 'V289',\n",
      "       'V307', 'V308', 'V350', 'V394', 'V475', 'V482', 'V494', 'V507', 'V539',\n",
      "       'V541', 'V568', 'V600', 'V627', 'V663', 'V667', 'V673', 'V687', 'V691',\n",
      "       'V845', 'V871', 'V959', 'V982', 'V1015', 'V1017', 'V1033', 'V1066',\n",
      "       'V1097', 'V1098', 'V1101', 'V1102', 'V1126', 'V1147', 'V1152', 'V1193',\n",
      "       'V1218', 'V1222', 'V1230', 'V1249', 'V1256', 'V1263', 'V1286', 'V1290',\n",
      "       'V1300', 'V1315', 'V1397', 'V1478', 'V1517', 'V1530', 'V1533', 'V1535',\n",
      "       'V1549', 'V1601', 'V1635', 'V1654', 'V1673', 'V1697', 'V1702', 'V1731',\n",
      "       'V1744', 'V1772', 'V1787', 'V1799', 'V1812', 'V1827', 'V1829', 'V1846',\n",
      "       'V1849', 'V1882', 'V1936', 'V1971', 'V1999'],\n",
      "      dtype='object')\n"
     ]
    },
    {
     "name": "stderr",
     "output_type": "stream",
     "text": [
      "/home/johan/.local/lib/python3.10/site-packages/sklearn/base.py:458: UserWarning: X has feature names, but SVC was fitted without feature names\n",
      "  warnings.warn(\n"
     ]
    },
    {
     "name": "stdout",
     "output_type": "stream",
     "text": [
      "Cross val err:  0.5041026941243861\n",
      "Train err:  0.49415331312256383\n",
      "Test err:  0.01730103806228378\n"
     ]
    },
    {
     "name": "stderr",
     "output_type": "stream",
     "text": [
      "100%|██████████| 29/29 [01:54<00:00,  3.96s/it]\n"
     ]
    },
    {
     "name": "stdout",
     "output_type": "stream",
     "text": [
      "KNN optimal number of PCA components: 24\n",
      "Cross val err:  0.5054023344695795\n",
      "Train err:  0.5028150714595063\n",
      "Test err:  0.01730103806228378\n"
     ]
    },
    {
     "name": "stderr",
     "output_type": "stream",
     "text": [
      "100%|██████████| 99/99 [02:37<00:00,  1.59s/it]"
     ]
    },
    {
     "name": "stdout",
     "output_type": "stream",
     "text": [
      "LR optimal number of features: 16\n",
      "Most predictive features: Index(['V18', 'V68', 'V539', 'V627', 'V1097', 'V1101', 'V1193', 'V1256',\n",
      "       'V1549', 'V1654', 'V1673', 'V1744', 'V1787', 'V1846', 'V1882', 'V1936'],\n",
      "      dtype='object')\n",
      "Cross val err:  0.5170981585298289\n",
      "Train err:  0.5153746210480727\n",
      "Test err:  0.05536332179930792\n"
     ]
    },
    {
     "name": "stderr",
     "output_type": "stream",
     "text": [
      "\n",
      "/home/johan/.local/lib/python3.10/site-packages/sklearn/base.py:458: UserWarning: X has feature names, but LogisticRegression was fitted without feature names\n",
      "  warnings.warn(\n"
     ]
    }
   ],
   "source": [
    "##Mislabel fraction 0.5, 80/20 split\n",
    "mislabel_fraction = 0.5\n",
    "split = 0.8\n",
    "X_train, X_test, y_train, y_test = pre_process(df, labels_df, split)\n",
    "y_train_noise = mislabel(mislabel_fraction, y_train)\n",
    "\n",
    "d[f\"KNN_PCA_miss_{mislabel_fraction:.1f}_{(1-split)*100:.0f}_{split*100:.0f}\"] = KNN_PCA(X_train, X_test, y_train_noise, y_test)\n",
    "d[f\"KNN_Feat_miss_{mislabel_fraction:.1f}_{(1-split)*100:.0f}_{split*100:.0f}\"] = KNN_features(X_train, X_test, y_train_noise, y_test)\n",
    "d[f\"SVC_PCA_miss_{mislabel_fraction:.1f}_{(1-split)*100:.0f}_{split*100:.0f}\"] = SVC_PCA(X_train, X_test, y_train_noise, y_test)\n",
    "d[f\"SVC_Feat_miss_{mislabel_fraction:.1f}_{(1-split)*100:.0f}_{split*100:.0f}\"] = SVC_features(X_train, X_test, y_train_noise, y_test)\n",
    "d[f\"LR_PCA_miss_{mislabel_fraction:.1f}_{(1-split)*100:.0f}_{split*100:.0f}\"] = LR_PCA(X_train, X_test, y_train_noise, y_test)\n",
    "d[f\"LR_Feat_miss_{mislabel_fraction:.1f}_{(1-split)*100:.0f}_{split*100:.0f}\"] = LR_features(X_train, X_test, y_train_noise, y_test)"
   ]
  },
  {
   "cell_type": "code",
   "execution_count": 21,
   "metadata": {},
   "outputs": [
    {
     "name": "stderr",
     "output_type": "stream",
     "text": [
      "100%|██████████| 29/29 [02:08<00:00,  4.44s/it]\n"
     ]
    },
    {
     "name": "stdout",
     "output_type": "stream",
     "text": [
      "KNN optimal number of PCA components: 8\n",
      "Cross val err:  0.5912361049355269\n",
      "Train err:  0.45650500384911474\n",
      "Test err:  0.22491349480968859\n",
      "\n",
      "\n"
     ]
    },
    {
     "name": "stderr",
     "output_type": "stream",
     "text": [
      "100%|██████████| 99/99 [00:17<00:00,  5.80it/s]\n",
      "/home/johan/.local/lib/python3.10/site-packages/sklearn/base.py:458: UserWarning: X has feature names, but KNeighborsClassifier was fitted without feature names\n",
      "  warnings.warn(\n"
     ]
    },
    {
     "name": "stdout",
     "output_type": "stream",
     "text": [
      "KNN optimal number of features: 35\n",
      "Most predictive features: Index(['V3', 'V18', 'V68', 'V87', 'V289', 'V350', 'V475', 'V539', 'V568',\n",
      "       'V627', 'V845', 'V982', 'V1033', 'V1066', 'V1097', 'V1101', 'V1193',\n",
      "       'V1218', 'V1256', 'V1263', 'V1300', 'V1478', 'V1517', 'V1533', 'V1549',\n",
      "       'V1572', 'V1654', 'V1673', 'V1697', 'V1744', 'V1772', 'V1787', 'V1799',\n",
      "       'V1882', 'V1936'],\n",
      "      dtype='object')\n",
      "Cross val err:  0.5869949607232844\n",
      "Train err:  0.4526558891454965\n",
      "Test err:  0.2802768166089965\n"
     ]
    },
    {
     "name": "stderr",
     "output_type": "stream",
     "text": [
      "100%|██████████| 29/29 [03:02<00:00,  6.28s/it]\n"
     ]
    },
    {
     "name": "stdout",
     "output_type": "stream",
     "text": [
      "SVC optimal number of PCA components: 13\n",
      "Cross val err:  0.5038661627389951\n",
      "Train err:  0.5003849114703618\n",
      "Test err:  0.01038062283737029\n"
     ]
    },
    {
     "name": "stderr",
     "output_type": "stream",
     "text": [
      "100%|██████████| 99/99 [03:08<00:00,  1.91s/it]\n"
     ]
    },
    {
     "name": "stdout",
     "output_type": "stream",
     "text": [
      "SVC optimal number of features: 91\n",
      "Most predictive features: Index(['V3', 'V18', 'V30', 'V68', 'V77', 'V87', 'V178', 'V193', 'V200', 'V217',\n",
      "       'V227', 'V278', 'V289', 'V307', 'V350', 'V359', 'V372', 'V392', 'V464',\n",
      "       'V475', 'V493', 'V494', 'V539', 'V541', 'V568', 'V600', 'V614', 'V627',\n",
      "       'V663', 'V673', 'V676', 'V687', 'V759', 'V795', 'V845', 'V855', 'V871',\n",
      "       'V893', 'V959', 'V982', 'V1024', 'V1028', 'V1033', 'V1066', 'V1078',\n",
      "       'V1089', 'V1097', 'V1101', 'V1102', 'V1147', 'V1152', 'V1175', 'V1193',\n",
      "       'V1218', 'V1222', 'V1249', 'V1256', 'V1263', 'V1290', 'V1300', 'V1397',\n",
      "       'V1399', 'V1478', 'V1517', 'V1530', 'V1533', 'V1535', 'V1549', 'V1572',\n",
      "       'V1575', 'V1589', 'V1604', 'V1635', 'V1646', 'V1654', 'V1667', 'V1673',\n",
      "       'V1697', 'V1702', 'V1744', 'V1772', 'V1787', 'V1799', 'V1812', 'V1827',\n",
      "       'V1846', 'V1871', 'V1882', 'V1931', 'V1936', 'V1971'],\n",
      "      dtype='object')\n"
     ]
    },
    {
     "name": "stderr",
     "output_type": "stream",
     "text": [
      "/home/johan/.local/lib/python3.10/site-packages/sklearn/base.py:458: UserWarning: X has feature names, but SVC was fitted without feature names\n",
      "  warnings.warn(\n"
     ]
    },
    {
     "name": "stdout",
     "output_type": "stream",
     "text": [
      "Cross val err:  0.5065584704313029\n",
      "Train err:  0.49538106235565815\n",
      "Test err:  0.03114186851211076\n"
     ]
    },
    {
     "name": "stderr",
     "output_type": "stream",
     "text": [
      "100%|██████████| 29/29 [02:09<00:00,  4.47s/it]\n"
     ]
    },
    {
     "name": "stdout",
     "output_type": "stream",
     "text": [
      "KNN optimal number of PCA components: 29\n",
      "Cross val err:  0.5054031421372462\n",
      "Train err:  0.5026943802925328\n",
      "Test err:  0.02768166089965396\n"
     ]
    },
    {
     "name": "stderr",
     "output_type": "stream",
     "text": [
      "100%|██████████| 99/99 [01:32<00:00,  1.07it/s]\n"
     ]
    },
    {
     "name": "stdout",
     "output_type": "stream",
     "text": [
      "LR optimal number of features: 37\n",
      "Most predictive features: Index(['V3', 'V18', 'V68', 'V87', 'V289', 'V350', 'V475', 'V539', 'V568',\n",
      "       'V627', 'V845', 'V982', 'V1033', 'V1066', 'V1097', 'V1101', 'V1193',\n",
      "       'V1218', 'V1256', 'V1263', 'V1300', 'V1478', 'V1517', 'V1533', 'V1549',\n",
      "       'V1572', 'V1654', 'V1673', 'V1697', 'V1744', 'V1772', 'V1787', 'V1799',\n",
      "       'V1846', 'V1882', 'V1936', 'V1971'],\n",
      "      dtype='object')\n",
      "Cross val err:  0.5142544834741367\n",
      "Train err:  0.5076982294072363\n",
      "Test err:  0.03460207612456745\n"
     ]
    },
    {
     "name": "stderr",
     "output_type": "stream",
     "text": [
      "/home/johan/.local/lib/python3.10/site-packages/sklearn/base.py:458: UserWarning: X has feature names, but LogisticRegression was fitted without feature names\n",
      "  warnings.warn(\n"
     ]
    }
   ],
   "source": [
    "##Mislabel fraction 0.5, 90/10 split\n",
    "mislabel_fraction = 0.5\n",
    "split = 0.9\n",
    "X_train, X_test, y_train, y_test = pre_process(df, labels_df, split)\n",
    "y_train_noise = mislabel(mislabel_fraction, y_train)\n",
    "\n",
    "d[f\"KNN_PCA_miss_{mislabel_fraction:.1f}_{(1-split)*100:.0f}_{split*100:.0f}\"] = KNN_PCA(X_train, X_test, y_train_noise, y_test)\n",
    "d[f\"KNN_Feat_miss_{mislabel_fraction:.1f}_{(1-split)*100:.0f}_{split*100:.0f}\"] = KNN_features(X_train, X_test, y_train_noise, y_test)\n",
    "d[f\"SVC_PCA_miss_{mislabel_fraction:.1f}_{(1-split)*100:.0f}_{split*100:.0f}\"] = SVC_PCA(X_train, X_test, y_train_noise, y_test)\n",
    "d[f\"SVC_Feat_miss_{mislabel_fraction:.1f}_{(1-split)*100:.0f}_{split*100:.0f}\"] = SVC_features(X_train, X_test, y_train_noise, y_test)\n",
    "d[f\"LR_PCA_miss_{mislabel_fraction:.1f}_{(1-split)*100:.0f}_{split*100:.0f}\"] = LR_PCA(X_train, X_test, y_train_noise, y_test)\n",
    "d[f\"LR_Feat_miss_{mislabel_fraction:.1f}_{(1-split)*100:.0f}_{split*100:.0f}\"] = LR_features(X_train, X_test, y_train_noise, y_test)"
   ]
  },
  {
   "cell_type": "code",
   "execution_count": 22,
   "metadata": {},
   "outputs": [
    {
     "name": "stderr",
     "output_type": "stream",
     "text": [
      "  3%|▎         | 1/29 [00:01<00:45,  1.64s/it]"
     ]
    },
    {
     "name": "stderr",
     "output_type": "stream",
     "text": [
      "100%|██████████| 29/29 [01:09<00:00,  2.40s/it]\n"
     ]
    },
    {
     "name": "stdout",
     "output_type": "stream",
     "text": [
      "KNN optimal number of PCA components: 17\n",
      "Cross val err:  0.8103960396039604\n",
      "Train err:  0.5787128712871288\n",
      "Test err:  0.8961937716262975\n",
      "\n",
      "\n"
     ]
    },
    {
     "name": "stderr",
     "output_type": "stream",
     "text": [
      "100%|██████████| 99/99 [00:10<00:00,  9.26it/s]\n",
      "/home/johan/.local/lib/python3.10/site-packages/sklearn/base.py:458: UserWarning: X has feature names, but KNeighborsClassifier was fitted without feature names\n",
      "  warnings.warn(\n"
     ]
    },
    {
     "name": "stdout",
     "output_type": "stream",
     "text": [
      "KNN optimal number of features: 85\n",
      "Most predictive features: Index(['V3', 'V19', 'V30', 'V61', 'V68', 'V77', 'V128', 'V163', 'V178', 'V201',\n",
      "       'V231', 'V289', 'V308', 'V316', 'V350', 'V379', 'V424', 'V453', 'V469',\n",
      "       'V475', 'V514', 'V541', 'V570', 'V594', 'V624', 'V631', 'V667', 'V763',\n",
      "       'V764', 'V795', 'V822', 'V826', 'V831', 'V914', 'V915', 'V922', 'V939',\n",
      "       'V942', 'V982', 'V1028', 'V1033', 'V1046', 'V1062', 'V1083', 'V1089',\n",
      "       'V1101', 'V1171', 'V1175', 'V1193', 'V1195', 'V1198', 'V1217', 'V1296',\n",
      "       'V1299', 'V1300', 'V1351', 'V1354', 'V1380', 'V1397', 'V1398', 'V1443',\n",
      "       'V1478', 'V1487', 'V1494', 'V1530', 'V1565', 'V1589', 'V1590', 'V1604',\n",
      "       'V1615', 'V1646', 'V1654', 'V1731', 'V1752', 'V1769', 'V1772', 'V1787',\n",
      "       'V1813', 'V1846', 'V1882', 'V1919', 'V1936', 'V1962', 'V1966', 'V1985'],\n",
      "      dtype='object')\n",
      "Cross val err:  0.804950495049505\n",
      "Train err:  0.5603960396039604\n",
      "Test err:  0.889273356401384\n"
     ]
    },
    {
     "name": "stderr",
     "output_type": "stream",
     "text": [
      "100%|██████████| 29/29 [01:52<00:00,  3.90s/it]\n"
     ]
    },
    {
     "name": "stdout",
     "output_type": "stream",
     "text": [
      "SVC optimal number of PCA components: 11\n",
      "Cross val err:  0.806930693069307\n",
      "Train err:  0.7217821782178218\n",
      "Test err:  0.9907727797001153\n"
     ]
    },
    {
     "name": "stderr",
     "output_type": "stream",
     "text": [
      "100%|██████████| 99/99 [02:02<00:00,  1.23s/it]\n"
     ]
    },
    {
     "name": "stdout",
     "output_type": "stream",
     "text": [
      "SVC optimal number of features: 83\n",
      "Most predictive features: Index(['V3', 'V19', 'V30', 'V61', 'V68', 'V77', 'V128', 'V163', 'V178', 'V201',\n",
      "       'V231', 'V289', 'V308', 'V316', 'V350', 'V379', 'V424', 'V453', 'V469',\n",
      "       'V475', 'V514', 'V541', 'V570', 'V594', 'V624', 'V631', 'V667', 'V763',\n",
      "       'V764', 'V795', 'V822', 'V826', 'V831', 'V914', 'V915', 'V922', 'V939',\n",
      "       'V942', 'V982', 'V1033', 'V1046', 'V1062', 'V1083', 'V1089', 'V1101',\n",
      "       'V1171', 'V1175', 'V1193', 'V1195', 'V1198', 'V1217', 'V1296', 'V1299',\n",
      "       'V1300', 'V1354', 'V1380', 'V1397', 'V1398', 'V1443', 'V1478', 'V1487',\n",
      "       'V1494', 'V1530', 'V1565', 'V1589', 'V1590', 'V1604', 'V1615', 'V1646',\n",
      "       'V1654', 'V1731', 'V1752', 'V1769', 'V1772', 'V1787', 'V1813', 'V1846',\n",
      "       'V1882', 'V1919', 'V1936', 'V1962', 'V1966', 'V1985'],\n",
      "      dtype='object')\n"
     ]
    },
    {
     "name": "stderr",
     "output_type": "stream",
     "text": [
      "/home/johan/.local/lib/python3.10/site-packages/sklearn/base.py:458: UserWarning: X has feature names, but SVC was fitted without feature names\n",
      "  warnings.warn(\n"
     ]
    },
    {
     "name": "stdout",
     "output_type": "stream",
     "text": [
      "Cross val err:  0.7930693069306931\n",
      "Train err:  0.5866336633663367\n",
      "Test err:  0.9896193771626297\n"
     ]
    },
    {
     "name": "stderr",
     "output_type": "stream",
     "text": [
      "100%|██████████| 29/29 [01:09<00:00,  2.39s/it]\n"
     ]
    },
    {
     "name": "stdout",
     "output_type": "stream",
     "text": [
      "KNN optimal number of PCA components: 18\n",
      "Cross val err:  0.8084158415841585\n",
      "Train err:  0.7608910891089109\n",
      "Test err:  0.9792387543252595\n"
     ]
    },
    {
     "name": "stderr",
     "output_type": "stream",
     "text": [
      "100%|██████████| 99/99 [01:23<00:00,  1.18it/s]\n"
     ]
    },
    {
     "name": "stdout",
     "output_type": "stream",
     "text": [
      "LR optimal number of features: 28\n",
      "Most predictive features: Index(['V3', 'V68', 'V128', 'V178', 'V308', 'V379', 'V469', 'V541', 'V594',\n",
      "       'V624', 'V631', 'V763', 'V822', 'V826', 'V915', 'V1193', 'V1300',\n",
      "       'V1380', 'V1397', 'V1478', 'V1494', 'V1654', 'V1731', 'V1752', 'V1772',\n",
      "       'V1787', 'V1882', 'V1966'],\n",
      "      dtype='object')\n",
      "Cross val err:  0.7950495049504951\n",
      "Train err:  0.7485148514851485\n",
      "Test err:  0.9700115340253749\n"
     ]
    },
    {
     "name": "stderr",
     "output_type": "stream",
     "text": [
      "/home/johan/.local/lib/python3.10/site-packages/sklearn/base.py:458: UserWarning: X has feature names, but LogisticRegression was fitted without feature names\n",
      "  warnings.warn(\n"
     ]
    }
   ],
   "source": [
    "##Mislabel fraction 0.9, 70/30 split\n",
    "mislabel_fraction = 0.9\n",
    "split = 0.7\n",
    "X_train, X_test, y_train, y_test = pre_process(df, labels_df, split)\n",
    "y_train_noise = mislabel(mislabel_fraction, y_train)\n",
    "\n",
    "d[f\"KNN_PCA_miss_{mislabel_fraction:.1f}_{(1-split)*100:.0f}_{split*100:.0f}\"] = KNN_PCA(X_train, X_test, y_train_noise, y_test)\n",
    "d[f\"KNN_Feat_miss_{mislabel_fraction:.1f}_{(1-split)*100:.0f}_{split*100:.0f}\"] = KNN_features(X_train, X_test, y_train_noise, y_test)\n",
    "d[f\"SVC_PCA_miss_{mislabel_fraction:.1f}_{(1-split)*100:.0f}_{split*100:.0f}\"] = SVC_PCA(X_train, X_test, y_train_noise, y_test)\n",
    "d[f\"SVC_Feat_miss_{mislabel_fraction:.1f}_{(1-split)*100:.0f}_{split*100:.0f}\"] = SVC_features(X_train, X_test, y_train_noise, y_test)\n",
    "d[f\"LR_PCA_miss_{mislabel_fraction:.1f}_{(1-split)*100:.0f}_{split*100:.0f}\"] = LR_PCA(X_train, X_test, y_train_noise, y_test)\n",
    "d[f\"LR_Feat_miss_{mislabel_fraction:.1f}_{(1-split)*100:.0f}_{split*100:.0f}\"] = LR_features(X_train, X_test, y_train_noise, y_test)"
   ]
  },
  {
   "cell_type": "code",
   "execution_count": 23,
   "metadata": {},
   "outputs": [
    {
     "name": "stderr",
     "output_type": "stream",
     "text": [
      "  0%|          | 0/29 [00:00<?, ?it/s]"
     ]
    },
    {
     "name": "stderr",
     "output_type": "stream",
     "text": [
      "100%|██████████| 29/29 [01:21<00:00,  2.81s/it]\n"
     ]
    },
    {
     "name": "stdout",
     "output_type": "stream",
     "text": [
      "KNN optimal number of PCA components: 12\n",
      "Cross val err:  0.8150641838277413\n",
      "Train err:  0.570376786487657\n",
      "Test err:  0.8927335640138409\n",
      "\n",
      "\n"
     ]
    },
    {
     "name": "stderr",
     "output_type": "stream",
     "text": [
      "100%|██████████| 99/99 [00:11<00:00,  8.38it/s]\n",
      "/home/johan/.local/lib/python3.10/site-packages/sklearn/base.py:458: UserWarning: X has feature names, but KNeighborsClassifier was fitted without feature names\n",
      "  warnings.warn(\n"
     ]
    },
    {
     "name": "stdout",
     "output_type": "stream",
     "text": [
      "KNN optimal number of features: 67\n",
      "Most predictive features: Index(['V3', 'V50', 'V61', 'V68', 'V77', 'V91', 'V128', 'V145', 'V200', 'V201',\n",
      "       'V217', 'V350', 'V354', 'V375', 'V392', 'V424', 'V474', 'V482', 'V493',\n",
      "       'V514', 'V526', 'V570', 'V595', 'V627', 'V714', 'V819', 'V826', 'V843',\n",
      "       'V845', 'V846', 'V871', 'V915', 'V1045', 'V1046', 'V1050', 'V1075',\n",
      "       'V1089', 'V1097', 'V1101', 'V1126', 'V1152', 'V1193', 'V1217', 'V1256',\n",
      "       'V1299', 'V1300', 'V1355', 'V1396', 'V1408', 'V1478', 'V1519', 'V1533',\n",
      "       'V1554', 'V1575', 'V1635', 'V1646', 'V1654', 'V1658', 'V1667', 'V1772',\n",
      "       'V1787', 'V1846', 'V1854', 'V1882', 'V1920', 'V1924', 'V1966'],\n",
      "      dtype='object')\n",
      "Cross val err:  0.8185395948953433\n",
      "Train err:  0.5729753139887397\n",
      "Test err:  0.9359861591695502\n"
     ]
    },
    {
     "name": "stderr",
     "output_type": "stream",
     "text": [
      "100%|██████████| 29/29 [02:08<00:00,  4.43s/it]\n"
     ]
    },
    {
     "name": "stdout",
     "output_type": "stream",
     "text": [
      "SVC optimal number of PCA components: 7\n",
      "Cross val err:  0.8228695382708398\n",
      "Train err:  0.7431788653096578\n",
      "Test err:  1.0\n"
     ]
    },
    {
     "name": "stderr",
     "output_type": "stream",
     "text": [
      "100%|██████████| 99/99 [02:33<00:00,  1.55s/it]\n"
     ]
    },
    {
     "name": "stdout",
     "output_type": "stream",
     "text": [
      "SVC optimal number of features: 6\n",
      "Most predictive features: Index(['V819', 'V1075', 'V1101', 'V1193', 'V1396', 'V1667'], dtype='object')\n"
     ]
    },
    {
     "name": "stderr",
     "output_type": "stream",
     "text": [
      "/home/johan/.local/lib/python3.10/site-packages/sklearn/base.py:458: UserWarning: X has feature names, but SVC was fitted without feature names\n",
      "  warnings.warn(\n"
     ]
    },
    {
     "name": "stdout",
     "output_type": "stream",
     "text": [
      "Cross val err:  0.8220065545445155\n",
      "Train err:  0.7488090082286705\n",
      "Test err:  0.9653979238754326\n"
     ]
    },
    {
     "name": "stderr",
     "output_type": "stream",
     "text": [
      "100%|██████████| 29/29 [01:14<00:00,  2.56s/it]\n"
     ]
    },
    {
     "name": "stdout",
     "output_type": "stream",
     "text": [
      "KNN optimal number of PCA components: 4\n",
      "Cross val err:  0.8124705374163075\n",
      "Train err:  0.7990472065829364\n",
      "Test err:  0.9965397923875432\n"
     ]
    },
    {
     "name": "stderr",
     "output_type": "stream",
     "text": [
      "100%|██████████| 99/99 [01:36<00:00,  1.02it/s]\n"
     ]
    },
    {
     "name": "stdout",
     "output_type": "stream",
     "text": [
      "LR optimal number of features: 25\n",
      "Most predictive features: Index(['V3', 'V77', 'V200', 'V201', 'V482', 'V514', 'V819', 'V871', 'V915',\n",
      "       'V1050', 'V1075', 'V1089', 'V1097', 'V1101', 'V1193', 'V1217', 'V1299',\n",
      "       'V1396', 'V1519', 'V1635', 'V1654', 'V1658', 'V1667', 'V1772', 'V1966'],\n",
      "      dtype='object')\n",
      "Cross val err:  0.8094449296184654\n",
      "Train err:  0.7605023819835427\n",
      "Test err:  0.972318339100346\n"
     ]
    },
    {
     "name": "stderr",
     "output_type": "stream",
     "text": [
      "/home/johan/.local/lib/python3.10/site-packages/sklearn/base.py:458: UserWarning: X has feature names, but LogisticRegression was fitted without feature names\n",
      "  warnings.warn(\n"
     ]
    }
   ],
   "source": [
    "##Mislabel fraction 0.9, 80/20 split\n",
    "mislabel_fraction = 0.9\n",
    "split = 0.8\n",
    "X_train, X_test, y_train, y_test = pre_process(df, labels_df, split)\n",
    "y_train_noise = mislabel(mislabel_fraction, y_train)\n",
    "\n",
    "d[f\"KNN_PCA_miss_{mislabel_fraction:.1f}_{(1-split)*100:.0f}_{split*100:.0f}\"] = KNN_PCA(X_train, X_test, y_train_noise, y_test)\n",
    "d[f\"KNN_Feat_miss_{mislabel_fraction:.1f}_{(1-split)*100:.0f}_{split*100:.0f}\"] = KNN_features(X_train, X_test, y_train_noise, y_test)\n",
    "d[f\"SVC_PCA_miss_{mislabel_fraction:.1f}_{(1-split)*100:.0f}_{split*100:.0f}\"] = SVC_PCA(X_train, X_test, y_train_noise, y_test)\n",
    "d[f\"SVC_Feat_miss_{mislabel_fraction:.1f}_{(1-split)*100:.0f}_{split*100:.0f}\"] = SVC_features(X_train, X_test, y_train_noise, y_test)\n",
    "d[f\"LR_PCA_miss_{mislabel_fraction:.1f}_{(1-split)*100:.0f}_{split*100:.0f}\"] = LR_PCA(X_train, X_test, y_train_noise, y_test)\n",
    "d[f\"LR_Feat_miss_{mislabel_fraction:.1f}_{(1-split)*100:.0f}_{split*100:.0f}\"] = LR_features(X_train, X_test, y_train_noise, y_test)"
   ]
  },
  {
   "cell_type": "code",
   "execution_count": 24,
   "metadata": {},
   "outputs": [
    {
     "name": "stderr",
     "output_type": "stream",
     "text": [
      "  0%|          | 0/29 [00:00<?, ?it/s]"
     ]
    },
    {
     "name": "stderr",
     "output_type": "stream",
     "text": [
      "100%|██████████| 29/29 [01:21<00:00,  2.81s/it]\n"
     ]
    },
    {
     "name": "stdout",
     "output_type": "stream",
     "text": [
      "KNN optimal number of PCA components: 2\n",
      "Cross val err:  0.814476063435601\n",
      "Train err:  0.565050038491147\n",
      "Test err:  0.9204152249134948\n",
      "\n",
      "\n"
     ]
    },
    {
     "name": "stderr",
     "output_type": "stream",
     "text": [
      "100%|██████████| 99/99 [00:14<00:00,  6.90it/s]\n",
      "/home/johan/.local/lib/python3.10/site-packages/sklearn/base.py:458: UserWarning: X has feature names, but KNeighborsClassifier was fitted without feature names\n",
      "  warnings.warn(\n"
     ]
    },
    {
     "name": "stdout",
     "output_type": "stream",
     "text": [
      "KNN optimal number of features: 32\n",
      "Most predictive features: Index(['V3', 'V68', 'V128', 'V178', 'V264', 'V469', 'V594', 'V627', 'V673',\n",
      "       'V691', 'V826', 'V845', 'V861', 'V892', 'V915', 'V1033', 'V1097',\n",
      "       'V1101', 'V1175', 'V1193', 'V1249', 'V1263', 'V1300', 'V1530', 'V1572',\n",
      "       'V1589', 'V1604', 'V1654', 'V1846', 'V1882', 'V1965', 'V1971'],\n",
      "      dtype='object')\n",
      "Cross val err:  0.8179279679857714\n",
      "Train err:  0.560816012317167\n",
      "Test err:  0.9204152249134948\n"
     ]
    },
    {
     "name": "stderr",
     "output_type": "stream",
     "text": [
      "100%|██████████| 29/29 [02:22<00:00,  4.91s/it]\n"
     ]
    },
    {
     "name": "stdout",
     "output_type": "stream",
     "text": [
      "SVC optimal number of PCA components: 3\n",
      "Cross val err:  0.8117815325329776\n",
      "Train err:  0.7829099307159353\n",
      "Test err:  0.9930795847750865\n"
     ]
    },
    {
     "name": "stderr",
     "output_type": "stream",
     "text": [
      "100%|██████████| 99/99 [03:12<00:00,  1.94s/it]\n"
     ]
    },
    {
     "name": "stdout",
     "output_type": "stream",
     "text": [
      "SVC optimal number of features: 25\n",
      "Most predictive features: Index(['V3', 'V68', 'V178', 'V264', 'V469', 'V594', 'V627', 'V673', 'V691',\n",
      "       'V826', 'V861', 'V892', 'V915', 'V1033', 'V1097', 'V1175', 'V1193',\n",
      "       'V1249', 'V1263', 'V1300', 'V1572', 'V1589', 'V1654', 'V1846', 'V1965'],\n",
      "      dtype='object')\n"
     ]
    },
    {
     "name": "stderr",
     "output_type": "stream",
     "text": [
      "/home/johan/.local/lib/python3.10/site-packages/sklearn/base.py:458: UserWarning: X has feature names, but SVC was fitted without feature names\n",
      "  warnings.warn(\n"
     ]
    },
    {
     "name": "stdout",
     "output_type": "stream",
     "text": [
      "Cross val err:  0.8148547502593745\n",
      "Train err:  0.710161662817552\n",
      "Test err:  1.0\n"
     ]
    },
    {
     "name": "stderr",
     "output_type": "stream",
     "text": [
      "100%|██████████| 29/29 [01:19<00:00,  2.75s/it]\n"
     ]
    },
    {
     "name": "stdout",
     "output_type": "stream",
     "text": [
      "KNN optimal number of PCA components: 11\n",
      "Cross val err:  0.8056173113976582\n",
      "Train err:  0.770977675134719\n",
      "Test err:  0.9930795847750865\n"
     ]
    },
    {
     "name": "stderr",
     "output_type": "stream",
     "text": [
      "100%|██████████| 99/99 [01:38<00:00,  1.01it/s]\n"
     ]
    },
    {
     "name": "stdout",
     "output_type": "stream",
     "text": [
      "LR optimal number of features: 25\n",
      "Most predictive features: Index(['V3', 'V68', 'V178', 'V264', 'V469', 'V594', 'V627', 'V673', 'V691',\n",
      "       'V826', 'V861', 'V892', 'V915', 'V1033', 'V1097', 'V1175', 'V1193',\n",
      "       'V1249', 'V1263', 'V1300', 'V1572', 'V1589', 'V1654', 'V1846', 'V1965'],\n",
      "      dtype='object')\n",
      "Cross val err:  0.8009908107306951\n",
      "Train err:  0.7590454195535027\n",
      "Test err:  0.9896193771626297\n"
     ]
    },
    {
     "name": "stderr",
     "output_type": "stream",
     "text": [
      "/home/johan/.local/lib/python3.10/site-packages/sklearn/base.py:458: UserWarning: X has feature names, but LogisticRegression was fitted without feature names\n",
      "  warnings.warn(\n"
     ]
    }
   ],
   "source": [
    "##Mislabel fraction 0.9, 90/10 split\n",
    "mislabel_fraction = 0.9\n",
    "split = 0.9\n",
    "X_train, X_test, y_train, y_test = pre_process(df, labels_df, split)\n",
    "y_train_noise = mislabel(mislabel_fraction, y_train)\n",
    "\n",
    "d[f\"KNN_PCA_miss_{mislabel_fraction:.1f}_{(1-split)*100:.0f}_{split*100:.0f}\"] = KNN_PCA(X_train, X_test, y_train_noise, y_test)\n",
    "d[f\"KNN_Feat_miss_{mislabel_fraction:.1f}_{(1-split)*100:.0f}_{split*100:.0f}\"] = KNN_features(X_train, X_test, y_train_noise, y_test)\n",
    "d[f\"SVC_PCA_miss_{mislabel_fraction:.1f}_{(1-split)*100:.0f}_{split*100:.0f}\"] = SVC_PCA(X_train, X_test, y_train_noise, y_test)\n",
    "d[f\"SVC_Feat_miss_{mislabel_fraction:.1f}_{(1-split)*100:.0f}_{split*100:.0f}\"] = SVC_features(X_train, X_test, y_train_noise, y_test)\n",
    "d[f\"LR_PCA_miss_{mislabel_fraction:.1f}_{(1-split)*100:.0f}_{split*100:.0f}\"] = LR_PCA(X_train, X_test, y_train_noise, y_test)\n",
    "d[f\"LR_Feat_miss_{mislabel_fraction:.1f}_{(1-split)*100:.0f}_{split*100:.0f}\"] = LR_features(X_train, X_test, y_train_noise, y_test)"
   ]
  },
  {
   "cell_type": "code",
   "execution_count": 25,
   "metadata": {},
   "outputs": [],
   "source": [
    "#Save data of part 2\n",
    "df_miss = pd.DataFrame(data =d, index = ['Train', 'Cross', 'Test', 'Opt_Feat_or_PCA'])\n",
    "df_miss.to_csv('./data_miss.csv', sep=\" \")"
   ]
  },
  {
   "cell_type": "code",
   "execution_count": 26,
   "metadata": {},
   "outputs": [
    {
     "name": "stdout",
     "output_type": "stream",
     "text": [
      "                 KNN_PCA_30_70  KNN_Feat_30_70  SVC_PCA_30_70  SVC_Feat_30_70   \n",
      "Train                 0.005941        0.005941       0.004950        0.001485  \\\n",
      "Cross                 0.007921        0.007426       0.005941        0.003960   \n",
      "Test                  0.006920        0.010381       0.008074        0.008074   \n",
      "Opt_Feat_or_PCA      22.000000       90.000000      10.000000       87.000000   \n",
      "\n",
      "                 LR_PCA_30_70  LR_Feat_30_70  KNN_PCA_20_80  KNN_Feat_20_80   \n",
      "Train                0.000000        0.00000       0.004764        0.005197  \\\n",
      "Cross                0.005446        0.00297       0.007361        0.007795   \n",
      "Test                 0.003460        0.00692       0.013841        0.012111   \n",
      "Opt_Feat_or_PCA     30.000000       87.00000      11.000000       81.000000   \n",
      "\n",
      "                 SVC_PCA_20_80  SVC_Feat_20_80  LR_PCA_20_80  LR_Feat_20_80   \n",
      "Train                 0.003032        0.001299      0.000000       0.000000  \\\n",
      "Cross                 0.005631        0.005631      0.005631       0.003898   \n",
      "Test                  0.010381        0.013841      0.010381       0.010381   \n",
      "Opt_Feat_or_PCA      25.000000       83.000000     27.000000      98.000000   \n",
      "\n",
      "                 KNN_PCA_10_90  KNN_Feat_10_90  SVC_PCA_10_90  SVC_Feat_10_90   \n",
      "Train                 0.005004        0.006159       0.002694        0.001540  \\\n",
      "Cross                 0.006929        0.006928       0.006544        0.006159   \n",
      "Test                  0.006920        0.010381       0.013841        0.006920   \n",
      "Opt_Feat_or_PCA      23.000000       97.000000      23.000000       96.000000   \n",
      "\n",
      "                 LR_PCA_10_90  LR_Feat_10_90  \n",
      "Train                0.000000       0.000000  \n",
      "Cross                0.005390       0.004233  \n",
      "Test                 0.010381       0.010381  \n",
      "Opt_Feat_or_PCA     30.000000      92.000000  \n",
      "                 KNN_PCA_miss_0.2_30_70  KNN_Feat_miss_0.2_30_70   \n",
      "Train                          0.201980                 0.206931  \\\n",
      "Cross                          0.212376                 0.216832   \n",
      "Test                           0.020761                 0.031142   \n",
      "Opt_Feat_or_PCA               11.000000                81.000000   \n",
      "\n",
      "                 SVC_PCA_miss_0.2_30_70  SVC_Feat_miss_0.2_30_70   \n",
      "Train                          0.202475                 0.203465  \\\n",
      "Cross                          0.204950                 0.207426   \n",
      "Test                           0.006920                 0.018454   \n",
      "Opt_Feat_or_PCA               26.000000                52.000000   \n",
      "\n",
      "                 LR_PCA_miss_0.2_30_70  LR_Feat_miss_0.2_30_70   \n",
      "Train                         0.205446                0.213861  \\\n",
      "Cross                         0.207921                0.223267   \n",
      "Test                          0.011534                0.025375   \n",
      "Opt_Feat_or_PCA              22.000000               33.000000   \n",
      "\n",
      "                 KNN_PCA_miss_0.2_20_80  KNN_Feat_miss_0.2_20_80   \n",
      "Train                          0.203118                 0.204417  \\\n",
      "Cross                          0.216976                 0.221309   \n",
      "Test                           0.017301                 0.024221   \n",
      "Opt_Feat_or_PCA               17.000000                44.000000   \n",
      "\n",
      "                 SVC_PCA_miss_0.2_20_80  SVC_Feat_miss_0.2_20_80  ...   \n",
      "Train                          0.202685                 0.201386  ...  \\\n",
      "Cross                          0.206151                 0.209183  ...   \n",
      "Test                           0.006920                 0.006920  ...   \n",
      "Opt_Feat_or_PCA               20.000000                97.000000  ...   \n",
      "\n",
      "                 SVC_PCA_miss_0.9_20_80  SVC_Feat_miss_0.9_20_80   \n",
      "Train                          0.743179                 0.748809  \\\n",
      "Cross                          0.822870                 0.822007   \n",
      "Test                           1.000000                 0.965398   \n",
      "Opt_Feat_or_PCA                7.000000                 6.000000   \n",
      "\n",
      "                 LR_PCA_miss_0.9_20_80  LR_Feat_miss_0.9_20_80   \n",
      "Train                         0.799047                0.760502  \\\n",
      "Cross                         0.812471                0.809445   \n",
      "Test                          0.996540                0.972318   \n",
      "Opt_Feat_or_PCA               4.000000               25.000000   \n",
      "\n",
      "                 KNN_PCA_miss_0.9_10_90  KNN_Feat_miss_0.9_10_90   \n",
      "Train                          0.565050                 0.560816  \\\n",
      "Cross                          0.814476                 0.817928   \n",
      "Test                           0.920415                 0.920415   \n",
      "Opt_Feat_or_PCA                2.000000                32.000000   \n",
      "\n",
      "                 SVC_PCA_miss_0.9_10_90  SVC_Feat_miss_0.9_10_90   \n",
      "Train                          0.782910                 0.710162  \\\n",
      "Cross                          0.811782                 0.814855   \n",
      "Test                           0.993080                 1.000000   \n",
      "Opt_Feat_or_PCA                3.000000                25.000000   \n",
      "\n",
      "                 LR_PCA_miss_0.9_10_90  LR_Feat_miss_0.9_10_90  \n",
      "Train                         0.770978                0.759045  \n",
      "Cross                         0.805617                0.800991  \n",
      "Test                          0.993080                0.989619  \n",
      "Opt_Feat_or_PCA              11.000000               25.000000  \n",
      "\n",
      "[4 rows x 54 columns]\n"
     ]
    }
   ],
   "source": [
    "##Print data from both parts\n",
    "td = pd.read_csv('./data.csv', sep = \" \", header=0, index_col=0)\n",
    "print(td)\n",
    "td_miss= pd.read_csv('./data_miss.csv', sep = \" \", header=0, index_col=0)\n",
    "print(td_miss)\n",
    "\n"
   ]
  }
 ],
 "metadata": {
  "kernelspec": {
   "display_name": "Python 3 (ipykernel)",
   "language": "python",
   "name": "python3"
  },
  "language_info": {
   "codemirror_mode": {
    "name": "ipython",
    "version": 3
   },
   "file_extension": ".py",
   "mimetype": "text/x-python",
   "name": "python",
   "nbconvert_exporter": "python",
   "pygments_lexer": "ipython3",
   "version": "3.10.12"
  }
 },
 "nbformat": 4,
 "nbformat_minor": 4
}
