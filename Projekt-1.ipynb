{
 "cells": [
  {
   "cell_type": "code",
   "execution_count": 45,
   "metadata": {},
   "outputs": [
    {
     "name": "stdout",
     "output_type": "stream",
     "text": [
      "           0         1         2         3         4         5         6     \\\n",
      "V1    -0.919906 -1.746010 -0.600541 -0.474599  0.900607 -1.551493 -0.848874   \n",
      "V2     0.654030 -0.081994 -0.190182 -0.465606  0.241042 -0.365064 -0.376741   \n",
      "V3    -1.157337 -0.783148 -1.011556 -1.010290 -1.040232 -0.845393 -1.052162   \n",
      "V4    -0.264374 -0.309184 -0.067973 -0.196135 -0.068804 -0.909649 -0.332370   \n",
      "V5    -0.616969 -0.457870 -0.238182 -0.406030  0.240433 -0.106435 -0.476325   \n",
      "...         ...       ...       ...       ...       ...       ...       ...   \n",
      "V1996 -1.249134  1.160949  0.075650  0.770539 -0.328305 -0.484580  0.933788   \n",
      "V1997 -0.722009 -0.988715 -0.815502 -0.459875  0.415100 -0.910058 -0.940080   \n",
      "V1998 -0.878412 -0.544540 -0.748599 -0.764573 -0.749110 -0.617285 -0.803440   \n",
      "V1999 -0.882094 -0.547689 -0.752070  0.559064 -0.267783 -0.620295 -0.806723   \n",
      "V2000  0.118576  0.562029 -0.353240  0.124559 -0.602939 -0.054681 -0.157014   \n",
      "\n",
      "           7         8         9     ...      2877      2878      2879  \\\n",
      "V1    -0.222497 -0.762981  0.216681  ... -0.212968 -1.040219 -0.893794   \n",
      "V2     0.322036 -0.423120  0.023147  ...  1.106031 -0.425406  0.656345   \n",
      "V3    -0.943823 -1.166661 -0.931442  ... -1.157657 -1.435980 -0.214800   \n",
      "V4    -0.276067 -0.320737 -0.079605  ...  0.211110 -0.088487 -0.108572   \n",
      "V5    -0.213993 -0.991676 -0.566863  ...  1.474340  1.167659  0.613545   \n",
      "...         ...       ...       ...  ...       ...       ...       ...   \n",
      "V1996 -1.030162 -0.378162 -1.014894  ... -0.321091  0.634172 -0.500019   \n",
      "V1997 -1.629952 -0.445964 -0.797742  ... -1.173769 -0.746283  0.714998   \n",
      "V1998 -0.681482 -0.884455 -0.677871  ... -0.858148  0.045157 -0.748599   \n",
      "V1999 -0.384578 -0.888180 -0.325351  ...  0.073035  1.040682  0.466897   \n",
      "V2000 -0.234650 -0.080942 -0.062834  ... -0.412284 -0.941031 -0.384765   \n",
      "\n",
      "           2880      2881      2882      2883      2884      2885      2886  \n",
      "V1    -0.670301 -0.247980 -1.634421  0.294937 -0.338485 -0.445679 -0.223478  \n",
      "V2     0.398929 -0.394870 -0.514738  0.249453  0.668821 -0.153343  0.316791  \n",
      "V3    -1.144211 -1.135678 -1.084321 -0.934582 -1.248582 -0.226336 -0.080916  \n",
      "V4    -0.179130 -0.013145 -0.587557  0.104487 -0.328466 -0.302787  0.249499  \n",
      "V5     1.089374  2.023692 -0.505288  0.637722  1.000972  1.420491  0.216114  \n",
      "...         ...       ...       ...       ...       ...       ...       ...  \n",
      "V1996  1.695861  1.721386  2.537763  1.701819  2.291400  1.965378  0.309642  \n",
      "V1997  0.443570 -0.865647 -1.903683 -1.475544  1.903866 -1.783967 -0.416642  \n",
      "V1998 -0.276561 -0.537511  1.250095 -0.689587 -0.944219 -0.655003 -0.776434  \n",
      "V1999  0.443810  0.729616 -0.816628  0.910952  0.891419 -0.658513  0.042454  \n",
      "V2000 -0.113332 -0.678657  0.020511 -0.809529 -0.275255  0.095043 -0.414734  \n",
      "\n",
      "[2000 rows x 2887 columns]\n",
      "        x\n",
      "1     GBM\n",
      "2     GBM\n",
      "3     GBM\n",
      "4     GBM\n",
      "5     GBM\n",
      "...   ...\n",
      "2883    U\n",
      "2884    U\n",
      "2885    U\n",
      "2886    U\n",
      "2887    U\n",
      "\n",
      "[2887 rows x 1 columns]\n"
     ]
    }
   ],
   "source": [
    "import pandas as pd\n",
    "import numpy as np\n",
    "from sklearn.preprocessing import StandardScaler\n",
    "\n",
    "scaler = StandardScaler()\n",
    "\n",
    "#features = [f\"V{x}\" for x in range(1,2000)]\n",
    "df = pd.read_csv('/Users/marcusmoller/Desktop/Statistik/Projekt 1/TCGAdata.txt', sep=\" \" ,header=0)\n",
    "labels_df = pd.read_csv('/Users/marcusmoller/Desktop/Statistik/Projekt 1/TCGAlabels', sep=\" \" ,header=0)\n",
    "\n",
    "#Standardizing the rows (transposing as fit_transform standardizes along columns)\n",
    "scaled_df = pd.DataFrame(np.transpose(scaler.fit_transform(df.transpose())), columns=df.columns)\n",
    "\n",
    "print(scaled_df)\n",
    "print(labels_df)"
   ]
  },
  {
   "cell_type": "code",
   "execution_count": 50,
   "metadata": {},
   "outputs": [
    {
     "name": "stdout",
     "output_type": "stream",
     "text": [
      "Optimal number of components: 19\n"
     ]
    }
   ],
   "source": [
    "# PCA\n",
    "\n",
    "from sklearn.model_selection import cross_val_score\n",
    "from sklearn.pipeline import make_pipeline\n",
    "from sklearn.decomposition import PCA\n",
    "from sklearn.neighbors import KNeighborsClassifier\n",
    "from sklearn.svm import SVC  \n",
    "\n",
    "# Example classifier, replace with your choice\n",
    "\n",
    "# Assuming 'X' is your feature matrix and 'y' is your target variable\n",
    "\n",
    "# Define a range of numbers of components to try\n",
    "num_components_range = range(1, 25)  # Example range, adjust as needed\n",
    "\n",
    "# Initialize lists to store mean cross-validation scores for each number of components\n",
    "SVC_mean_scores = []\n",
    "KNN_mean_scores = []\n",
    "\n",
    "# Loop over different numbers of components\n",
    "for n_components in num_components_range:\n",
    "    # Create a pipeline for classifiers\n",
    "    SVC_pipeline = make_pipeline(PCA(n_components=n_components), SVC())  # Example pipeline, replace with your choice\n",
    "    KNN_pipeline = make_pipeline(PCA(n_components=n_components), KNeighborsClassifier())\n",
    "    \n",
    "    # Mean cross-validation scores:\n",
    "    SVC_scores = cross_val_score(SVC_pipeline, scaled_df, labels_df.values.ravel(), cv=5)\n",
    "    SVC_mean_score = SVC_scores.mean()\n",
    "    \n",
    "    KNN_scores = cross_val_score(KNN_pipeline, scaled_df, labels_df.values.ravel(), cv=5)\n",
    "    KNN_mean_score = KNN_scores.mean()\n",
    "    \n",
    "    SVC_mean_scores.append(SVC_mean_score)\n",
    "    KNN_mean_scores.append(KNN_mean_score)\n",
    "\n",
    "# Find the optimal number of components based on the highest mean cross-validation score\n",
    "SVC_optimal_n_components = num_components_range[SVC_mean_scores.index(max(mean_scores))]\n",
    "KNN_optimal_n_components = num_components_range[KNN_mean_scores.index(ma(mean_scores))]\n",
    "\n",
    "# Print the optimal number of components\n",
    "print(\"Optimal number of components:\", SVC_optimal_n_components)\n",
    "print(\"Optimal number of components:\", KNN_optimal_n_components)\n"
   ]
  },
  {
   "cell_type": "code",
   "execution_count": 51,
   "metadata": {},
   "outputs": [
    {
     "name": "stdout",
     "output_type": "stream",
     "text": [
      "[0.8486270112081942, 0.9539258664012042, 0.9754037408622332, 0.9833694146432149, 0.9882191025049025, 0.989259563546083, 0.9913386865603618, 0.9930705894346727, 0.9930705894346727, 0.9927245686734272, 0.9923779482228205, 0.9927245686734272, 0.9927245686734272, 0.9927245686734272, 0.9934172098852795, 0.993763830335886, 0.9941104507864926, 0.9941104507864926, 0.9944570712370991, 0.993763830335886, 0.9944564715477382, 0.9944564715477382, 0.9941098510971317, 0.993763230646525]\n"
     ]
    }
   ],
   "source": [
    "print(mean_scores)"
   ]
  },
  {
   "cell_type": "code",
   "execution_count": null,
   "metadata": {},
   "outputs": [],
   "source": []
  }
 ],
 "metadata": {
  "kernelspec": {
   "display_name": "Python 3",
   "language": "python",
   "name": "python3"
  },
  "language_info": {
   "codemirror_mode": {
    "name": "ipython",
    "version": 3
   },
   "file_extension": ".py",
   "mimetype": "text/x-python",
   "name": "python",
   "nbconvert_exporter": "python",
   "pygments_lexer": "ipython3",
   "version": "3.8.5"
  }
 },
 "nbformat": 4,
 "nbformat_minor": 4
}
