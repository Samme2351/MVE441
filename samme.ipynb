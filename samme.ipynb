{
 "cells": [
  {
   "cell_type": "code",
   "execution_count": null,
   "metadata": {},
   "outputs": [],
   "source": [
    "import pandas as pd\n",
    "import numpy as np\n",
    "from sklearn.preprocessing import StandardScaler\n",
    "from sklearn.model_selection import train_test_split, cross_val_score\n",
    "from sklearn.metrics import accuracy_score\n",
    "from sklearn.pipeline import make_pipeline\n",
    "from sklearn.decomposition import PCA\n",
    "from sklearn.neighbors import KNeighborsClassifier\n",
    "from sklearn.svm import SVC  \n",
    "from sklearn.linear_model import LogisticRegression\n",
    "from sklearn.feature_selection import SelectKBest, f_classif\n",
    "from tqdm import tqdm\n",
    "\n",
    "#features = [f\"V{x}\" for x in range(1,2000)]\n",
    "df = pd.read_csv('Data/TCGAdata.txt', sep=\" \" ,header=0)\n",
    "labels_df = pd.read_csv('Data/TCGAlabels', sep=\" \" ,header=0)\n",
    "\n",
    "#Set max number of components for PCA\n",
    "max_num_components = 25\n",
    "\n",
    "num_components_range = range(1, max_num_components)"
   ]
  },
  {
   "cell_type": "code",
   "execution_count": null,
   "metadata": {},
   "outputs": [],
   "source": [
    "#Pre-processes the data by splitting and normalizing \n",
    "def pre_process(data, labels, train_size):\n",
    "    #Split data into training and test data\n",
    "    X_train, X_test, y_train, y_test = train_test_split(df, labels_df.values.ravel(), test_size=1-train_size, random_state=42)\n",
    "    \n",
    "    #Standardize the rows (transposing as fit_transform standardizes along columns)\n",
    "    #Scale after split to avoid data leakage\n",
    "    scaler = StandardScaler()\n",
    "    X_train = pd.DataFrame(np.transpose(scaler.fit_transform(X_train.transpose())), columns=X_train.columns)\n",
    "    X_test = pd.DataFrame(np.transpose(scaler.fit_transform(X_test.transpose())), columns=X_test.columns)\n",
    "    \n",
    "    return X_train, X_test, y_train, y_test"
   ]
  },
  {
   "cell_type": "code",
   "execution_count": null,
   "metadata": {},
   "outputs": [],
   "source": [
    "##KNN PCA\n",
    "\n",
    "def KNN_PCA(X_train, X_test, y_train, y_test):\n",
    "\n",
    "    KNN_mean_scores = np.zeros(max_num_components)\n",
    "\n",
    "    # Loop over different numbers of components\n",
    "    for n_components in tqdm(num_components_range):\n",
    "\n",
    "        #PCA\n",
    "\n",
    "        KNN_pipeline = make_pipeline(PCA(n_components=n_components), KNeighborsClassifier(n_neighbors=5))\n",
    "\n",
    "        KNN_scores = cross_val_score(KNN_pipeline, X_train, y_train, cv=5)\n",
    "        KNN_mean_score = KNN_scores.mean()\n",
    "\n",
    "        #KNN_mean_scores.append(KNN_mean_score)\n",
    "        KNN_mean_scores[n_components] = KNN_mean_score\n",
    "\n",
    "    KNN_optimal_n_components = np.where(KNN_mean_scores==KNN_mean_scores.max())[0][0]+1\n",
    "    cross_val_err = 1 - max(KNN_mean_scores)\n",
    "\n",
    "    print(\"KNN optimal number of PCA components:\", KNN_optimal_n_components)\n",
    "\n",
    "    opt_pipeline = make_pipeline(PCA(n_components=KNN_optimal_n_components), KNeighborsClassifier(n_neighbors=5))\n",
    "\n",
    "    opt_pipeline.fit(X_train, y_train)\n",
    "    train_pred = opt_pipeline.predict(X_train)\n",
    "    train_error = 1 - accuracy_score(y_train, train_pred)\n",
    "\n",
    "    test_pred = opt_pipeline.predict(X_test)\n",
    "    test_error = 1 - accuracy_score(y_test, test_pred)\n",
    "\n",
    "    print(\"Cross val err: \", cross_val_err)\n",
    "    print(\"Train err: \", train_error)\n",
    "    print(\"Test err: \", test_error)\n",
    "    print(\"\\n\")"
   ]
  },
  {
   "cell_type": "code",
   "execution_count": null,
   "metadata": {},
   "outputs": [],
   "source": [
    "##KNN features\n",
    "\n",
    "def KNN_features(X_train, X_test, y_train, y_test):\n",
    "    max_num_features = 50\n",
    "\n",
    "    num_features = range(1, max_num_features)\n",
    "    KNN_mean_scores = np.zeros(max_num_features)\n",
    "\n",
    "    # Loop over different numbers of features\n",
    "    for k in tqdm(num_features):\n",
    "\n",
    "        feature_selector = SelectKBest(f_classif, k=k)\n",
    "\n",
    "        X_train_selected = feature_selector.fit_transform(X_train, y_train)\n",
    "\n",
    "        model = KNeighborsClassifier(n_neighbors=5)\n",
    "\n",
    "        KNN_scores = cross_val_score(model, X_train_selected, y_train, cv=5)\n",
    "        KNN_mean_score = KNN_scores.mean()\n",
    "\n",
    "        KNN_mean_scores[k] = KNN_mean_score\n",
    "\n",
    "        #KNN_mean_scores.append(KNN_mean_score)\n",
    "\n",
    "    KNN_optimal_k_features = np.where(KNN_mean_scores==KNN_mean_scores.max())[0][0]+1\n",
    "    cross_val_err = 1 - max(KNN_mean_scores)\n",
    "\n",
    "    print(\"KNN optimal number of features:\", KNN_optimal_k_features)\n",
    "\n",
    "    feature_selector = SelectKBest(f_classif, k=KNN_optimal_k_features)\n",
    "    X_train_selected = feature_selector.fit_transform(X_train, y_train)\n",
    "    model.fit(X_train_selected, y_train)\n",
    "\n",
    "\n",
    "    # Get the indices of the selected features\n",
    "    selected_feature_indices = feature_selector.get_support(indices=True)\n",
    "\n",
    "    # Get the names of the most predictive features\n",
    "    selected_features = X_train.columns[selected_feature_indices]\n",
    "    print(\"Most predictive features:\", selected_features)\n",
    "\n",
    "\n",
    "    train_pred = model.predict(X_train_selected)\n",
    "    train_error = 1 - accuracy_score(y_train, train_pred)\n",
    "\n",
    "    test_pred = model.predict(X_test[X_test.columns[selected_feature_indices]])\n",
    "    test_error = 1 - accuracy_score(y_test, test_pred)\n",
    "\n",
    "    print(\"Cross val err: \", cross_val_err)\n",
    "    print(\"Train err: \", train_error)\n",
    "    print(\"Test err: \", test_error)"
   ]
  },
  {
   "cell_type": "code",
   "execution_count": null,
   "metadata": {},
   "outputs": [],
   "source": [
    "##SVC PCA\n",
    "def SVC_PCA(X_train, X_test, y_train, y_test):\n",
    "    SVC_mean_scores = np.zeros(max_num_components)\n",
    "\n",
    "    #num_components_range = range(1, max_num_components)\n",
    "\n",
    "    # Loop over different numbers of components\n",
    "    for n_components in tqdm(num_components_range):\n",
    "\n",
    "        #PCA\n",
    "\n",
    "        SVC_pipeline = make_pipeline(PCA(n_components=n_components), SVC())\n",
    "\n",
    "        SVC_scores = cross_val_score(SVC_pipeline, X_train, y_train, cv=5)\n",
    "        SVC_mean_score = SVC_scores.mean()\n",
    "\n",
    "        #SVC_mean_scores.append(SVC_mean_score)\n",
    "        SVC_mean_scores[n_components] = SVC_mean_score\n",
    "\n",
    "    SVC_optimal_n_components = np.where(SVC_mean_scores==SVC_mean_scores.max())[0][0]+1\n",
    "    cross_val_err = 1 - max(SVC_mean_scores)\n",
    "\n",
    "    print(\"SVC optimal number of PCA components:\", SVC_optimal_n_components)\n",
    "\n",
    "    opt_pipeline = make_pipeline(PCA(n_components=SVC_optimal_n_components), SVC())\n",
    "\n",
    "    opt_pipeline.fit(X_train, y_train)\n",
    "    train_pred = opt_pipeline.predict(X_train)\n",
    "    train_error = 1 - accuracy_score(y_train, train_pred)\n",
    "\n",
    "    test_pred = opt_pipeline.predict(X_test)\n",
    "    test_error = 1 - accuracy_score(y_test, test_pred)\n",
    "\n",
    "    print(\"Cross val err: \", cross_val_err)\n",
    "    print(\"Train err: \", train_error)\n",
    "    print(\"Test err: \", test_error)"
   ]
  },
  {
   "cell_type": "code",
   "execution_count": null,
   "metadata": {},
   "outputs": [],
   "source": [
    "##SVC features\n",
    "\n",
    "def SVC_features(X_train, X_test, y_train, y_test):\n",
    "    max_num_features = 50\n",
    "    num_features = range(1, max_num_features)\n",
    "    SVC_mean_scores = np.zeros(max_num_features)\n",
    "\n",
    "    # Loop over different numbers of components\n",
    "    for k in tqdm(num_features):\n",
    "\n",
    "        feature_selector = SelectKBest(f_classif, k=k)\n",
    "\n",
    "        X_train_selected = feature_selector.fit_transform(X_train, y_train)\n",
    "\n",
    "        model = SVC()\n",
    "\n",
    "        SVC_scores = cross_val_score(model, X_train_selected, y_train, cv=5)\n",
    "        SVC_mean_score = SVC_scores.mean()\n",
    "\n",
    "        #SVC_mean_scores.append(SVC_mean_score)\n",
    "        SVC_mean_scores[k] = SVC_mean_score\n",
    "\n",
    "\n",
    "    SVC_optimal_k_features = np.where(SVC_mean_scores==SVC_mean_scores.max())[0][0]+1\n",
    "    cross_val_err = 1 - max(SVC_mean_scores)\n",
    "\n",
    "    print(\"SVC optimal number of features:\", SVC_optimal_k_features)\n",
    "\n",
    "    feature_selector = SelectKBest(f_classif, k=SVC_optimal_k_features)\n",
    "    X_train_selected = feature_selector.fit_transform(X_train, y_train)\n",
    "    model.fit(X_train_selected, y_train)\n",
    "\n",
    "    # Get the indices of the selected features\n",
    "    selected_feature_indices = feature_selector.get_support(indices=True)\n",
    "\n",
    "    # Get the names of the most predictive features\n",
    "    selected_features = X_train.columns[selected_feature_indices]\n",
    "    print(\"Most predictive features:\", selected_features)\n",
    "\n",
    "\n",
    "    train_pred = model.predict(X_train_selected)\n",
    "    train_error = 1 - accuracy_score(y_train, train_pred)\n",
    "\n",
    "    test_pred = model.predict(X_test[X_test.columns[selected_feature_indices]])\n",
    "    test_error = 1 - accuracy_score(y_test, test_pred)\n",
    "\n",
    "    print(\"Cross val err: \", cross_val_err)\n",
    "    print(\"Train err: \", train_error)\n",
    "    print(\"Test err: \", test_error)"
   ]
  },
  {
   "cell_type": "code",
   "execution_count": null,
   "metadata": {},
   "outputs": [],
   "source": [
    "##Logistic regression PCA\n",
    "\n",
    "def LR_PCA(X_train, X_test, y_train, y_test):\n",
    "    LR_mean_scores = np.zeros(max_num_components)\n",
    "\n",
    "    #num_components_range = range(1, 25)\n",
    "\n",
    "    # Loop over different numbers of components\n",
    "    for n_components in tqdm(num_components_range):\n",
    "\n",
    "        #PCA\n",
    "\n",
    "        LR_pipeline = make_pipeline(PCA(n_components=n_components), LogisticRegression(random_state=16, max_iter=10000))\n",
    "\n",
    "        LR_scores = cross_val_score(LR_pipeline, X_train, y_train, cv=5)\n",
    "        LR_mean_score = LR_scores.mean()\n",
    "\n",
    "        #LR_mean_scores.append(LR_mean_score)\n",
    "        LR_mean_scores[n_components] = LR_mean_score\n",
    "\n",
    "    LR_optimal_n_components = np.where(LR_mean_scores==LR_mean_scores.max())[0][0]+1\n",
    "    cross_val_err = 1 - max(LR_mean_scores)\n",
    "\n",
    "    print(\"KNN optimal number of PCA components:\", LR_optimal_n_components)\n",
    "\n",
    "    opt_pipeline = make_pipeline(PCA(n_components=LR_optimal_n_components), LogisticRegression(random_state=16, max_iter=10000))\n",
    "\n",
    "    opt_pipeline.fit(X_train, y_train)\n",
    "    train_pred = opt_pipeline.predict(X_train)\n",
    "    train_error = 1 - accuracy_score(y_train, train_pred)\n",
    "\n",
    "    test_pred = opt_pipeline.predict(X_test)\n",
    "    test_error = 1 - accuracy_score(y_test, test_pred)\n",
    "\n",
    "    print(\"Cross val err: \", cross_val_err)\n",
    "    print(\"Train err: \", train_error)\n",
    "    print(\"Test err: \", test_error)"
   ]
  },
  {
   "cell_type": "code",
   "execution_count": null,
   "metadata": {},
   "outputs": [],
   "source": [
    "##Logistic Regression features\n",
    "\n",
    "def LR_features(X_train, X_test, y_train, y_test):\n",
    "    max_num_features = 100\n",
    "    num_features = range(1, max_num_features)\n",
    "    LR_mean_scores = np.zeros(max_num_features)\n",
    "\n",
    "    # Loop over different numbers of components\n",
    "    for k in tqdm(num_features):\n",
    "\n",
    "        feature_selector = SelectKBest(f_classif, k=k)\n",
    "\n",
    "        X_train_selected = feature_selector.fit_transform(X_train, y_train)\n",
    "\n",
    "        model = LogisticRegression(random_state=16, max_iter=10000)\n",
    "\n",
    "        LR_scores = cross_val_score(model, X_train_selected, y_train, cv=5)\n",
    "        LR_mean_score = LR_scores.mean()\n",
    "\n",
    "        #LR_mean_scores.append(LR_mean_score)\n",
    "        LR_mean_scores[k] = LR_mean_score\n",
    "\n",
    "    LR_optimal_k_features = np.where(LR_mean_scores==LR_mean_scores.max())[0][0]+1\n",
    "    cross_val_err = 1 - max(LR_mean_scores)\n",
    "\n",
    "    print(\"LR optimal number of features:\", LR_optimal_k_features)\n",
    "\n",
    "    feature_selector = SelectKBest(f_classif, k=LR_optimal_k_features)\n",
    "    X_train_selected = feature_selector.fit_transform(X_train, y_train)\n",
    "    model.fit(X_train_selected, y_train)\n",
    "\n",
    "    # Get the indices of the selected features\n",
    "    selected_feature_indices = feature_selector.get_support(indices=True)\n",
    "\n",
    "    # Get the names of the most predictive features\n",
    "    selected_features = X_train.columns[selected_feature_indices]\n",
    "    print(\"Most predictive features:\", selected_features)\n",
    "\n",
    "    train_pred = model.predict(X_train_selected)\n",
    "    train_error = 1 - accuracy_score(y_train, train_pred)\n",
    "\n",
    "    test_pred = model.predict(X_test[X_test.columns[selected_feature_indices]])\n",
    "    test_error = 1 - accuracy_score(y_test, test_pred)\n",
    "\n",
    "    print(\"Cross val err: \", cross_val_err)\n",
    "    print(\"Train err: \", train_error)\n",
    "    print(\"Test err: \", test_error)"
   ]
  },
  {
   "cell_type": "code",
   "execution_count": null,
   "metadata": {},
   "outputs": [
    {
     "name": "stderr",
     "output_type": "stream",
     "text": [
      "100%|████████████████████████████████████████████████████████████████████| 24/24 [02:58<00:00,  7.42s/it]\n"
     ]
    },
    {
     "name": "stdout",
     "output_type": "stream",
     "text": [
      "KNN optimal number of PCA components: 25\n",
      "Cross val err:  0.006930693069306826\n",
      "Train err:  0.00544554455445545\n",
      "Test err:  0.011534025374855816\n",
      "\n",
      "\n"
     ]
    },
    {
     "name": "stderr",
     "output_type": "stream",
     "text": [
      "100%|████████████████████████████████████████████████████████████████████| 49/49 [00:04<00:00, 11.76it/s]\n",
      "/home/samme/.local/lib/python3.10/site-packages/sklearn/base.py:458: UserWarning: X has feature names, but KNeighborsClassifier was fitted without feature names\n",
      "  warnings.warn(\n"
     ]
    },
    {
     "name": "stdout",
     "output_type": "stream",
     "text": [
      "KNN optimal number of features: 48\n",
      "Most predictive features: Index(['V3', 'V18', 'V29', 'V64', 'V68', 'V87', 'V289', 'V307', 'V308', 'V350',\n",
      "       'V462', 'V475', 'V507', 'V539', 'V544', 'V627', 'V657', 'V687', 'V730',\n",
      "       'V803', 'V845', 'V1005', 'V1066', 'V1071', 'V1097', 'V1098', 'V1101',\n",
      "       'V1173', 'V1193', 'V1206', 'V1218', 'V1256', 'V1263', 'V1478', 'V1517',\n",
      "       'V1533', 'V1654', 'V1673', 'V1697', 'V1719', 'V1744', 'V1787', 'V1799',\n",
      "       'V1812', 'V1829', 'V1871', 'V1882', 'V1936'],\n",
      "      dtype='object')\n",
      "Cross val err:  0.011881188118811892\n",
      "Train err:  0.008415841584158423\n",
      "Test err:  0.011534025374855816\n"
     ]
    },
    {
     "name": "stderr",
     "output_type": "stream",
     "text": [
      "100%|████████████████████████████████████████████████████████████████████| 24/24 [02:57<00:00,  7.39s/it]\n"
     ]
    },
    {
     "name": "stdout",
     "output_type": "stream",
     "text": [
      "SVC optimal number of PCA components: 8\n",
      "Cross val err:  0.005940594059405946\n",
      "Train err:  0.002970297029702973\n",
      "Test err:  0.009227220299884653\n"
     ]
    },
    {
     "name": "stderr",
     "output_type": "stream",
     "text": [
      "100%|████████████████████████████████████████████████████████████████████| 49/49 [00:07<00:00,  6.41it/s]\n",
      "/home/samme/.local/lib/python3.10/site-packages/sklearn/base.py:458: UserWarning: X has feature names, but SVC was fitted without feature names\n",
      "  warnings.warn(\n"
     ]
    },
    {
     "name": "stdout",
     "output_type": "stream",
     "text": [
      "SVC optimal number of features: 42\n",
      "Most predictive features: Index(['V3', 'V18', 'V29', 'V64', 'V68', 'V87', 'V289', 'V308', 'V350', 'V462',\n",
      "       'V475', 'V507', 'V539', 'V627', 'V657', 'V687', 'V730', 'V803', 'V845',\n",
      "       'V1005', 'V1071', 'V1097', 'V1098', 'V1101', 'V1173', 'V1193', 'V1206',\n",
      "       'V1218', 'V1256', 'V1517', 'V1533', 'V1654', 'V1673', 'V1697', 'V1744',\n",
      "       'V1787', 'V1799', 'V1812', 'V1829', 'V1871', 'V1882', 'V1936'],\n",
      "      dtype='object')\n",
      "Cross val err:  0.010396039603960405\n",
      "Train err:  0.004950495049504955\n",
      "Test err:  0.01038062283737029\n"
     ]
    },
    {
     "name": "stderr",
     "output_type": "stream",
     "text": [
      "100%|████████████████████████████████████████████████████████████████████| 24/24 [03:13<00:00,  8.08s/it]\n"
     ]
    },
    {
     "name": "stdout",
     "output_type": "stream",
     "text": [
      "KNN optimal number of PCA components: 20\n",
      "Cross val err:  0.008415841584158423\n",
      "Train err:  0.0\n",
      "Test err:  0.0034602076124568004\n"
     ]
    },
    {
     "name": "stderr",
     "output_type": "stream",
     "text": [
      "100%|████████████████████████████████████████████████████████████████████| 99/99 [01:20<00:00,  1.23it/s]\n"
     ]
    },
    {
     "name": "stdout",
     "output_type": "stream",
     "text": [
      "LR optimal number of features: 100\n",
      "Most predictive features: Index(['V3', 'V16', 'V18', 'V29', 'V30', 'V35', 'V63', 'V64', 'V68', 'V72',\n",
      "       'V83', 'V87', 'V200', 'V217', 'V227', 'V274', 'V289', 'V307', 'V308',\n",
      "       'V350', 'V394', 'V418', 'V462', 'V464', 'V475', 'V494', 'V507', 'V539',\n",
      "       'V541', 'V544', 'V568', 'V578', 'V600', 'V627', 'V657', 'V658', 'V673',\n",
      "       'V687', 'V691', 'V730', 'V803', 'V818', 'V845', 'V850', 'V855', 'V889',\n",
      "       'V922', 'V982', 'V1005', 'V1033', 'V1066', 'V1071', 'V1097', 'V1098',\n",
      "       'V1101', 'V1102', 'V1126', 'V1152', 'V1173', 'V1193', 'V1203', 'V1206',\n",
      "       'V1218', 'V1234', 'V1249', 'V1256', 'V1263', 'V1290', 'V1293', 'V1443',\n",
      "       'V1478', 'V1517', 'V1530', 'V1533', 'V1549', 'V1575', 'V1580', 'V1583',\n",
      "       'V1635', 'V1654', 'V1657', 'V1673', 'V1697', 'V1719', 'V1744', 'V1772',\n",
      "       'V1787', 'V1799', 'V1812', 'V1813', 'V1827', 'V1829', 'V1846', 'V1868',\n",
      "       'V1871', 'V1877', 'V1881', 'V1882', 'V1936', 'V1971'],\n",
      "      dtype='object')\n",
      "Cross val err:  0.003960396039603964\n",
      "Train err:  0.0\n",
      "Test err:  0.00692041522491349\n"
     ]
    },
    {
     "name": "stderr",
     "output_type": "stream",
     "text": [
      "/home/samme/.local/lib/python3.10/site-packages/sklearn/base.py:458: UserWarning: X has feature names, but LogisticRegression was fitted without feature names\n",
      "  warnings.warn(\n"
     ]
    }
   ],
   "source": [
    "##Run everything with 70/30 split\n",
    "X_train, X_test, y_train, y_test = pre_process(df, labels_df, 0.7)\n",
    "\n",
    "KNN_PCA(X_train, X_test, y_train, y_test)\n",
    "KNN_features(X_train, X_test, y_train, y_test)\n",
    "SVC_PCA(X_train, X_test, y_train, y_test)\n",
    "SVC_features(X_train, X_test, y_train, y_test)\n",
    "LR_PCA(X_train, X_test, y_train, y_test)\n",
    "LR_features(X_train, X_test, y_train, y_test)"
   ]
  },
  {
   "cell_type": "code",
   "execution_count": null,
   "metadata": {},
   "outputs": [
    {
     "name": "stderr",
     "output_type": "stream",
     "text": [
      "100%|████████████████████████████████████████████████████████████████████| 24/24 [03:10<00:00,  7.93s/it]\n"
     ]
    },
    {
     "name": "stdout",
     "output_type": "stream",
     "text": [
      "KNN optimal number of PCA components: 23\n",
      "Cross val err:  0.006063423200082574\n",
      "Train err:  0.0047639670853183436\n",
      "Test err:  0.01211072664359858\n",
      "\n",
      "\n"
     ]
    },
    {
     "name": "stderr",
     "output_type": "stream",
     "text": [
      "100%|████████████████████████████████████████████████████████████████████| 49/49 [00:04<00:00,  9.91it/s]\n",
      "/home/samme/.local/lib/python3.10/site-packages/sklearn/base.py:458: UserWarning: X has feature names, but KNeighborsClassifier was fitted without feature names\n",
      "  warnings.warn(\n"
     ]
    },
    {
     "name": "stdout",
     "output_type": "stream",
     "text": [
      "KNN optimal number of features: 48\n",
      "Most predictive features: Index(['V3', 'V18', 'V29', 'V64', 'V68', 'V87', 'V289', 'V307', 'V308', 'V350',\n",
      "       'V462', 'V475', 'V507', 'V539', 'V544', 'V627', 'V657', 'V687', 'V730',\n",
      "       'V803', 'V845', 'V1005', 'V1066', 'V1071', 'V1097', 'V1098', 'V1101',\n",
      "       'V1173', 'V1193', 'V1206', 'V1218', 'V1256', 'V1263', 'V1478', 'V1517',\n",
      "       'V1533', 'V1654', 'V1673', 'V1697', 'V1719', 'V1744', 'V1787', 'V1799',\n",
      "       'V1812', 'V1829', 'V1871', 'V1882', 'V1936'],\n",
      "      dtype='object')\n",
      "Cross val err:  0.010395244668563564\n",
      "Train err:  0.008661758336942382\n",
      "Test err:  0.01384083044982698\n"
     ]
    },
    {
     "name": "stderr",
     "output_type": "stream",
     "text": [
      "100%|████████████████████████████████████████████████████████████████████| 24/24 [03:10<00:00,  7.95s/it]\n"
     ]
    },
    {
     "name": "stdout",
     "output_type": "stream",
     "text": [
      "SVC optimal number of PCA components: 23\n",
      "Cross val err:  0.005198561380773903\n",
      "Train err:  0.0017323516673884987\n",
      "Test err:  0.01384083044982698\n"
     ]
    },
    {
     "name": "stderr",
     "output_type": "stream",
     "text": [
      "100%|████████████████████████████████████████████████████████████████████| 49/49 [00:08<00:00,  5.45it/s]\n",
      "/home/samme/.local/lib/python3.10/site-packages/sklearn/base.py:458: UserWarning: X has feature names, but SVC was fitted without feature names\n",
      "  warnings.warn(\n"
     ]
    },
    {
     "name": "stdout",
     "output_type": "stream",
     "text": [
      "SVC optimal number of features: 44\n",
      "Most predictive features: Index(['V3', 'V18', 'V29', 'V64', 'V68', 'V87', 'V289', 'V307', 'V308', 'V462',\n",
      "       'V475', 'V507', 'V539', 'V544', 'V627', 'V657', 'V687', 'V730', 'V803',\n",
      "       'V845', 'V1005', 'V1071', 'V1097', 'V1098', 'V1101', 'V1173', 'V1193',\n",
      "       'V1206', 'V1218', 'V1256', 'V1263', 'V1517', 'V1533', 'V1654', 'V1673',\n",
      "       'V1697', 'V1744', 'V1787', 'V1799', 'V1812', 'V1829', 'V1871', 'V1882',\n",
      "       'V1936'],\n",
      "      dtype='object')\n",
      "Cross val err:  0.007363063545276161\n",
      "Train err:  0.004330879168471191\n",
      "Test err:  0.01211072664359858\n"
     ]
    },
    {
     "name": "stderr",
     "output_type": "stream",
     "text": [
      "100%|████████████████████████████████████████████████████████████████████| 24/24 [04:30<00:00, 11.27s/it]\n"
     ]
    },
    {
     "name": "stdout",
     "output_type": "stream",
     "text": [
      "KNN optimal number of PCA components: 19\n",
      "Cross val err:  0.005198561380773903\n",
      "Train err:  0.0\n",
      "Test err:  0.00519031141868509\n"
     ]
    },
    {
     "name": "stderr",
     "output_type": "stream",
     "text": [
      "100%|████████████████████████████████████████████████████████████████████| 99/99 [01:30<00:00,  1.09it/s]\n"
     ]
    },
    {
     "name": "stdout",
     "output_type": "stream",
     "text": [
      "LR optimal number of features: 94\n",
      "Most predictive features: Index(['V3', 'V16', 'V18', 'V29', 'V30', 'V35', 'V63', 'V64', 'V68', 'V72',\n",
      "       'V87', 'V217', 'V227', 'V274', 'V289', 'V307', 'V308', 'V350', 'V394',\n",
      "       'V418', 'V462', 'V464', 'V475', 'V494', 'V507', 'V539', 'V544', 'V568',\n",
      "       'V600', 'V627', 'V657', 'V658', 'V673', 'V687', 'V691', 'V730', 'V803',\n",
      "       'V818', 'V845', 'V850', 'V855', 'V889', 'V922', 'V982', 'V1005',\n",
      "       'V1033', 'V1066', 'V1071', 'V1078', 'V1097', 'V1098', 'V1101', 'V1102',\n",
      "       'V1152', 'V1173', 'V1193', 'V1203', 'V1206', 'V1218', 'V1234', 'V1249',\n",
      "       'V1256', 'V1263', 'V1293', 'V1443', 'V1478', 'V1517', 'V1530', 'V1533',\n",
      "       'V1549', 'V1575', 'V1580', 'V1583', 'V1635', 'V1654', 'V1657', 'V1673',\n",
      "       'V1697', 'V1719', 'V1744', 'V1760', 'V1787', 'V1799', 'V1812', 'V1813',\n",
      "       'V1827', 'V1829', 'V1846', 'V1868', 'V1871', 'V1877', 'V1882', 'V1936',\n",
      "       'V1971'],\n",
      "      dtype='object')\n",
      "Cross val err:  0.003033120169779635\n",
      "Train err:  0.0\n",
      "Test err:  0.01038062283737029\n"
     ]
    },
    {
     "name": "stderr",
     "output_type": "stream",
     "text": [
      "/home/samme/.local/lib/python3.10/site-packages/sklearn/base.py:458: UserWarning: X has feature names, but LogisticRegression was fitted without feature names\n",
      "  warnings.warn(\n"
     ]
    }
   ],
   "source": [
    "##Run everything with 80/20 split\n",
    "X_train, X_test, y_train, y_test = pre_process(df, labels_df, 0.8)\n",
    "\n",
    "KNN_PCA(X_train, X_test, y_train, y_test)\n",
    "KNN_features(X_train, X_test, y_train, y_test)\n",
    "SVC_PCA(X_train, X_test, y_train, y_test)\n",
    "SVC_features(X_train, X_test, y_train, y_test)\n",
    "LR_PCA(X_train, X_test, y_train, y_test)\n",
    "LR_features(X_train, X_test, y_train, y_test)"
   ]
  },
  {
   "cell_type": "code",
   "execution_count": null,
   "metadata": {},
   "outputs": [
    {
     "name": "stderr",
     "output_type": "stream",
     "text": [
      "100%|████████████████████████████████████████████████████████████████████| 24/24 [03:23<00:00,  8.49s/it]\n"
     ]
    },
    {
     "name": "stdout",
     "output_type": "stream",
     "text": [
      "KNN optimal number of PCA components: 10\n",
      "Cross val err:  0.006543649029198129\n",
      "Train err:  0.005388760585065433\n",
      "Test err:  0.01038062283737029\n",
      "\n",
      "\n"
     ]
    },
    {
     "name": "stderr",
     "output_type": "stream",
     "text": [
      "100%|████████████████████████████████████████████████████████████████████| 49/49 [00:05<00:00,  8.67it/s]\n",
      "/home/samme/.local/lib/python3.10/site-packages/sklearn/base.py:458: UserWarning: X has feature names, but KNeighborsClassifier was fitted without feature names\n",
      "  warnings.warn(\n"
     ]
    },
    {
     "name": "stdout",
     "output_type": "stream",
     "text": [
      "KNN optimal number of features: 39\n",
      "Most predictive features: Index(['V3', 'V18', 'V29', 'V64', 'V68', 'V87', 'V289', 'V308', 'V462', 'V475',\n",
      "       'V507', 'V539', 'V627', 'V657', 'V687', 'V730', 'V803', 'V845', 'V1005',\n",
      "       'V1071', 'V1097', 'V1098', 'V1101', 'V1193', 'V1206', 'V1218', 'V1256',\n",
      "       'V1517', 'V1533', 'V1654', 'V1673', 'V1744', 'V1787', 'V1799', 'V1812',\n",
      "       'V1829', 'V1871', 'V1882', 'V1936'],\n",
      "      dtype='object')\n",
      "Cross val err:  0.01116348006521406\n",
      "Train err:  0.009622786759045376\n",
      "Test err:  0.01038062283737029\n"
     ]
    },
    {
     "name": "stderr",
     "output_type": "stream",
     "text": [
      "100%|████████████████████████████████████████████████████████████████████| 24/24 [03:30<00:00,  8.79s/it]\n"
     ]
    },
    {
     "name": "stdout",
     "output_type": "stream",
     "text": [
      "SVC optimal number of PCA components: 9\n",
      "Cross val err:  0.006543649029198129\n",
      "Train err:  0.0034642032332563577\n",
      "Test err:  0.01384083044982698\n"
     ]
    },
    {
     "name": "stderr",
     "output_type": "stream",
     "text": [
      "100%|████████████████████████████████████████████████████████████████████| 49/49 [00:10<00:00,  4.51it/s]\n",
      "/home/samme/.local/lib/python3.10/site-packages/sklearn/base.py:458: UserWarning: X has feature names, but SVC was fitted without feature names\n",
      "  warnings.warn(\n"
     ]
    },
    {
     "name": "stdout",
     "output_type": "stream",
     "text": [
      "SVC optimal number of features: 33\n",
      "Most predictive features: Index(['V3', 'V18', 'V29', 'V68', 'V87', 'V462', 'V475', 'V507', 'V539',\n",
      "       'V627', 'V657', 'V687', 'V730', 'V803', 'V845', 'V1005', 'V1071',\n",
      "       'V1098', 'V1101', 'V1193', 'V1218', 'V1256', 'V1533', 'V1654', 'V1673',\n",
      "       'V1744', 'V1787', 'V1799', 'V1812', 'V1829', 'V1871', 'V1882', 'V1936'],\n",
      "      dtype='object')\n",
      "Cross val err:  0.008084333777975461\n",
      "Train err:  0.0038491147036181506\n",
      "Test err:  0.01038062283737029\n"
     ]
    },
    {
     "name": "stderr",
     "output_type": "stream",
     "text": [
      "100%|████████████████████████████████████████████████████████████████████| 24/24 [04:32<00:00, 11.36s/it]\n"
     ]
    },
    {
     "name": "stdout",
     "output_type": "stream",
     "text": [
      "KNN optimal number of PCA components: 24\n",
      "Cross val err:  0.00500592856084181\n",
      "Train err:  0.0\n",
      "Test err:  0.01384083044982698\n"
     ]
    },
    {
     "name": "stderr",
     "output_type": "stream",
     "text": [
      "100%|████████████████████████████████████████████████████████████████████| 99/99 [01:48<00:00,  1.09s/it]\n"
     ]
    },
    {
     "name": "stdout",
     "output_type": "stream",
     "text": [
      "LR optimal number of features: 82\n",
      "Most predictive features: Index(['V3', 'V18', 'V29', 'V30', 'V35', 'V63', 'V64', 'V68', 'V72', 'V87',\n",
      "       'V227', 'V274', 'V289', 'V307', 'V308', 'V350', 'V394', 'V462', 'V464',\n",
      "       'V475', 'V494', 'V507', 'V539', 'V544', 'V568', 'V600', 'V627', 'V657',\n",
      "       'V658', 'V673', 'V687', 'V691', 'V730', 'V803', 'V818', 'V845', 'V850',\n",
      "       'V855', 'V889', 'V982', 'V1005', 'V1033', 'V1066', 'V1071', 'V1097',\n",
      "       'V1098', 'V1101', 'V1173', 'V1193', 'V1203', 'V1206', 'V1218', 'V1234',\n",
      "       'V1249', 'V1256', 'V1263', 'V1293', 'V1443', 'V1478', 'V1517', 'V1530',\n",
      "       'V1533', 'V1549', 'V1580', 'V1654', 'V1657', 'V1673', 'V1697', 'V1719',\n",
      "       'V1744', 'V1787', 'V1799', 'V1812', 'V1813', 'V1827', 'V1829', 'V1846',\n",
      "       'V1871', 'V1877', 'V1882', 'V1936', 'V1971'],\n",
      "      dtype='object')\n",
      "Cross val err:  0.0038498591966800166\n",
      "Train err:  0.0\n",
      "Test err:  0.01384083044982698\n"
     ]
    },
    {
     "name": "stderr",
     "output_type": "stream",
     "text": [
      "/home/samme/.local/lib/python3.10/site-packages/sklearn/base.py:458: UserWarning: X has feature names, but LogisticRegression was fitted without feature names\n",
      "  warnings.warn(\n"
     ]
    }
   ],
   "source": [
    "##Run everything with 90/10 split\n",
    "X_train, X_test, y_train, y_test = pre_process(df, labels_df, 0.9)\n",
    "\n",
    "KNN_PCA(X_train, X_test, y_train, y_test)\n",
    "KNN_features(X_train, X_test, y_train, y_test)\n",
    "SVC_PCA(X_train, X_test, y_train, y_test)\n",
    "SVC_features(X_train, X_test, y_train, y_test)\n",
    "LR_PCA(X_train, X_test, y_train, y_test)\n",
    "LR_features(X_train, X_test, y_train, y_test)"
   ]
  },
  {
   "cell_type": "code",
   "execution_count": null,
   "metadata": {},
   "outputs": [],
   "source": [
    "##Part 2 Theme 2 mislabeling\n",
    "\n",
    "def mislabel(mislabel_fraction, y_train):\n",
    "    labels = set(labels_df[\"x\"])\n",
    "\n",
    "    num_samples = len(y_train)\n",
    "    num_mislabels = int(mislabel_fraction * num_samples)\n",
    "    mislabel_indices = np.random.choice(num_samples, num_mislabels, replace=False)\n",
    "\n",
    "    y_train_noise = y_train.copy()\n",
    "\n",
    "    for i in mislabel_indices:\n",
    "        correct = y_train[i]\n",
    "        y_train_noise[i] = np.random.choice(list(labels - set([correct])))\n",
    "    \n",
    "    return y_train_noise"
   ]
  },
  {
   "cell_type": "code",
   "execution_count": null,
   "metadata": {},
   "outputs": [
    {
     "name": "stderr",
     "output_type": "stream",
     "text": [
      "100%|████████████████████████████████████████████████████████████████████| 24/24 [02:49<00:00,  7.07s/it]\n"
     ]
    },
    {
     "name": "stdout",
     "output_type": "stream",
     "text": [
      "KNN optimal number of PCA components: 25\n",
      "Cross val err:  0.006930693069306826\n",
      "Train err:  0.00544554455445545\n",
      "Test err:  0.011534025374855816\n",
      "\n",
      "\n"
     ]
    },
    {
     "name": "stderr",
     "output_type": "stream",
     "text": [
      "100%|████████████████████████████████████████████████████████████████████| 49/49 [00:04<00:00, 11.63it/s]\n",
      "/home/samme/.local/lib/python3.10/site-packages/sklearn/base.py:458: UserWarning: X has feature names, but KNeighborsClassifier was fitted without feature names\n",
      "  warnings.warn(\n"
     ]
    },
    {
     "name": "stdout",
     "output_type": "stream",
     "text": [
      "KNN optimal number of features: 48\n",
      "Most predictive features: Index(['V3', 'V18', 'V29', 'V64', 'V68', 'V87', 'V289', 'V307', 'V308', 'V350',\n",
      "       'V462', 'V475', 'V507', 'V539', 'V544', 'V627', 'V657', 'V687', 'V730',\n",
      "       'V803', 'V845', 'V1005', 'V1066', 'V1071', 'V1097', 'V1098', 'V1101',\n",
      "       'V1173', 'V1193', 'V1206', 'V1218', 'V1256', 'V1263', 'V1478', 'V1517',\n",
      "       'V1533', 'V1654', 'V1673', 'V1697', 'V1719', 'V1744', 'V1787', 'V1799',\n",
      "       'V1812', 'V1829', 'V1871', 'V1882', 'V1936'],\n",
      "      dtype='object')\n",
      "Cross val err:  0.011881188118811892\n",
      "Train err:  0.008415841584158423\n",
      "Test err:  0.011534025374855816\n"
     ]
    },
    {
     "name": "stderr",
     "output_type": "stream",
     "text": [
      "100%|████████████████████████████████████████████████████████████████████| 24/24 [02:51<00:00,  7.13s/it]\n"
     ]
    },
    {
     "name": "stdout",
     "output_type": "stream",
     "text": [
      "SVC optimal number of PCA components: 8\n",
      "Cross val err:  0.005940594059405946\n",
      "Train err:  0.002970297029702973\n",
      "Test err:  0.009227220299884653\n"
     ]
    },
    {
     "name": "stderr",
     "output_type": "stream",
     "text": [
      "100%|████████████████████████████████████████████████████████████████████| 49/49 [00:08<00:00,  6.04it/s]\n",
      "/home/samme/.local/lib/python3.10/site-packages/sklearn/base.py:458: UserWarning: X has feature names, but SVC was fitted without feature names\n",
      "  warnings.warn(\n"
     ]
    },
    {
     "name": "stdout",
     "output_type": "stream",
     "text": [
      "SVC optimal number of features: 42\n",
      "Most predictive features: Index(['V3', 'V18', 'V29', 'V64', 'V68', 'V87', 'V289', 'V308', 'V350', 'V462',\n",
      "       'V475', 'V507', 'V539', 'V627', 'V657', 'V687', 'V730', 'V803', 'V845',\n",
      "       'V1005', 'V1071', 'V1097', 'V1098', 'V1101', 'V1173', 'V1193', 'V1206',\n",
      "       'V1218', 'V1256', 'V1517', 'V1533', 'V1654', 'V1673', 'V1697', 'V1744',\n",
      "       'V1787', 'V1799', 'V1812', 'V1829', 'V1871', 'V1882', 'V1936'],\n",
      "      dtype='object')\n",
      "Cross val err:  0.010396039603960405\n",
      "Train err:  0.004950495049504955\n",
      "Test err:  0.01038062283737029\n"
     ]
    },
    {
     "name": "stderr",
     "output_type": "stream",
     "text": [
      "100%|████████████████████████████████████████████████████████████████████| 24/24 [03:41<00:00,  9.21s/it]\n"
     ]
    },
    {
     "name": "stdout",
     "output_type": "stream",
     "text": [
      "KNN optimal number of PCA components: 20\n",
      "Cross val err:  0.008415841584158423\n",
      "Train err:  0.0\n",
      "Test err:  0.0034602076124568004\n"
     ]
    },
    {
     "name": "stderr",
     "output_type": "stream",
     "text": [
      "100%|████████████████████████████████████████████████████████████████████| 99/99 [01:27<00:00,  1.13it/s]\n"
     ]
    },
    {
     "name": "stdout",
     "output_type": "stream",
     "text": [
      "LR optimal number of features: 100\n",
      "Most predictive features: Index(['V3', 'V16', 'V18', 'V29', 'V30', 'V35', 'V63', 'V64', 'V68', 'V72',\n",
      "       'V83', 'V87', 'V200', 'V217', 'V227', 'V274', 'V289', 'V307', 'V308',\n",
      "       'V350', 'V394', 'V418', 'V462', 'V464', 'V475', 'V494', 'V507', 'V539',\n",
      "       'V541', 'V544', 'V568', 'V578', 'V600', 'V627', 'V657', 'V658', 'V673',\n",
      "       'V687', 'V691', 'V730', 'V803', 'V818', 'V845', 'V850', 'V855', 'V889',\n",
      "       'V922', 'V982', 'V1005', 'V1033', 'V1066', 'V1071', 'V1097', 'V1098',\n",
      "       'V1101', 'V1102', 'V1126', 'V1152', 'V1173', 'V1193', 'V1203', 'V1206',\n",
      "       'V1218', 'V1234', 'V1249', 'V1256', 'V1263', 'V1290', 'V1293', 'V1443',\n",
      "       'V1478', 'V1517', 'V1530', 'V1533', 'V1549', 'V1575', 'V1580', 'V1583',\n",
      "       'V1635', 'V1654', 'V1657', 'V1673', 'V1697', 'V1719', 'V1744', 'V1772',\n",
      "       'V1787', 'V1799', 'V1812', 'V1813', 'V1827', 'V1829', 'V1846', 'V1868',\n",
      "       'V1871', 'V1877', 'V1881', 'V1882', 'V1936', 'V1971'],\n",
      "      dtype='object')\n",
      "Cross val err:  0.003960396039603964\n",
      "Train err:  0.0\n",
      "Test err:  0.00692041522491349\n"
     ]
    },
    {
     "name": "stderr",
     "output_type": "stream",
     "text": [
      "/home/samme/.local/lib/python3.10/site-packages/sklearn/base.py:458: UserWarning: X has feature names, but LogisticRegression was fitted without feature names\n",
      "  warnings.warn(\n"
     ]
    }
   ],
   "source": [
    "##Mislabel fraction 0.2, 70/30 split\n",
    "mislabel_fraction = 0.2\n",
    "X_train, X_test, y_train, y_test = pre_process(df, labels_df, 0.7)\n",
    "y_train_noise = mislabel(mislabel_fraction, y_train)\n",
    "\n",
    "KNN_PCA(X_train, X_test, y_train_noise, y_test)\n",
    "KNN_features(X_train, X_test, y_train_noise, y_test)\n",
    "SVC_PCA(X_train, X_test, y_train_noise, y_test)\n",
    "SVC_features(X_train, X_test, y_train_noise, y_test)\n",
    "LR_PCA(X_train, X_test, y_train_noise, y_test)\n",
    "LR_features(X_train, X_test, y_train_noise, y_test)"
   ]
  },
  {
   "cell_type": "code",
   "execution_count": null,
   "metadata": {},
   "outputs": [
    {
     "name": "stderr",
     "output_type": "stream",
     "text": [
      "100%|████████████████████████████████████████████████████████████████████| 24/24 [03:22<00:00,  8.45s/it]\n"
     ]
    },
    {
     "name": "stdout",
     "output_type": "stream",
     "text": [
      "KNN optimal number of PCA components: 23\n",
      "Cross val err:  0.006063423200082574\n",
      "Train err:  0.0047639670853183436\n",
      "Test err:  0.01211072664359858\n",
      "\n",
      "\n"
     ]
    },
    {
     "name": "stderr",
     "output_type": "stream",
     "text": [
      "100%|████████████████████████████████████████████████████████████████████| 49/49 [00:05<00:00,  8.85it/s]\n",
      "/home/samme/.local/lib/python3.10/site-packages/sklearn/base.py:458: UserWarning: X has feature names, but KNeighborsClassifier was fitted without feature names\n",
      "  warnings.warn(\n"
     ]
    },
    {
     "name": "stdout",
     "output_type": "stream",
     "text": [
      "KNN optimal number of features: 48\n",
      "Most predictive features: Index(['V3', 'V18', 'V29', 'V64', 'V68', 'V87', 'V289', 'V307', 'V308', 'V350',\n",
      "       'V462', 'V475', 'V507', 'V539', 'V544', 'V627', 'V657', 'V687', 'V730',\n",
      "       'V803', 'V845', 'V1005', 'V1066', 'V1071', 'V1097', 'V1098', 'V1101',\n",
      "       'V1173', 'V1193', 'V1206', 'V1218', 'V1256', 'V1263', 'V1478', 'V1517',\n",
      "       'V1533', 'V1654', 'V1673', 'V1697', 'V1719', 'V1744', 'V1787', 'V1799',\n",
      "       'V1812', 'V1829', 'V1871', 'V1882', 'V1936'],\n",
      "      dtype='object')\n",
      "Cross val err:  0.010395244668563564\n",
      "Train err:  0.008661758336942382\n",
      "Test err:  0.01384083044982698\n"
     ]
    },
    {
     "name": "stderr",
     "output_type": "stream",
     "text": [
      "100%|████████████████████████████████████████████████████████████████████| 24/24 [03:24<00:00,  8.54s/it]\n"
     ]
    },
    {
     "name": "stdout",
     "output_type": "stream",
     "text": [
      "SVC optimal number of PCA components: 23\n",
      "Cross val err:  0.005198561380773903\n",
      "Train err:  0.0017323516673884987\n",
      "Test err:  0.01384083044982698\n"
     ]
    },
    {
     "name": "stderr",
     "output_type": "stream",
     "text": [
      "100%|████████████████████████████████████████████████████████████████████| 49/49 [00:09<00:00,  4.95it/s]\n",
      "/home/samme/.local/lib/python3.10/site-packages/sklearn/base.py:458: UserWarning: X has feature names, but SVC was fitted without feature names\n",
      "  warnings.warn(\n"
     ]
    },
    {
     "name": "stdout",
     "output_type": "stream",
     "text": [
      "SVC optimal number of features: 44\n",
      "Most predictive features: Index(['V3', 'V18', 'V29', 'V64', 'V68', 'V87', 'V289', 'V307', 'V308', 'V462',\n",
      "       'V475', 'V507', 'V539', 'V544', 'V627', 'V657', 'V687', 'V730', 'V803',\n",
      "       'V845', 'V1005', 'V1071', 'V1097', 'V1098', 'V1101', 'V1173', 'V1193',\n",
      "       'V1206', 'V1218', 'V1256', 'V1263', 'V1517', 'V1533', 'V1654', 'V1673',\n",
      "       'V1697', 'V1744', 'V1787', 'V1799', 'V1812', 'V1829', 'V1871', 'V1882',\n",
      "       'V1936'],\n",
      "      dtype='object')\n",
      "Cross val err:  0.007363063545276161\n",
      "Train err:  0.004330879168471191\n",
      "Test err:  0.01211072664359858\n"
     ]
    },
    {
     "name": "stderr",
     "output_type": "stream",
     "text": [
      "100%|████████████████████████████████████████████████████████████████████| 24/24 [04:09<00:00, 10.39s/it]\n"
     ]
    },
    {
     "name": "stdout",
     "output_type": "stream",
     "text": [
      "KNN optimal number of PCA components: 25\n",
      "Cross val err:  0.005198561380773903\n",
      "Train err:  0.0\n",
      "Test err:  0.00519031141868509\n"
     ]
    },
    {
     "name": "stderr",
     "output_type": "stream",
     "text": [
      "100%|████████████████████████████████████████████████████████████████████| 99/99 [01:36<00:00,  1.03it/s]\n"
     ]
    },
    {
     "name": "stdout",
     "output_type": "stream",
     "text": [
      "LR optimal number of features: 94\n",
      "Most predictive features: Index(['V3', 'V16', 'V18', 'V29', 'V30', 'V35', 'V63', 'V64', 'V68', 'V72',\n",
      "       'V87', 'V217', 'V227', 'V274', 'V289', 'V307', 'V308', 'V350', 'V394',\n",
      "       'V418', 'V462', 'V464', 'V475', 'V494', 'V507', 'V539', 'V544', 'V568',\n",
      "       'V600', 'V627', 'V657', 'V658', 'V673', 'V687', 'V691', 'V730', 'V803',\n",
      "       'V818', 'V845', 'V850', 'V855', 'V889', 'V922', 'V982', 'V1005',\n",
      "       'V1033', 'V1066', 'V1071', 'V1078', 'V1097', 'V1098', 'V1101', 'V1102',\n",
      "       'V1152', 'V1173', 'V1193', 'V1203', 'V1206', 'V1218', 'V1234', 'V1249',\n",
      "       'V1256', 'V1263', 'V1293', 'V1443', 'V1478', 'V1517', 'V1530', 'V1533',\n",
      "       'V1549', 'V1575', 'V1580', 'V1583', 'V1635', 'V1654', 'V1657', 'V1673',\n",
      "       'V1697', 'V1719', 'V1744', 'V1760', 'V1787', 'V1799', 'V1812', 'V1813',\n",
      "       'V1827', 'V1829', 'V1846', 'V1868', 'V1871', 'V1877', 'V1882', 'V1936',\n",
      "       'V1971'],\n",
      "      dtype='object')\n",
      "Cross val err:  0.003033120169779635\n",
      "Train err:  0.0\n",
      "Test err:  0.01038062283737029\n"
     ]
    },
    {
     "name": "stderr",
     "output_type": "stream",
     "text": [
      "/home/samme/.local/lib/python3.10/site-packages/sklearn/base.py:458: UserWarning: X has feature names, but LogisticRegression was fitted without feature names\n",
      "  warnings.warn(\n"
     ]
    }
   ],
   "source": [
    "##Mislabel fraction 0.2, 80/20 split\n",
    "mislabel_fraction = 0.2\n",
    "X_train, X_test, y_train, y_test = pre_process(df, labels_df, 0.8)\n",
    "y_train_noise = mislabel(mislabel_fraction, y_train)\n",
    "\n",
    "KNN_PCA(X_train, X_test, y_train_noise, y_test)\n",
    "KNN_features(X_train, X_test, y_train_noise, y_test)\n",
    "SVC_PCA(X_train, X_test, y_train_noise, y_test)\n",
    "SVC_features(X_train, X_test, y_train_noise, y_test)\n",
    "LR_PCA(X_train, X_test, y_train_noise, y_test)\n",
    "LR_features(X_train, X_test, y_train_noise, y_test)"
   ]
  },
  {
   "cell_type": "code",
   "execution_count": null,
   "metadata": {},
   "outputs": [
    {
     "name": "stderr",
     "output_type": "stream",
     "text": [
      " 42%|████████████████████████████▎                                       | 10/24 [01:07<01:34,  6.75s/it]\n"
     ]
    },
    {
     "ename": "KeyboardInterrupt",
     "evalue": "",
     "output_type": "error",
     "traceback": [
      "\u001b[0;31m---------------------------------------------------------------------------\u001b[0m\n",
      "\u001b[0;31mKeyboardInterrupt\u001b[0m                         Traceback (most recent call last)\n",
      "Cell \u001b[0;32mIn[15], line 6\u001b[0m\n",
      "\u001b[1;32m      3\u001b[0m X_train, X_test, y_train, y_test \u001b[38;5;241m=\u001b[39m pre_process(df, labels_df, \u001b[38;5;241m0.9\u001b[39m)\n",
      "\u001b[1;32m      4\u001b[0m y_train_noise \u001b[38;5;241m=\u001b[39m mislabel(mislabel_fraction, y_train)\n",
      "\u001b[0;32m----> 6\u001b[0m \u001b[43mKNN_PCA\u001b[49m\u001b[43m(\u001b[49m\u001b[43mX_train\u001b[49m\u001b[43m,\u001b[49m\u001b[43m \u001b[49m\u001b[43mX_test\u001b[49m\u001b[43m,\u001b[49m\u001b[43m \u001b[49m\u001b[43my_train\u001b[49m\u001b[43m,\u001b[49m\u001b[43m \u001b[49m\u001b[43my_test\u001b[49m\u001b[43m)\u001b[49m\n",
      "\u001b[1;32m      7\u001b[0m KNN_features(X_train, X_test, y_train, y_test)\n",
      "\u001b[1;32m      8\u001b[0m SVC_PCA(X_train, X_test, y_train, y_test)\n",
      "\n",
      "Cell \u001b[0;32mIn[3], line 14\u001b[0m, in \u001b[0;36mKNN_PCA\u001b[0;34m(X_train, X_test, y_train, y_test)\u001b[0m\n",
      "\u001b[1;32m      8\u001b[0m \u001b[38;5;28;01mfor\u001b[39;00m n_components \u001b[38;5;129;01min\u001b[39;00m tqdm(num_components_range):\n",
      "\u001b[1;32m      9\u001b[0m \n",
      "\u001b[1;32m     10\u001b[0m     \u001b[38;5;66;03m#PCA\u001b[39;00m\n",
      "\u001b[1;32m     12\u001b[0m     KNN_pipeline \u001b[38;5;241m=\u001b[39m make_pipeline(PCA(n_components\u001b[38;5;241m=\u001b[39mn_components), KNeighborsClassifier(n_neighbors\u001b[38;5;241m=\u001b[39m\u001b[38;5;241m5\u001b[39m))\n",
      "\u001b[0;32m---> 14\u001b[0m     KNN_scores \u001b[38;5;241m=\u001b[39m \u001b[43mcross_val_score\u001b[49m\u001b[43m(\u001b[49m\u001b[43mKNN_pipeline\u001b[49m\u001b[43m,\u001b[49m\u001b[43m \u001b[49m\u001b[43mX_train\u001b[49m\u001b[43m,\u001b[49m\u001b[43m \u001b[49m\u001b[43my_train\u001b[49m\u001b[43m,\u001b[49m\u001b[43m \u001b[49m\u001b[43mcv\u001b[49m\u001b[38;5;241;43m=\u001b[39;49m\u001b[38;5;241;43m5\u001b[39;49m\u001b[43m)\u001b[49m\n",
      "\u001b[1;32m     15\u001b[0m     KNN_mean_score \u001b[38;5;241m=\u001b[39m KNN_scores\u001b[38;5;241m.\u001b[39mmean()\n",
      "\u001b[1;32m     17\u001b[0m     \u001b[38;5;66;03m#KNN_mean_scores.append(KNN_mean_score)\u001b[39;00m\n",
      "\n",
      "File \u001b[0;32m~/.local/lib/python3.10/site-packages/sklearn/model_selection/_validation.py:562\u001b[0m, in \u001b[0;36mcross_val_score\u001b[0;34m(estimator, X, y, groups, scoring, cv, n_jobs, verbose, fit_params, pre_dispatch, error_score)\u001b[0m\n",
      "\u001b[1;32m    559\u001b[0m \u001b[38;5;66;03m# To ensure multimetric format is not supported\u001b[39;00m\n",
      "\u001b[1;32m    560\u001b[0m scorer \u001b[38;5;241m=\u001b[39m check_scoring(estimator, scoring\u001b[38;5;241m=\u001b[39mscoring)\n",
      "\u001b[0;32m--> 562\u001b[0m cv_results \u001b[38;5;241m=\u001b[39m \u001b[43mcross_validate\u001b[49m\u001b[43m(\u001b[49m\n",
      "\u001b[1;32m    563\u001b[0m \u001b[43m    \u001b[49m\u001b[43mestimator\u001b[49m\u001b[38;5;241;43m=\u001b[39;49m\u001b[43mestimator\u001b[49m\u001b[43m,\u001b[49m\n",
      "\u001b[1;32m    564\u001b[0m \u001b[43m    \u001b[49m\u001b[43mX\u001b[49m\u001b[38;5;241;43m=\u001b[39;49m\u001b[43mX\u001b[49m\u001b[43m,\u001b[49m\n",
      "\u001b[1;32m    565\u001b[0m \u001b[43m    \u001b[49m\u001b[43my\u001b[49m\u001b[38;5;241;43m=\u001b[39;49m\u001b[43my\u001b[49m\u001b[43m,\u001b[49m\n",
      "\u001b[1;32m    566\u001b[0m \u001b[43m    \u001b[49m\u001b[43mgroups\u001b[49m\u001b[38;5;241;43m=\u001b[39;49m\u001b[43mgroups\u001b[49m\u001b[43m,\u001b[49m\n",
      "\u001b[1;32m    567\u001b[0m \u001b[43m    \u001b[49m\u001b[43mscoring\u001b[49m\u001b[38;5;241;43m=\u001b[39;49m\u001b[43m{\u001b[49m\u001b[38;5;124;43m\"\u001b[39;49m\u001b[38;5;124;43mscore\u001b[39;49m\u001b[38;5;124;43m\"\u001b[39;49m\u001b[43m:\u001b[49m\u001b[43m \u001b[49m\u001b[43mscorer\u001b[49m\u001b[43m}\u001b[49m\u001b[43m,\u001b[49m\n",
      "\u001b[1;32m    568\u001b[0m \u001b[43m    \u001b[49m\u001b[43mcv\u001b[49m\u001b[38;5;241;43m=\u001b[39;49m\u001b[43mcv\u001b[49m\u001b[43m,\u001b[49m\n",
      "\u001b[1;32m    569\u001b[0m \u001b[43m    \u001b[49m\u001b[43mn_jobs\u001b[49m\u001b[38;5;241;43m=\u001b[39;49m\u001b[43mn_jobs\u001b[49m\u001b[43m,\u001b[49m\n",
      "\u001b[1;32m    570\u001b[0m \u001b[43m    \u001b[49m\u001b[43mverbose\u001b[49m\u001b[38;5;241;43m=\u001b[39;49m\u001b[43mverbose\u001b[49m\u001b[43m,\u001b[49m\n",
      "\u001b[1;32m    571\u001b[0m \u001b[43m    \u001b[49m\u001b[43mfit_params\u001b[49m\u001b[38;5;241;43m=\u001b[39;49m\u001b[43mfit_params\u001b[49m\u001b[43m,\u001b[49m\n",
      "\u001b[1;32m    572\u001b[0m \u001b[43m    \u001b[49m\u001b[43mpre_dispatch\u001b[49m\u001b[38;5;241;43m=\u001b[39;49m\u001b[43mpre_dispatch\u001b[49m\u001b[43m,\u001b[49m\n",
      "\u001b[1;32m    573\u001b[0m \u001b[43m    \u001b[49m\u001b[43merror_score\u001b[49m\u001b[38;5;241;43m=\u001b[39;49m\u001b[43merror_score\u001b[49m\u001b[43m,\u001b[49m\n",
      "\u001b[1;32m    574\u001b[0m \u001b[43m\u001b[49m\u001b[43m)\u001b[49m\n",
      "\u001b[1;32m    575\u001b[0m \u001b[38;5;28;01mreturn\u001b[39;00m cv_results[\u001b[38;5;124m\"\u001b[39m\u001b[38;5;124mtest_score\u001b[39m\u001b[38;5;124m\"\u001b[39m]\n",
      "\n",
      "File \u001b[0;32m~/.local/lib/python3.10/site-packages/sklearn/utils/_param_validation.py:214\u001b[0m, in \u001b[0;36mvalidate_params.<locals>.decorator.<locals>.wrapper\u001b[0;34m(*args, **kwargs)\u001b[0m\n",
      "\u001b[1;32m    208\u001b[0m \u001b[38;5;28;01mtry\u001b[39;00m:\n",
      "\u001b[1;32m    209\u001b[0m     \u001b[38;5;28;01mwith\u001b[39;00m config_context(\n",
      "\u001b[1;32m    210\u001b[0m         skip_parameter_validation\u001b[38;5;241m=\u001b[39m(\n",
      "\u001b[1;32m    211\u001b[0m             prefer_skip_nested_validation \u001b[38;5;129;01mor\u001b[39;00m global_skip_validation\n",
      "\u001b[1;32m    212\u001b[0m         )\n",
      "\u001b[1;32m    213\u001b[0m     ):\n",
      "\u001b[0;32m--> 214\u001b[0m         \u001b[38;5;28;01mreturn\u001b[39;00m \u001b[43mfunc\u001b[49m\u001b[43m(\u001b[49m\u001b[38;5;241;43m*\u001b[39;49m\u001b[43margs\u001b[49m\u001b[43m,\u001b[49m\u001b[43m \u001b[49m\u001b[38;5;241;43m*\u001b[39;49m\u001b[38;5;241;43m*\u001b[39;49m\u001b[43mkwargs\u001b[49m\u001b[43m)\u001b[49m\n",
      "\u001b[1;32m    215\u001b[0m \u001b[38;5;28;01mexcept\u001b[39;00m InvalidParameterError \u001b[38;5;28;01mas\u001b[39;00m e:\n",
      "\u001b[1;32m    216\u001b[0m     \u001b[38;5;66;03m# When the function is just a wrapper around an estimator, we allow\u001b[39;00m\n",
      "\u001b[1;32m    217\u001b[0m     \u001b[38;5;66;03m# the function to delegate validation to the estimator, but we replace\u001b[39;00m\n",
      "\u001b[1;32m    218\u001b[0m     \u001b[38;5;66;03m# the name of the estimator by the name of the function in the error\u001b[39;00m\n",
      "\u001b[1;32m    219\u001b[0m     \u001b[38;5;66;03m# message to avoid confusion.\u001b[39;00m\n",
      "\u001b[1;32m    220\u001b[0m     msg \u001b[38;5;241m=\u001b[39m re\u001b[38;5;241m.\u001b[39msub(\n",
      "\u001b[1;32m    221\u001b[0m         \u001b[38;5;124mr\u001b[39m\u001b[38;5;124m\"\u001b[39m\u001b[38;5;124mparameter of \u001b[39m\u001b[38;5;124m\\\u001b[39m\u001b[38;5;124mw+ must be\u001b[39m\u001b[38;5;124m\"\u001b[39m,\n",
      "\u001b[1;32m    222\u001b[0m         \u001b[38;5;124mf\u001b[39m\u001b[38;5;124m\"\u001b[39m\u001b[38;5;124mparameter of \u001b[39m\u001b[38;5;132;01m{\u001b[39;00mfunc\u001b[38;5;241m.\u001b[39m\u001b[38;5;18m__qualname__\u001b[39m\u001b[38;5;132;01m}\u001b[39;00m\u001b[38;5;124m must be\u001b[39m\u001b[38;5;124m\"\u001b[39m,\n",
      "\u001b[1;32m    223\u001b[0m         \u001b[38;5;28mstr\u001b[39m(e),\n",
      "\u001b[1;32m    224\u001b[0m     )\n",
      "\n",
      "File \u001b[0;32m~/.local/lib/python3.10/site-packages/sklearn/model_selection/_validation.py:309\u001b[0m, in \u001b[0;36mcross_validate\u001b[0;34m(estimator, X, y, groups, scoring, cv, n_jobs, verbose, fit_params, pre_dispatch, return_train_score, return_estimator, return_indices, error_score)\u001b[0m\n",
      "\u001b[1;32m    306\u001b[0m \u001b[38;5;66;03m# We clone the estimator to make sure that all the folds are\u001b[39;00m\n",
      "\u001b[1;32m    307\u001b[0m \u001b[38;5;66;03m# independent, and that it is pickle-able.\u001b[39;00m\n",
      "\u001b[1;32m    308\u001b[0m parallel \u001b[38;5;241m=\u001b[39m Parallel(n_jobs\u001b[38;5;241m=\u001b[39mn_jobs, verbose\u001b[38;5;241m=\u001b[39mverbose, pre_dispatch\u001b[38;5;241m=\u001b[39mpre_dispatch)\n",
      "\u001b[0;32m--> 309\u001b[0m results \u001b[38;5;241m=\u001b[39m \u001b[43mparallel\u001b[49m\u001b[43m(\u001b[49m\n",
      "\u001b[1;32m    310\u001b[0m \u001b[43m    \u001b[49m\u001b[43mdelayed\u001b[49m\u001b[43m(\u001b[49m\u001b[43m_fit_and_score\u001b[49m\u001b[43m)\u001b[49m\u001b[43m(\u001b[49m\n",
      "\u001b[1;32m    311\u001b[0m \u001b[43m        \u001b[49m\u001b[43mclone\u001b[49m\u001b[43m(\u001b[49m\u001b[43mestimator\u001b[49m\u001b[43m)\u001b[49m\u001b[43m,\u001b[49m\n",
      "\u001b[1;32m    312\u001b[0m \u001b[43m        \u001b[49m\u001b[43mX\u001b[49m\u001b[43m,\u001b[49m\n",
      "\u001b[1;32m    313\u001b[0m \u001b[43m        \u001b[49m\u001b[43my\u001b[49m\u001b[43m,\u001b[49m\n",
      "\u001b[1;32m    314\u001b[0m \u001b[43m        \u001b[49m\u001b[43mscorers\u001b[49m\u001b[43m,\u001b[49m\n",
      "\u001b[1;32m    315\u001b[0m \u001b[43m        \u001b[49m\u001b[43mtrain\u001b[49m\u001b[43m,\u001b[49m\n",
      "\u001b[1;32m    316\u001b[0m \u001b[43m        \u001b[49m\u001b[43mtest\u001b[49m\u001b[43m,\u001b[49m\n",
      "\u001b[1;32m    317\u001b[0m \u001b[43m        \u001b[49m\u001b[43mverbose\u001b[49m\u001b[43m,\u001b[49m\n",
      "\u001b[1;32m    318\u001b[0m \u001b[43m        \u001b[49m\u001b[38;5;28;43;01mNone\u001b[39;49;00m\u001b[43m,\u001b[49m\n",
      "\u001b[1;32m    319\u001b[0m \u001b[43m        \u001b[49m\u001b[43mfit_params\u001b[49m\u001b[43m,\u001b[49m\n",
      "\u001b[1;32m    320\u001b[0m \u001b[43m        \u001b[49m\u001b[43mreturn_train_score\u001b[49m\u001b[38;5;241;43m=\u001b[39;49m\u001b[43mreturn_train_score\u001b[49m\u001b[43m,\u001b[49m\n",
      "\u001b[1;32m    321\u001b[0m \u001b[43m        \u001b[49m\u001b[43mreturn_times\u001b[49m\u001b[38;5;241;43m=\u001b[39;49m\u001b[38;5;28;43;01mTrue\u001b[39;49;00m\u001b[43m,\u001b[49m\n",
      "\u001b[1;32m    322\u001b[0m \u001b[43m        \u001b[49m\u001b[43mreturn_estimator\u001b[49m\u001b[38;5;241;43m=\u001b[39;49m\u001b[43mreturn_estimator\u001b[49m\u001b[43m,\u001b[49m\n",
      "\u001b[1;32m    323\u001b[0m \u001b[43m        \u001b[49m\u001b[43merror_score\u001b[49m\u001b[38;5;241;43m=\u001b[39;49m\u001b[43merror_score\u001b[49m\u001b[43m,\u001b[49m\n",
      "\u001b[1;32m    324\u001b[0m \u001b[43m    \u001b[49m\u001b[43m)\u001b[49m\n",
      "\u001b[1;32m    325\u001b[0m \u001b[43m    \u001b[49m\u001b[38;5;28;43;01mfor\u001b[39;49;00m\u001b[43m \u001b[49m\u001b[43mtrain\u001b[49m\u001b[43m,\u001b[49m\u001b[43m \u001b[49m\u001b[43mtest\u001b[49m\u001b[43m \u001b[49m\u001b[38;5;129;43;01min\u001b[39;49;00m\u001b[43m \u001b[49m\u001b[43mindices\u001b[49m\n",
      "\u001b[1;32m    326\u001b[0m \u001b[43m\u001b[49m\u001b[43m)\u001b[49m\n",
      "\u001b[1;32m    328\u001b[0m _warn_or_raise_about_fit_failures(results, error_score)\n",
      "\u001b[1;32m    330\u001b[0m \u001b[38;5;66;03m# For callable scoring, the return type is only know after calling. If the\u001b[39;00m\n",
      "\u001b[1;32m    331\u001b[0m \u001b[38;5;66;03m# return type is a dictionary, the error scores can now be inserted with\u001b[39;00m\n",
      "\u001b[1;32m    332\u001b[0m \u001b[38;5;66;03m# the correct key.\u001b[39;00m\n",
      "\n",
      "File \u001b[0;32m~/.local/lib/python3.10/site-packages/sklearn/utils/parallel.py:65\u001b[0m, in \u001b[0;36mParallel.__call__\u001b[0;34m(self, iterable)\u001b[0m\n",
      "\u001b[1;32m     60\u001b[0m config \u001b[38;5;241m=\u001b[39m get_config()\n",
      "\u001b[1;32m     61\u001b[0m iterable_with_config \u001b[38;5;241m=\u001b[39m (\n",
      "\u001b[1;32m     62\u001b[0m     (_with_config(delayed_func, config), args, kwargs)\n",
      "\u001b[1;32m     63\u001b[0m     \u001b[38;5;28;01mfor\u001b[39;00m delayed_func, args, kwargs \u001b[38;5;129;01min\u001b[39;00m iterable\n",
      "\u001b[1;32m     64\u001b[0m )\n",
      "\u001b[0;32m---> 65\u001b[0m \u001b[38;5;28;01mreturn\u001b[39;00m \u001b[38;5;28;43msuper\u001b[39;49m\u001b[43m(\u001b[49m\u001b[43m)\u001b[49m\u001b[38;5;241;43m.\u001b[39;49m\u001b[38;5;21;43m__call__\u001b[39;49m\u001b[43m(\u001b[49m\u001b[43miterable_with_config\u001b[49m\u001b[43m)\u001b[49m\n",
      "\n",
      "File \u001b[0;32m~/.local/lib/python3.10/site-packages/joblib/parallel.py:1088\u001b[0m, in \u001b[0;36mParallel.__call__\u001b[0;34m(self, iterable)\u001b[0m\n",
      "\u001b[1;32m   1085\u001b[0m \u001b[38;5;28;01mif\u001b[39;00m \u001b[38;5;28mself\u001b[39m\u001b[38;5;241m.\u001b[39mdispatch_one_batch(iterator):\n",
      "\u001b[1;32m   1086\u001b[0m     \u001b[38;5;28mself\u001b[39m\u001b[38;5;241m.\u001b[39m_iterating \u001b[38;5;241m=\u001b[39m \u001b[38;5;28mself\u001b[39m\u001b[38;5;241m.\u001b[39m_original_iterator \u001b[38;5;129;01mis\u001b[39;00m \u001b[38;5;129;01mnot\u001b[39;00m \u001b[38;5;28;01mNone\u001b[39;00m\n",
      "\u001b[0;32m-> 1088\u001b[0m \u001b[38;5;28;01mwhile\u001b[39;00m \u001b[38;5;28;43mself\u001b[39;49m\u001b[38;5;241;43m.\u001b[39;49m\u001b[43mdispatch_one_batch\u001b[49m\u001b[43m(\u001b[49m\u001b[43miterator\u001b[49m\u001b[43m)\u001b[49m:\n",
      "\u001b[1;32m   1089\u001b[0m     \u001b[38;5;28;01mpass\u001b[39;00m\n",
      "\u001b[1;32m   1091\u001b[0m \u001b[38;5;28;01mif\u001b[39;00m pre_dispatch \u001b[38;5;241m==\u001b[39m \u001b[38;5;124m\"\u001b[39m\u001b[38;5;124mall\u001b[39m\u001b[38;5;124m\"\u001b[39m \u001b[38;5;129;01mor\u001b[39;00m n_jobs \u001b[38;5;241m==\u001b[39m \u001b[38;5;241m1\u001b[39m:\n",
      "\u001b[1;32m   1092\u001b[0m     \u001b[38;5;66;03m# The iterable was consumed all at once by the above for loop.\u001b[39;00m\n",
      "\u001b[1;32m   1093\u001b[0m     \u001b[38;5;66;03m# No need to wait for async callbacks to trigger to\u001b[39;00m\n",
      "\u001b[1;32m   1094\u001b[0m     \u001b[38;5;66;03m# consumption.\u001b[39;00m\n",
      "\n",
      "File \u001b[0;32m~/.local/lib/python3.10/site-packages/joblib/parallel.py:901\u001b[0m, in \u001b[0;36mParallel.dispatch_one_batch\u001b[0;34m(self, iterator)\u001b[0m\n",
      "\u001b[1;32m    899\u001b[0m     \u001b[38;5;28;01mreturn\u001b[39;00m \u001b[38;5;28;01mFalse\u001b[39;00m\n",
      "\u001b[1;32m    900\u001b[0m \u001b[38;5;28;01melse\u001b[39;00m:\n",
      "\u001b[0;32m--> 901\u001b[0m     \u001b[38;5;28;43mself\u001b[39;49m\u001b[38;5;241;43m.\u001b[39;49m\u001b[43m_dispatch\u001b[49m\u001b[43m(\u001b[49m\u001b[43mtasks\u001b[49m\u001b[43m)\u001b[49m\n",
      "\u001b[1;32m    902\u001b[0m     \u001b[38;5;28;01mreturn\u001b[39;00m \u001b[38;5;28;01mTrue\u001b[39;00m\n",
      "\n",
      "File \u001b[0;32m~/.local/lib/python3.10/site-packages/joblib/parallel.py:819\u001b[0m, in \u001b[0;36mParallel._dispatch\u001b[0;34m(self, batch)\u001b[0m\n",
      "\u001b[1;32m    817\u001b[0m \u001b[38;5;28;01mwith\u001b[39;00m \u001b[38;5;28mself\u001b[39m\u001b[38;5;241m.\u001b[39m_lock:\n",
      "\u001b[1;32m    818\u001b[0m     job_idx \u001b[38;5;241m=\u001b[39m \u001b[38;5;28mlen\u001b[39m(\u001b[38;5;28mself\u001b[39m\u001b[38;5;241m.\u001b[39m_jobs)\n",
      "\u001b[0;32m--> 819\u001b[0m     job \u001b[38;5;241m=\u001b[39m \u001b[38;5;28;43mself\u001b[39;49m\u001b[38;5;241;43m.\u001b[39;49m\u001b[43m_backend\u001b[49m\u001b[38;5;241;43m.\u001b[39;49m\u001b[43mapply_async\u001b[49m\u001b[43m(\u001b[49m\u001b[43mbatch\u001b[49m\u001b[43m,\u001b[49m\u001b[43m \u001b[49m\u001b[43mcallback\u001b[49m\u001b[38;5;241;43m=\u001b[39;49m\u001b[43mcb\u001b[49m\u001b[43m)\u001b[49m\n",
      "\u001b[1;32m    820\u001b[0m     \u001b[38;5;66;03m# A job can complete so quickly than its callback is\u001b[39;00m\n",
      "\u001b[1;32m    821\u001b[0m     \u001b[38;5;66;03m# called before we get here, causing self._jobs to\u001b[39;00m\n",
      "\u001b[1;32m    822\u001b[0m     \u001b[38;5;66;03m# grow. To ensure correct results ordering, .insert is\u001b[39;00m\n",
      "\u001b[1;32m    823\u001b[0m     \u001b[38;5;66;03m# used (rather than .append) in the following line\u001b[39;00m\n",
      "\u001b[1;32m    824\u001b[0m     \u001b[38;5;28mself\u001b[39m\u001b[38;5;241m.\u001b[39m_jobs\u001b[38;5;241m.\u001b[39minsert(job_idx, job)\n",
      "\n",
      "File \u001b[0;32m~/.local/lib/python3.10/site-packages/joblib/_parallel_backends.py:208\u001b[0m, in \u001b[0;36mSequentialBackend.apply_async\u001b[0;34m(self, func, callback)\u001b[0m\n",
      "\u001b[1;32m    206\u001b[0m \u001b[38;5;28;01mdef\u001b[39;00m \u001b[38;5;21mapply_async\u001b[39m(\u001b[38;5;28mself\u001b[39m, func, callback\u001b[38;5;241m=\u001b[39m\u001b[38;5;28;01mNone\u001b[39;00m):\n",
      "\u001b[1;32m    207\u001b[0m \u001b[38;5;250m    \u001b[39m\u001b[38;5;124;03m\"\"\"Schedule a func to be run\"\"\"\u001b[39;00m\n",
      "\u001b[0;32m--> 208\u001b[0m     result \u001b[38;5;241m=\u001b[39m \u001b[43mImmediateResult\u001b[49m\u001b[43m(\u001b[49m\u001b[43mfunc\u001b[49m\u001b[43m)\u001b[49m\n",
      "\u001b[1;32m    209\u001b[0m     \u001b[38;5;28;01mif\u001b[39;00m callback:\n",
      "\u001b[1;32m    210\u001b[0m         callback(result)\n",
      "\n",
      "File \u001b[0;32m~/.local/lib/python3.10/site-packages/joblib/_parallel_backends.py:597\u001b[0m, in \u001b[0;36mImmediateResult.__init__\u001b[0;34m(self, batch)\u001b[0m\n",
      "\u001b[1;32m    594\u001b[0m \u001b[38;5;28;01mdef\u001b[39;00m \u001b[38;5;21m__init__\u001b[39m(\u001b[38;5;28mself\u001b[39m, batch):\n",
      "\u001b[1;32m    595\u001b[0m     \u001b[38;5;66;03m# Don't delay the application, to avoid keeping the input\u001b[39;00m\n",
      "\u001b[1;32m    596\u001b[0m     \u001b[38;5;66;03m# arguments in memory\u001b[39;00m\n",
      "\u001b[0;32m--> 597\u001b[0m     \u001b[38;5;28mself\u001b[39m\u001b[38;5;241m.\u001b[39mresults \u001b[38;5;241m=\u001b[39m \u001b[43mbatch\u001b[49m\u001b[43m(\u001b[49m\u001b[43m)\u001b[49m\n",
      "\n",
      "File \u001b[0;32m~/.local/lib/python3.10/site-packages/joblib/parallel.py:288\u001b[0m, in \u001b[0;36mBatchedCalls.__call__\u001b[0;34m(self)\u001b[0m\n",
      "\u001b[1;32m    284\u001b[0m \u001b[38;5;28;01mdef\u001b[39;00m \u001b[38;5;21m__call__\u001b[39m(\u001b[38;5;28mself\u001b[39m):\n",
      "\u001b[1;32m    285\u001b[0m     \u001b[38;5;66;03m# Set the default nested backend to self._backend but do not set the\u001b[39;00m\n",
      "\u001b[1;32m    286\u001b[0m     \u001b[38;5;66;03m# change the default number of processes to -1\u001b[39;00m\n",
      "\u001b[1;32m    287\u001b[0m     \u001b[38;5;28;01mwith\u001b[39;00m parallel_backend(\u001b[38;5;28mself\u001b[39m\u001b[38;5;241m.\u001b[39m_backend, n_jobs\u001b[38;5;241m=\u001b[39m\u001b[38;5;28mself\u001b[39m\u001b[38;5;241m.\u001b[39m_n_jobs):\n",
      "\u001b[0;32m--> 288\u001b[0m         \u001b[38;5;28;01mreturn\u001b[39;00m [func(\u001b[38;5;241m*\u001b[39margs, \u001b[38;5;241m*\u001b[39m\u001b[38;5;241m*\u001b[39mkwargs)\n",
      "\u001b[1;32m    289\u001b[0m                 \u001b[38;5;28;01mfor\u001b[39;00m func, args, kwargs \u001b[38;5;129;01min\u001b[39;00m \u001b[38;5;28mself\u001b[39m\u001b[38;5;241m.\u001b[39mitems]\n",
      "\n",
      "File \u001b[0;32m~/.local/lib/python3.10/site-packages/joblib/parallel.py:288\u001b[0m, in \u001b[0;36m<listcomp>\u001b[0;34m(.0)\u001b[0m\n",
      "\u001b[1;32m    284\u001b[0m \u001b[38;5;28;01mdef\u001b[39;00m \u001b[38;5;21m__call__\u001b[39m(\u001b[38;5;28mself\u001b[39m):\n",
      "\u001b[1;32m    285\u001b[0m     \u001b[38;5;66;03m# Set the default nested backend to self._backend but do not set the\u001b[39;00m\n",
      "\u001b[1;32m    286\u001b[0m     \u001b[38;5;66;03m# change the default number of processes to -1\u001b[39;00m\n",
      "\u001b[1;32m    287\u001b[0m     \u001b[38;5;28;01mwith\u001b[39;00m parallel_backend(\u001b[38;5;28mself\u001b[39m\u001b[38;5;241m.\u001b[39m_backend, n_jobs\u001b[38;5;241m=\u001b[39m\u001b[38;5;28mself\u001b[39m\u001b[38;5;241m.\u001b[39m_n_jobs):\n",
      "\u001b[0;32m--> 288\u001b[0m         \u001b[38;5;28;01mreturn\u001b[39;00m [\u001b[43mfunc\u001b[49m\u001b[43m(\u001b[49m\u001b[38;5;241;43m*\u001b[39;49m\u001b[43margs\u001b[49m\u001b[43m,\u001b[49m\u001b[43m \u001b[49m\u001b[38;5;241;43m*\u001b[39;49m\u001b[38;5;241;43m*\u001b[39;49m\u001b[43mkwargs\u001b[49m\u001b[43m)\u001b[49m\n",
      "\u001b[1;32m    289\u001b[0m                 \u001b[38;5;28;01mfor\u001b[39;00m func, args, kwargs \u001b[38;5;129;01min\u001b[39;00m \u001b[38;5;28mself\u001b[39m\u001b[38;5;241m.\u001b[39mitems]\n",
      "\n",
      "File \u001b[0;32m~/.local/lib/python3.10/site-packages/sklearn/utils/parallel.py:127\u001b[0m, in \u001b[0;36m_FuncWrapper.__call__\u001b[0;34m(self, *args, **kwargs)\u001b[0m\n",
      "\u001b[1;32m    125\u001b[0m     config \u001b[38;5;241m=\u001b[39m {}\n",
      "\u001b[1;32m    126\u001b[0m \u001b[38;5;28;01mwith\u001b[39;00m config_context(\u001b[38;5;241m*\u001b[39m\u001b[38;5;241m*\u001b[39mconfig):\n",
      "\u001b[0;32m--> 127\u001b[0m     \u001b[38;5;28;01mreturn\u001b[39;00m \u001b[38;5;28;43mself\u001b[39;49m\u001b[38;5;241;43m.\u001b[39;49m\u001b[43mfunction\u001b[49m\u001b[43m(\u001b[49m\u001b[38;5;241;43m*\u001b[39;49m\u001b[43margs\u001b[49m\u001b[43m,\u001b[49m\u001b[43m \u001b[49m\u001b[38;5;241;43m*\u001b[39;49m\u001b[38;5;241;43m*\u001b[39;49m\u001b[43mkwargs\u001b[49m\u001b[43m)\u001b[49m\n",
      "\n",
      "File \u001b[0;32m~/.local/lib/python3.10/site-packages/sklearn/model_selection/_validation.py:729\u001b[0m, in \u001b[0;36m_fit_and_score\u001b[0;34m(estimator, X, y, scorer, train, test, verbose, parameters, fit_params, return_train_score, return_parameters, return_n_test_samples, return_times, return_estimator, split_progress, candidate_progress, error_score)\u001b[0m\n",
      "\u001b[1;32m    727\u001b[0m         estimator\u001b[38;5;241m.\u001b[39mfit(X_train, \u001b[38;5;241m*\u001b[39m\u001b[38;5;241m*\u001b[39mfit_params)\n",
      "\u001b[1;32m    728\u001b[0m     \u001b[38;5;28;01melse\u001b[39;00m:\n",
      "\u001b[0;32m--> 729\u001b[0m         \u001b[43mestimator\u001b[49m\u001b[38;5;241;43m.\u001b[39;49m\u001b[43mfit\u001b[49m\u001b[43m(\u001b[49m\u001b[43mX_train\u001b[49m\u001b[43m,\u001b[49m\u001b[43m \u001b[49m\u001b[43my_train\u001b[49m\u001b[43m,\u001b[49m\u001b[43m \u001b[49m\u001b[38;5;241;43m*\u001b[39;49m\u001b[38;5;241;43m*\u001b[39;49m\u001b[43mfit_params\u001b[49m\u001b[43m)\u001b[49m\n",
      "\u001b[1;32m    731\u001b[0m \u001b[38;5;28;01mexcept\u001b[39;00m \u001b[38;5;167;01mException\u001b[39;00m:\n",
      "\u001b[1;32m    732\u001b[0m     \u001b[38;5;66;03m# Note fit time as time until error\u001b[39;00m\n",
      "\u001b[1;32m    733\u001b[0m     fit_time \u001b[38;5;241m=\u001b[39m time\u001b[38;5;241m.\u001b[39mtime() \u001b[38;5;241m-\u001b[39m start_time\n",
      "\n",
      "File \u001b[0;32m~/.local/lib/python3.10/site-packages/sklearn/base.py:1152\u001b[0m, in \u001b[0;36m_fit_context.<locals>.decorator.<locals>.wrapper\u001b[0;34m(estimator, *args, **kwargs)\u001b[0m\n",
      "\u001b[1;32m   1145\u001b[0m     estimator\u001b[38;5;241m.\u001b[39m_validate_params()\n",
      "\u001b[1;32m   1147\u001b[0m \u001b[38;5;28;01mwith\u001b[39;00m config_context(\n",
      "\u001b[1;32m   1148\u001b[0m     skip_parameter_validation\u001b[38;5;241m=\u001b[39m(\n",
      "\u001b[1;32m   1149\u001b[0m         prefer_skip_nested_validation \u001b[38;5;129;01mor\u001b[39;00m global_skip_validation\n",
      "\u001b[1;32m   1150\u001b[0m     )\n",
      "\u001b[1;32m   1151\u001b[0m ):\n",
      "\u001b[0;32m-> 1152\u001b[0m     \u001b[38;5;28;01mreturn\u001b[39;00m \u001b[43mfit_method\u001b[49m\u001b[43m(\u001b[49m\u001b[43mestimator\u001b[49m\u001b[43m,\u001b[49m\u001b[43m \u001b[49m\u001b[38;5;241;43m*\u001b[39;49m\u001b[43margs\u001b[49m\u001b[43m,\u001b[49m\u001b[43m \u001b[49m\u001b[38;5;241;43m*\u001b[39;49m\u001b[38;5;241;43m*\u001b[39;49m\u001b[43mkwargs\u001b[49m\u001b[43m)\u001b[49m\n",
      "\n",
      "File \u001b[0;32m~/.local/lib/python3.10/site-packages/sklearn/pipeline.py:423\u001b[0m, in \u001b[0;36mPipeline.fit\u001b[0;34m(self, X, y, **fit_params)\u001b[0m\n",
      "\u001b[1;32m    397\u001b[0m \u001b[38;5;250m\u001b[39m\u001b[38;5;124;03m\"\"\"Fit the model.\u001b[39;00m\n",
      "\u001b[1;32m    398\u001b[0m \n",
      "\u001b[1;32m    399\u001b[0m \u001b[38;5;124;03mFit all the transformers one after the other and transform the\u001b[39;00m\n",
      "\u001b[0;32m   (...)\u001b[0m\n",
      "\u001b[1;32m    420\u001b[0m \u001b[38;5;124;03m    Pipeline with fitted steps.\u001b[39;00m\n",
      "\u001b[1;32m    421\u001b[0m \u001b[38;5;124;03m\"\"\"\u001b[39;00m\n",
      "\u001b[1;32m    422\u001b[0m fit_params_steps \u001b[38;5;241m=\u001b[39m \u001b[38;5;28mself\u001b[39m\u001b[38;5;241m.\u001b[39m_check_fit_params(\u001b[38;5;241m*\u001b[39m\u001b[38;5;241m*\u001b[39mfit_params)\n",
      "\u001b[0;32m--> 423\u001b[0m Xt \u001b[38;5;241m=\u001b[39m \u001b[38;5;28;43mself\u001b[39;49m\u001b[38;5;241;43m.\u001b[39;49m\u001b[43m_fit\u001b[49m\u001b[43m(\u001b[49m\u001b[43mX\u001b[49m\u001b[43m,\u001b[49m\u001b[43m \u001b[49m\u001b[43my\u001b[49m\u001b[43m,\u001b[49m\u001b[43m \u001b[49m\u001b[38;5;241;43m*\u001b[39;49m\u001b[38;5;241;43m*\u001b[39;49m\u001b[43mfit_params_steps\u001b[49m\u001b[43m)\u001b[49m\n",
      "\u001b[1;32m    424\u001b[0m \u001b[38;5;28;01mwith\u001b[39;00m _print_elapsed_time(\u001b[38;5;124m\"\u001b[39m\u001b[38;5;124mPipeline\u001b[39m\u001b[38;5;124m\"\u001b[39m, \u001b[38;5;28mself\u001b[39m\u001b[38;5;241m.\u001b[39m_log_message(\u001b[38;5;28mlen\u001b[39m(\u001b[38;5;28mself\u001b[39m\u001b[38;5;241m.\u001b[39msteps) \u001b[38;5;241m-\u001b[39m \u001b[38;5;241m1\u001b[39m)):\n",
      "\u001b[1;32m    425\u001b[0m     \u001b[38;5;28;01mif\u001b[39;00m \u001b[38;5;28mself\u001b[39m\u001b[38;5;241m.\u001b[39m_final_estimator \u001b[38;5;241m!=\u001b[39m \u001b[38;5;124m\"\u001b[39m\u001b[38;5;124mpassthrough\u001b[39m\u001b[38;5;124m\"\u001b[39m:\n",
      "\n",
      "File \u001b[0;32m~/.local/lib/python3.10/site-packages/sklearn/pipeline.py:377\u001b[0m, in \u001b[0;36mPipeline._fit\u001b[0;34m(self, X, y, **fit_params_steps)\u001b[0m\n",
      "\u001b[1;32m    375\u001b[0m     cloned_transformer \u001b[38;5;241m=\u001b[39m clone(transformer)\n",
      "\u001b[1;32m    376\u001b[0m \u001b[38;5;66;03m# Fit or load from cache the current transformer\u001b[39;00m\n",
      "\u001b[0;32m--> 377\u001b[0m X, fitted_transformer \u001b[38;5;241m=\u001b[39m \u001b[43mfit_transform_one_cached\u001b[49m\u001b[43m(\u001b[49m\n",
      "\u001b[1;32m    378\u001b[0m \u001b[43m    \u001b[49m\u001b[43mcloned_transformer\u001b[49m\u001b[43m,\u001b[49m\n",
      "\u001b[1;32m    379\u001b[0m \u001b[43m    \u001b[49m\u001b[43mX\u001b[49m\u001b[43m,\u001b[49m\n",
      "\u001b[1;32m    380\u001b[0m \u001b[43m    \u001b[49m\u001b[43my\u001b[49m\u001b[43m,\u001b[49m\n",
      "\u001b[1;32m    381\u001b[0m \u001b[43m    \u001b[49m\u001b[38;5;28;43;01mNone\u001b[39;49;00m\u001b[43m,\u001b[49m\n",
      "\u001b[1;32m    382\u001b[0m \u001b[43m    \u001b[49m\u001b[43mmessage_clsname\u001b[49m\u001b[38;5;241;43m=\u001b[39;49m\u001b[38;5;124;43m\"\u001b[39;49m\u001b[38;5;124;43mPipeline\u001b[39;49m\u001b[38;5;124;43m\"\u001b[39;49m\u001b[43m,\u001b[49m\n",
      "\u001b[1;32m    383\u001b[0m \u001b[43m    \u001b[49m\u001b[43mmessage\u001b[49m\u001b[38;5;241;43m=\u001b[39;49m\u001b[38;5;28;43mself\u001b[39;49m\u001b[38;5;241;43m.\u001b[39;49m\u001b[43m_log_message\u001b[49m\u001b[43m(\u001b[49m\u001b[43mstep_idx\u001b[49m\u001b[43m)\u001b[49m\u001b[43m,\u001b[49m\n",
      "\u001b[1;32m    384\u001b[0m \u001b[43m    \u001b[49m\u001b[38;5;241;43m*\u001b[39;49m\u001b[38;5;241;43m*\u001b[39;49m\u001b[43mfit_params_steps\u001b[49m\u001b[43m[\u001b[49m\u001b[43mname\u001b[49m\u001b[43m]\u001b[49m\u001b[43m,\u001b[49m\n",
      "\u001b[1;32m    385\u001b[0m \u001b[43m\u001b[49m\u001b[43m)\u001b[49m\n",
      "\u001b[1;32m    386\u001b[0m \u001b[38;5;66;03m# Replace the transformer of the step with the fitted\u001b[39;00m\n",
      "\u001b[1;32m    387\u001b[0m \u001b[38;5;66;03m# transformer. This is necessary when loading the transformer\u001b[39;00m\n",
      "\u001b[1;32m    388\u001b[0m \u001b[38;5;66;03m# from the cache.\u001b[39;00m\n",
      "\u001b[1;32m    389\u001b[0m \u001b[38;5;28mself\u001b[39m\u001b[38;5;241m.\u001b[39msteps[step_idx] \u001b[38;5;241m=\u001b[39m (name, fitted_transformer)\n",
      "\n",
      "File \u001b[0;32m~/.local/lib/python3.10/site-packages/joblib/memory.py:349\u001b[0m, in \u001b[0;36mNotMemorizedFunc.__call__\u001b[0;34m(self, *args, **kwargs)\u001b[0m\n",
      "\u001b[1;32m    348\u001b[0m \u001b[38;5;28;01mdef\u001b[39;00m \u001b[38;5;21m__call__\u001b[39m(\u001b[38;5;28mself\u001b[39m, \u001b[38;5;241m*\u001b[39margs, \u001b[38;5;241m*\u001b[39m\u001b[38;5;241m*\u001b[39mkwargs):\n",
      "\u001b[0;32m--> 349\u001b[0m     \u001b[38;5;28;01mreturn\u001b[39;00m \u001b[38;5;28;43mself\u001b[39;49m\u001b[38;5;241;43m.\u001b[39;49m\u001b[43mfunc\u001b[49m\u001b[43m(\u001b[49m\u001b[38;5;241;43m*\u001b[39;49m\u001b[43margs\u001b[49m\u001b[43m,\u001b[49m\u001b[43m \u001b[49m\u001b[38;5;241;43m*\u001b[39;49m\u001b[38;5;241;43m*\u001b[39;49m\u001b[43mkwargs\u001b[49m\u001b[43m)\u001b[49m\n",
      "\n",
      "File \u001b[0;32m~/.local/lib/python3.10/site-packages/sklearn/pipeline.py:957\u001b[0m, in \u001b[0;36m_fit_transform_one\u001b[0;34m(transformer, X, y, weight, message_clsname, message, **fit_params)\u001b[0m\n",
      "\u001b[1;32m    955\u001b[0m \u001b[38;5;28;01mwith\u001b[39;00m _print_elapsed_time(message_clsname, message):\n",
      "\u001b[1;32m    956\u001b[0m     \u001b[38;5;28;01mif\u001b[39;00m \u001b[38;5;28mhasattr\u001b[39m(transformer, \u001b[38;5;124m\"\u001b[39m\u001b[38;5;124mfit_transform\u001b[39m\u001b[38;5;124m\"\u001b[39m):\n",
      "\u001b[0;32m--> 957\u001b[0m         res \u001b[38;5;241m=\u001b[39m \u001b[43mtransformer\u001b[49m\u001b[38;5;241;43m.\u001b[39;49m\u001b[43mfit_transform\u001b[49m\u001b[43m(\u001b[49m\u001b[43mX\u001b[49m\u001b[43m,\u001b[49m\u001b[43m \u001b[49m\u001b[43my\u001b[49m\u001b[43m,\u001b[49m\u001b[43m \u001b[49m\u001b[38;5;241;43m*\u001b[39;49m\u001b[38;5;241;43m*\u001b[39;49m\u001b[43mfit_params\u001b[49m\u001b[43m)\u001b[49m\n",
      "\u001b[1;32m    958\u001b[0m     \u001b[38;5;28;01melse\u001b[39;00m:\n",
      "\u001b[1;32m    959\u001b[0m         res \u001b[38;5;241m=\u001b[39m transformer\u001b[38;5;241m.\u001b[39mfit(X, y, \u001b[38;5;241m*\u001b[39m\u001b[38;5;241m*\u001b[39mfit_params)\u001b[38;5;241m.\u001b[39mtransform(X)\n",
      "\n",
      "File \u001b[0;32m~/.local/lib/python3.10/site-packages/sklearn/utils/_set_output.py:157\u001b[0m, in \u001b[0;36m_wrap_method_output.<locals>.wrapped\u001b[0;34m(self, X, *args, **kwargs)\u001b[0m\n",
      "\u001b[1;32m    155\u001b[0m \u001b[38;5;129m@wraps\u001b[39m(f)\n",
      "\u001b[1;32m    156\u001b[0m \u001b[38;5;28;01mdef\u001b[39;00m \u001b[38;5;21mwrapped\u001b[39m(\u001b[38;5;28mself\u001b[39m, X, \u001b[38;5;241m*\u001b[39margs, \u001b[38;5;241m*\u001b[39m\u001b[38;5;241m*\u001b[39mkwargs):\n",
      "\u001b[0;32m--> 157\u001b[0m     data_to_wrap \u001b[38;5;241m=\u001b[39m \u001b[43mf\u001b[49m\u001b[43m(\u001b[49m\u001b[38;5;28;43mself\u001b[39;49m\u001b[43m,\u001b[49m\u001b[43m \u001b[49m\u001b[43mX\u001b[49m\u001b[43m,\u001b[49m\u001b[43m \u001b[49m\u001b[38;5;241;43m*\u001b[39;49m\u001b[43margs\u001b[49m\u001b[43m,\u001b[49m\u001b[43m \u001b[49m\u001b[38;5;241;43m*\u001b[39;49m\u001b[38;5;241;43m*\u001b[39;49m\u001b[43mkwargs\u001b[49m\u001b[43m)\u001b[49m\n",
      "\u001b[1;32m    158\u001b[0m     \u001b[38;5;28;01mif\u001b[39;00m \u001b[38;5;28misinstance\u001b[39m(data_to_wrap, \u001b[38;5;28mtuple\u001b[39m):\n",
      "\u001b[1;32m    159\u001b[0m         \u001b[38;5;66;03m# only wrap the first output for cross decomposition\u001b[39;00m\n",
      "\u001b[1;32m    160\u001b[0m         return_tuple \u001b[38;5;241m=\u001b[39m (\n",
      "\u001b[1;32m    161\u001b[0m             _wrap_data_with_container(method, data_to_wrap[\u001b[38;5;241m0\u001b[39m], X, \u001b[38;5;28mself\u001b[39m),\n",
      "\u001b[1;32m    162\u001b[0m             \u001b[38;5;241m*\u001b[39mdata_to_wrap[\u001b[38;5;241m1\u001b[39m:],\n",
      "\u001b[1;32m    163\u001b[0m         )\n",
      "\n",
      "File \u001b[0;32m~/.local/lib/python3.10/site-packages/sklearn/base.py:1152\u001b[0m, in \u001b[0;36m_fit_context.<locals>.decorator.<locals>.wrapper\u001b[0;34m(estimator, *args, **kwargs)\u001b[0m\n",
      "\u001b[1;32m   1145\u001b[0m     estimator\u001b[38;5;241m.\u001b[39m_validate_params()\n",
      "\u001b[1;32m   1147\u001b[0m \u001b[38;5;28;01mwith\u001b[39;00m config_context(\n",
      "\u001b[1;32m   1148\u001b[0m     skip_parameter_validation\u001b[38;5;241m=\u001b[39m(\n",
      "\u001b[1;32m   1149\u001b[0m         prefer_skip_nested_validation \u001b[38;5;129;01mor\u001b[39;00m global_skip_validation\n",
      "\u001b[1;32m   1150\u001b[0m     )\n",
      "\u001b[1;32m   1151\u001b[0m ):\n",
      "\u001b[0;32m-> 1152\u001b[0m     \u001b[38;5;28;01mreturn\u001b[39;00m \u001b[43mfit_method\u001b[49m\u001b[43m(\u001b[49m\u001b[43mestimator\u001b[49m\u001b[43m,\u001b[49m\u001b[43m \u001b[49m\u001b[38;5;241;43m*\u001b[39;49m\u001b[43margs\u001b[49m\u001b[43m,\u001b[49m\u001b[43m \u001b[49m\u001b[38;5;241;43m*\u001b[39;49m\u001b[38;5;241;43m*\u001b[39;49m\u001b[43mkwargs\u001b[49m\u001b[43m)\u001b[49m\n",
      "\n",
      "File \u001b[0;32m~/.local/lib/python3.10/site-packages/sklearn/decomposition/_pca.py:460\u001b[0m, in \u001b[0;36mPCA.fit_transform\u001b[0;34m(self, X, y)\u001b[0m\n",
      "\u001b[1;32m    437\u001b[0m \u001b[38;5;129m@_fit_context\u001b[39m(prefer_skip_nested_validation\u001b[38;5;241m=\u001b[39m\u001b[38;5;28;01mTrue\u001b[39;00m)\n",
      "\u001b[1;32m    438\u001b[0m \u001b[38;5;28;01mdef\u001b[39;00m \u001b[38;5;21mfit_transform\u001b[39m(\u001b[38;5;28mself\u001b[39m, X, y\u001b[38;5;241m=\u001b[39m\u001b[38;5;28;01mNone\u001b[39;00m):\n",
      "\u001b[1;32m    439\u001b[0m \u001b[38;5;250m    \u001b[39m\u001b[38;5;124;03m\"\"\"Fit the model with X and apply the dimensionality reduction on X.\u001b[39;00m\n",
      "\u001b[1;32m    440\u001b[0m \n",
      "\u001b[1;32m    441\u001b[0m \u001b[38;5;124;03m    Parameters\u001b[39;00m\n",
      "\u001b[0;32m   (...)\u001b[0m\n",
      "\u001b[1;32m    458\u001b[0m \u001b[38;5;124;03m    C-ordered array, use 'np.ascontiguousarray'.\u001b[39;00m\n",
      "\u001b[1;32m    459\u001b[0m \u001b[38;5;124;03m    \"\"\"\u001b[39;00m\n",
      "\u001b[0;32m--> 460\u001b[0m     U, S, Vt \u001b[38;5;241m=\u001b[39m \u001b[38;5;28;43mself\u001b[39;49m\u001b[38;5;241;43m.\u001b[39;49m\u001b[43m_fit\u001b[49m\u001b[43m(\u001b[49m\u001b[43mX\u001b[49m\u001b[43m)\u001b[49m\n",
      "\u001b[1;32m    461\u001b[0m     U \u001b[38;5;241m=\u001b[39m U[:, : \u001b[38;5;28mself\u001b[39m\u001b[38;5;241m.\u001b[39mn_components_]\n",
      "\u001b[1;32m    463\u001b[0m     \u001b[38;5;28;01mif\u001b[39;00m \u001b[38;5;28mself\u001b[39m\u001b[38;5;241m.\u001b[39mwhiten:\n",
      "\u001b[1;32m    464\u001b[0m         \u001b[38;5;66;03m# X_new = X * V / S * sqrt(n_samples) = U * sqrt(n_samples)\u001b[39;00m\n",
      "\n",
      "File \u001b[0;32m~/.local/lib/python3.10/site-packages/sklearn/decomposition/_pca.py:512\u001b[0m, in \u001b[0;36mPCA._fit\u001b[0;34m(self, X)\u001b[0m\n",
      "\u001b[1;32m    510\u001b[0m     \u001b[38;5;28;01mreturn\u001b[39;00m \u001b[38;5;28mself\u001b[39m\u001b[38;5;241m.\u001b[39m_fit_full(X, n_components)\n",
      "\u001b[1;32m    511\u001b[0m \u001b[38;5;28;01melif\u001b[39;00m \u001b[38;5;28mself\u001b[39m\u001b[38;5;241m.\u001b[39m_fit_svd_solver \u001b[38;5;129;01min\u001b[39;00m [\u001b[38;5;124m\"\u001b[39m\u001b[38;5;124marpack\u001b[39m\u001b[38;5;124m\"\u001b[39m, \u001b[38;5;124m\"\u001b[39m\u001b[38;5;124mrandomized\u001b[39m\u001b[38;5;124m\"\u001b[39m]:\n",
      "\u001b[0;32m--> 512\u001b[0m     \u001b[38;5;28;01mreturn\u001b[39;00m \u001b[38;5;28;43mself\u001b[39;49m\u001b[38;5;241;43m.\u001b[39;49m\u001b[43m_fit_truncated\u001b[49m\u001b[43m(\u001b[49m\u001b[43mX\u001b[49m\u001b[43m,\u001b[49m\u001b[43m \u001b[49m\u001b[43mn_components\u001b[49m\u001b[43m,\u001b[49m\u001b[43m \u001b[49m\u001b[38;5;28;43mself\u001b[39;49m\u001b[38;5;241;43m.\u001b[39;49m\u001b[43m_fit_svd_solver\u001b[49m\u001b[43m)\u001b[49m\n",
      "\n",
      "File \u001b[0;32m~/.local/lib/python3.10/site-packages/sklearn/decomposition/_pca.py:616\u001b[0m, in \u001b[0;36mPCA._fit_truncated\u001b[0;34m(self, X, n_components, svd_solver)\u001b[0m\n",
      "\u001b[1;32m    612\u001b[0m     U, Vt \u001b[38;5;241m=\u001b[39m svd_flip(U[:, ::\u001b[38;5;241m-\u001b[39m\u001b[38;5;241m1\u001b[39m], Vt[::\u001b[38;5;241m-\u001b[39m\u001b[38;5;241m1\u001b[39m])\n",
      "\u001b[1;32m    614\u001b[0m \u001b[38;5;28;01melif\u001b[39;00m svd_solver \u001b[38;5;241m==\u001b[39m \u001b[38;5;124m\"\u001b[39m\u001b[38;5;124mrandomized\u001b[39m\u001b[38;5;124m\"\u001b[39m:\n",
      "\u001b[1;32m    615\u001b[0m     \u001b[38;5;66;03m# sign flipping is done inside\u001b[39;00m\n",
      "\u001b[0;32m--> 616\u001b[0m     U, S, Vt \u001b[38;5;241m=\u001b[39m \u001b[43mrandomized_svd\u001b[49m\u001b[43m(\u001b[49m\n",
      "\u001b[1;32m    617\u001b[0m \u001b[43m        \u001b[49m\u001b[43mX\u001b[49m\u001b[43m,\u001b[49m\n",
      "\u001b[1;32m    618\u001b[0m \u001b[43m        \u001b[49m\u001b[43mn_components\u001b[49m\u001b[38;5;241;43m=\u001b[39;49m\u001b[43mn_components\u001b[49m\u001b[43m,\u001b[49m\n",
      "\u001b[1;32m    619\u001b[0m \u001b[43m        \u001b[49m\u001b[43mn_oversamples\u001b[49m\u001b[38;5;241;43m=\u001b[39;49m\u001b[38;5;28;43mself\u001b[39;49m\u001b[38;5;241;43m.\u001b[39;49m\u001b[43mn_oversamples\u001b[49m\u001b[43m,\u001b[49m\n",
      "\u001b[1;32m    620\u001b[0m \u001b[43m        \u001b[49m\u001b[43mn_iter\u001b[49m\u001b[38;5;241;43m=\u001b[39;49m\u001b[38;5;28;43mself\u001b[39;49m\u001b[38;5;241;43m.\u001b[39;49m\u001b[43miterated_power\u001b[49m\u001b[43m,\u001b[49m\n",
      "\u001b[1;32m    621\u001b[0m \u001b[43m        \u001b[49m\u001b[43mpower_iteration_normalizer\u001b[49m\u001b[38;5;241;43m=\u001b[39;49m\u001b[38;5;28;43mself\u001b[39;49m\u001b[38;5;241;43m.\u001b[39;49m\u001b[43mpower_iteration_normalizer\u001b[49m\u001b[43m,\u001b[49m\n",
      "\u001b[1;32m    622\u001b[0m \u001b[43m        \u001b[49m\u001b[43mflip_sign\u001b[49m\u001b[38;5;241;43m=\u001b[39;49m\u001b[38;5;28;43;01mTrue\u001b[39;49;00m\u001b[43m,\u001b[49m\n",
      "\u001b[1;32m    623\u001b[0m \u001b[43m        \u001b[49m\u001b[43mrandom_state\u001b[49m\u001b[38;5;241;43m=\u001b[39;49m\u001b[43mrandom_state\u001b[49m\u001b[43m,\u001b[49m\n",
      "\u001b[1;32m    624\u001b[0m \u001b[43m    \u001b[49m\u001b[43m)\u001b[49m\n",
      "\u001b[1;32m    626\u001b[0m \u001b[38;5;28mself\u001b[39m\u001b[38;5;241m.\u001b[39mn_samples_ \u001b[38;5;241m=\u001b[39m n_samples\n",
      "\u001b[1;32m    627\u001b[0m \u001b[38;5;28mself\u001b[39m\u001b[38;5;241m.\u001b[39mcomponents_ \u001b[38;5;241m=\u001b[39m Vt\n",
      "\n",
      "File \u001b[0;32m~/.local/lib/python3.10/site-packages/sklearn/utils/extmath.py:449\u001b[0m, in \u001b[0;36mrandomized_svd\u001b[0;34m(M, n_components, n_oversamples, n_iter, power_iteration_normalizer, transpose, flip_sign, random_state, svd_lapack_driver)\u001b[0m\n",
      "\u001b[1;32m    445\u001b[0m \u001b[38;5;28;01mif\u001b[39;00m transpose:\n",
      "\u001b[1;32m    446\u001b[0m     \u001b[38;5;66;03m# this implementation is a bit faster with smaller shape[1]\u001b[39;00m\n",
      "\u001b[1;32m    447\u001b[0m     M \u001b[38;5;241m=\u001b[39m M\u001b[38;5;241m.\u001b[39mT\n",
      "\u001b[0;32m--> 449\u001b[0m Q \u001b[38;5;241m=\u001b[39m \u001b[43mrandomized_range_finder\u001b[49m\u001b[43m(\u001b[49m\n",
      "\u001b[1;32m    450\u001b[0m \u001b[43m    \u001b[49m\u001b[43mM\u001b[49m\u001b[43m,\u001b[49m\n",
      "\u001b[1;32m    451\u001b[0m \u001b[43m    \u001b[49m\u001b[43msize\u001b[49m\u001b[38;5;241;43m=\u001b[39;49m\u001b[43mn_random\u001b[49m\u001b[43m,\u001b[49m\n",
      "\u001b[1;32m    452\u001b[0m \u001b[43m    \u001b[49m\u001b[43mn_iter\u001b[49m\u001b[38;5;241;43m=\u001b[39;49m\u001b[43mn_iter\u001b[49m\u001b[43m,\u001b[49m\n",
      "\u001b[1;32m    453\u001b[0m \u001b[43m    \u001b[49m\u001b[43mpower_iteration_normalizer\u001b[49m\u001b[38;5;241;43m=\u001b[39;49m\u001b[43mpower_iteration_normalizer\u001b[49m\u001b[43m,\u001b[49m\n",
      "\u001b[1;32m    454\u001b[0m \u001b[43m    \u001b[49m\u001b[43mrandom_state\u001b[49m\u001b[38;5;241;43m=\u001b[39;49m\u001b[43mrandom_state\u001b[49m\u001b[43m,\u001b[49m\n",
      "\u001b[1;32m    455\u001b[0m \u001b[43m\u001b[49m\u001b[43m)\u001b[49m\n",
      "\u001b[1;32m    457\u001b[0m \u001b[38;5;66;03m# project M to the (k + p) dimensional space using the basis vectors\u001b[39;00m\n",
      "\u001b[1;32m    458\u001b[0m B \u001b[38;5;241m=\u001b[39m safe_sparse_dot(Q\u001b[38;5;241m.\u001b[39mT, M)\n",
      "\n",
      "File \u001b[0;32m~/.local/lib/python3.10/site-packages/sklearn/utils/extmath.py:277\u001b[0m, in \u001b[0;36mrandomized_range_finder\u001b[0;34m(A, size, n_iter, power_iteration_normalizer, random_state)\u001b[0m\n",
      "\u001b[1;32m    275\u001b[0m     Q \u001b[38;5;241m=\u001b[39m safe_sparse_dot(A\u001b[38;5;241m.\u001b[39mT, Q)\n",
      "\u001b[1;32m    276\u001b[0m \u001b[38;5;28;01melif\u001b[39;00m power_iteration_normalizer \u001b[38;5;241m==\u001b[39m \u001b[38;5;124m\"\u001b[39m\u001b[38;5;124mLU\u001b[39m\u001b[38;5;124m\"\u001b[39m:\n",
      "\u001b[0;32m--> 277\u001b[0m     Q, _ \u001b[38;5;241m=\u001b[39m linalg\u001b[38;5;241m.\u001b[39mlu(\u001b[43msafe_sparse_dot\u001b[49m\u001b[43m(\u001b[49m\u001b[43mA\u001b[49m\u001b[43m,\u001b[49m\u001b[43m \u001b[49m\u001b[43mQ\u001b[49m\u001b[43m)\u001b[49m, permute_l\u001b[38;5;241m=\u001b[39m\u001b[38;5;28;01mTrue\u001b[39;00m)\n",
      "\u001b[1;32m    278\u001b[0m     Q, _ \u001b[38;5;241m=\u001b[39m linalg\u001b[38;5;241m.\u001b[39mlu(safe_sparse_dot(A\u001b[38;5;241m.\u001b[39mT, Q), permute_l\u001b[38;5;241m=\u001b[39m\u001b[38;5;28;01mTrue\u001b[39;00m)\n",
      "\u001b[1;32m    279\u001b[0m \u001b[38;5;28;01melif\u001b[39;00m power_iteration_normalizer \u001b[38;5;241m==\u001b[39m \u001b[38;5;124m\"\u001b[39m\u001b[38;5;124mQR\u001b[39m\u001b[38;5;124m\"\u001b[39m:\n",
      "\n",
      "File \u001b[0;32m~/.local/lib/python3.10/site-packages/sklearn/utils/extmath.py:195\u001b[0m, in \u001b[0;36msafe_sparse_dot\u001b[0;34m(a, b, dense_output)\u001b[0m\n",
      "\u001b[1;32m    191\u001b[0m \u001b[38;5;28;01melse\u001b[39;00m:\n",
      "\u001b[1;32m    192\u001b[0m     ret \u001b[38;5;241m=\u001b[39m a \u001b[38;5;241m@\u001b[39m b\n",
      "\u001b[1;32m    194\u001b[0m \u001b[38;5;28;01mif\u001b[39;00m (\n",
      "\u001b[0;32m--> 195\u001b[0m     \u001b[43msparse\u001b[49m\u001b[38;5;241;43m.\u001b[39;49m\u001b[43missparse\u001b[49m\u001b[43m(\u001b[49m\u001b[43ma\u001b[49m\u001b[43m)\u001b[49m\n",
      "\u001b[1;32m    196\u001b[0m     \u001b[38;5;129;01mand\u001b[39;00m sparse\u001b[38;5;241m.\u001b[39missparse(b)\n",
      "\u001b[1;32m    197\u001b[0m     \u001b[38;5;129;01mand\u001b[39;00m dense_output\n",
      "\u001b[1;32m    198\u001b[0m     \u001b[38;5;129;01mand\u001b[39;00m \u001b[38;5;28mhasattr\u001b[39m(ret, \u001b[38;5;124m\"\u001b[39m\u001b[38;5;124mtoarray\u001b[39m\u001b[38;5;124m\"\u001b[39m)\n",
      "\u001b[1;32m    199\u001b[0m ):\n",
      "\u001b[1;32m    200\u001b[0m     \u001b[38;5;28;01mreturn\u001b[39;00m ret\u001b[38;5;241m.\u001b[39mtoarray()\n",
      "\u001b[1;32m    201\u001b[0m \u001b[38;5;28;01mreturn\u001b[39;00m ret\n",
      "\n",
      "File \u001b[0;32m~/.local/lib/python3.10/site-packages/scipy/sparse/_base.py:1301\u001b[0m, in \u001b[0;36misspmatrix\u001b[0;34m(x)\u001b[0m\n",
      "\u001b[1;32m   1297\u001b[0m         \u001b[38;5;28;01melse\u001b[39;00m:\n",
      "\u001b[1;32m   1298\u001b[0m             \u001b[38;5;28;01mreturn\u001b[39;00m np\u001b[38;5;241m.\u001b[39mzeros(\u001b[38;5;28mself\u001b[39m\u001b[38;5;241m.\u001b[39mshape, dtype\u001b[38;5;241m=\u001b[39m\u001b[38;5;28mself\u001b[39m\u001b[38;5;241m.\u001b[39mdtype, order\u001b[38;5;241m=\u001b[39morder)\n",
      "\u001b[0;32m-> 1301\u001b[0m \u001b[38;5;28;01mdef\u001b[39;00m \u001b[38;5;21misspmatrix\u001b[39m(x):\n",
      "\u001b[1;32m   1302\u001b[0m \u001b[38;5;250m    \u001b[39m\u001b[38;5;124;03m\"\"\"Is x of a sparse matrix type?\u001b[39;00m\n",
      "\u001b[1;32m   1303\u001b[0m \n",
      "\u001b[1;32m   1304\u001b[0m \u001b[38;5;124;03m    Parameters\u001b[39;00m\n",
      "\u001b[0;32m   (...)\u001b[0m\n",
      "\u001b[1;32m   1326\u001b[0m \u001b[38;5;124;03m    False\u001b[39;00m\n",
      "\u001b[1;32m   1327\u001b[0m \u001b[38;5;124;03m    \"\"\"\u001b[39;00m\n",
      "\u001b[1;32m   1328\u001b[0m     \u001b[38;5;28;01mreturn\u001b[39;00m \u001b[38;5;28misinstance\u001b[39m(x, spmatrix)\n",
      "\n",
      "\u001b[0;31mKeyboardInterrupt\u001b[0m: "
     ]
    }
   ],
   "source": [
    "##Mislabel fraction 0.2, 90/10 split\n",
    "mislabel_fraction = 0.2\n",
    "X_train, X_test, y_train, y_test = pre_process(df, labels_df, 0.9)\n",
    "y_train_noise = mislabel(mislabel_fraction, y_train)\n",
    "\n",
    "KNN_PCA(X_train, X_test, y_train_noise, y_test)\n",
    "KNN_features(X_train, X_test, y_train_noise, y_test)\n",
    "SVC_PCA(X_train, X_test, y_train_noise, y_test)\n",
    "SVC_features(X_train, X_test, y_train_noise, y_test)\n",
    "LR_PCA(X_train, X_test, y_train_noise, y_test)\n",
    "LR_features(X_train, X_test, y_train_noise, y_test)"
   ]
  },
  {
   "cell_type": "code",
   "execution_count": null,
   "metadata": {},
   "outputs": [],
   "source": [
    "##Mislabel fraction 0.4, 70/30 split\n",
    "mislabel_fraction = 0.4\n",
    "X_train, X_test, y_train, y_test = pre_process(df, labels_df, 0.7)\n",
    "y_train_noise = mislabel(mislabel_fraction, y_train)\n",
    "\n",
    "KNN_PCA(X_train, X_test, y_train_noise, y_test)\n",
    "KNN_features(X_train, X_test, y_train_noise, y_test)\n",
    "SVC_PCA(X_train, X_test, y_train_noise, y_test)\n",
    "SVC_features(X_train, X_test, y_train_noise, y_test)\n",
    "LR_PCA(X_train, X_test, y_train_noise, y_test)\n",
    "LR_features(X_train, X_test, y_train_noise, y_test)"
   ]
  },
  {
   "cell_type": "code",
   "execution_count": null,
   "metadata": {},
   "outputs": [],
   "source": [
    "##Mislabel fraction 0.4, 80/20 split\n",
    "mislabel_fraction = 0.4\n",
    "X_train, X_test, y_train, y_test = pre_process(df, labels_df, 0.8)\n",
    "y_train_noise = mislabel(mislabel_fraction, y_train)\n",
    "\n",
    "KNN_PCA(X_train, X_test, y_train_noise, y_test)\n",
    "KNN_features(X_train, X_test, y_train_noise, y_test)\n",
    "SVC_PCA(X_train, X_test, y_train_noise, y_test)\n",
    "SVC_features(X_train, X_test, y_train_noise, y_test)\n",
    "LR_PCA(X_train, X_test, y_train_noise, y_test)\n",
    "LR_features(X_train, X_test, y_train_noise, y_test)"
   ]
  },
  {
   "cell_type": "code",
   "execution_count": null,
   "metadata": {},
   "outputs": [],
   "source": [
    "##Mislabel fraction 0.4, 90/10 split\n",
    "mislabel_fraction = 0.4\n",
    "X_train, X_test, y_train, y_test = pre_process(df, labels_df, 0.9)\n",
    "y_train_noise = mislabel(mislabel_fraction, y_train)\n",
    "\n",
    "KNN_PCA(X_train, X_test, y_train_noise, y_test)\n",
    "KNN_features(X_train, X_test, y_train_noise, y_test)\n",
    "SVC_PCA(X_train, X_test, y_train_noise, y_test)\n",
    "SVC_features(X_train, X_test, y_train_noise, y_test)\n",
    "LR_PCA(X_train, X_test, y_train_noise, y_test)\n",
    "LR_features(X_train, X_test, y_train_noise, y_test)"
   ]
  },
  {
   "cell_type": "code",
   "execution_count": null,
   "metadata": {},
   "outputs": [],
   "source": [
    "##Mislabel fraction 0.6, 70/30 split\n",
    "mislabel_fraction = 0.6\n",
    "X_train, X_test, y_train, y_test = pre_process(df, labels_df, 0.7)\n",
    "y_train_noise = mislabel(mislabel_fraction, y_train)\n",
    "\n",
    "KNN_PCA(X_train, X_test, y_train_noise, y_test)\n",
    "KNN_features(X_train, X_test, y_train_noise, y_test)\n",
    "SVC_PCA(X_train, X_test, y_train_noise, y_test)\n",
    "SVC_features(X_train, X_test, y_train_noise, y_test)\n",
    "LR_PCA(X_train, X_test, y_train_noise, y_test)\n",
    "LR_features(X_train, X_test, y_train_noise, y_test)"
   ]
  },
  {
   "cell_type": "code",
   "execution_count": null,
   "metadata": {},
   "outputs": [],
   "source": [
    "##Mislabel fraction 0.6, 80/20 split\n",
    "mislabel_fraction = 0.6\n",
    "X_train, X_test, y_train, y_test = pre_process(df, labels_df, 0.8)\n",
    "y_train_noise = mislabel(mislabel_fraction, y_train)\n",
    "\n",
    "KNN_PCA(X_train, X_test, y_train_noise, y_test)\n",
    "KNN_features(X_train, X_test, y_train_noise, y_test)\n",
    "SVC_PCA(X_train, X_test, y_train_noise, y_test)\n",
    "SVC_features(X_train, X_test, y_train_noise, y_test)\n",
    "LR_PCA(X_train, X_test, y_train_noise, y_test)\n",
    "LR_features(X_train, X_test, y_train_noise, y_test)"
   ]
  },
  {
   "cell_type": "code",
   "execution_count": null,
   "metadata": {},
   "outputs": [],
   "source": [
    "##Mislabel fraction 0.6, 90/10 split\n",
    "mislabel_fraction = 0.6\n",
    "X_train, X_test, y_train, y_test = pre_process(df, labels_df, 0.9)\n",
    "y_train_noise = mislabel(mislabel_fraction, y_train)\n",
    "\n",
    "KNN_PCA(X_train, X_test, y_train_noise, y_test)\n",
    "KNN_features(X_train, X_test, y_train_noise, y_test)\n",
    "SVC_PCA(X_train, X_test, y_train_noise, y_test)\n",
    "SVC_features(X_train, X_test, y_train_noise, y_test)\n",
    "LR_PCA(X_train, X_test, y_train_noise, y_test)\n",
    "LR_features(X_train, X_test, y_train_noise, y_test)"
   ]
  }
 ],
 "metadata": {
  "kernelspec": {
   "display_name": "Python 3",
   "language": "python",
   "name": "python3"
  },
  "language_info": {
   "name": "python",
   "version": "3.11.0"
  }
 },
 "nbformat": 4,
 "nbformat_minor": 2
}
