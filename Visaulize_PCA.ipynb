{
 "cells": [
  {
   "cell_type": "code",
   "execution_count": null,
   "id": "98de5bdb-a7e7-4383-8284-3327f5120425",
   "metadata": {},
   "outputs": [],
   "source": [
    "import pandas as pd\n",
    "import numpy as np\n",
    "from sklearn.preprocessing import StandardScaler\n",
    "from sklearn.model_selection import train_test_split, cross_val_score\n",
    "from sklearn.metrics import accuracy_score\n",
    "from sklearn.pipeline import make_pipeline\n",
    "from sklearn.decomposition import PCA\n",
    "from sklearn.neighbors import KNeighborsClassifier\n",
    "from sklearn.svm import SVC  \n",
    "from sklearn.linear_model import LogisticRegression\n",
    "from sklearn.feature_selection import SelectKBest, f_classif\n",
    "from tqdm import tqdm\n",
    "\n",
    "#features = [f\"V{x}\" for x in range(1,2000)]\n",
    "df = pd.read_csv('Data/TCGAdata.txt', sep=\" \" ,header=0)\n",
    "labels_df = pd.read_csv('Data/TCGAlabels', sep=\" \" ,header=0)\n",
    "\n",
    "import matplotlib.pyplot as plt\n",
    "\n",
    "pca = PCA(n_components = 6)\n",
    "X = pca.fit_transform(df)\n",
    "\n",
    "print(labels_df)\n",
    "colors = np.zeros(labels_df.size)\n",
    "print(colors)\n",
    "for i in range(labels_df.size):\n",
    "    colors[i] = 0.2*(labels_df.iloc[i] == 'GBM') + 0.4*(labels_df.iloc[i] == 'BC') + 0.6*(labels_df.iloc[i] == 'OV') + 0.8*(labels_df.iloc[i] == 'LU') + 1.0*(labels_df.iloc[i] == 'KI')\n",
    "\n",
    "plt.subplot(1,3,1)\n",
    "plt.scatter(X[:,0], X[:,1], c=colors)\n",
    "plt.subplot(1,3,2)\n",
    "plt.scatter(X[:,2], X[:,3], c=colors)\n",
    "plt.subplot(1,3,3)\n",
    "plt.scatter(X[:,4], X[:,5], c=colors)"
   ]
  }
 ],
 "metadata": {
  "kernelspec": {
   "display_name": "Python 3 (ipykernel)",
   "language": "python",
   "name": "python3"
  },
  "language_info": {
   "codemirror_mode": {
    "name": "ipython",
    "version": 3
   },
   "file_extension": ".py",
   "mimetype": "text/x-python",
   "name": "python",
   "nbconvert_exporter": "python",
   "pygments_lexer": "ipython3",
   "version": "3.10.12"
  }
 },
 "nbformat": 4,
 "nbformat_minor": 5
}
